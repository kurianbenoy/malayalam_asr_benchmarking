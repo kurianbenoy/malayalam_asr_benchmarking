{
 "cells": [
  {
   "cell_type": "code",
   "execution_count": null,
   "metadata": {},
   "outputs": [
    {
     "name": "stderr",
     "output_type": "stream",
     "text": [
      "/home/kurianbenoy/mambaforge/lib/python3.10/site-packages/tqdm/auto.py:22: TqdmWarning: IProgress not found. Please update jupyter and ipywidgets. See https://ipywidgets.readthedocs.io/en/stable/user_install.html\n",
      "  from .autonotebook import tqdm as notebook_tqdm\n"
     ]
    }
   ],
   "source": [
    "#| hide\n",
    "from malayalam_asr_benchmarking.utils import *\n",
    "from malayalam_asr_benchmarking.commonvoice import evaluate_whisper_model_common_voice"
   ]
  },
  {
   "attachments": {},
   "cell_type": "markdown",
   "metadata": {},
   "source": [
    "# malayalam_asr_benchmarking\n",
    "\n",
    "> A study to benchmark whisper based ASRs in Malayalam\n"
   ]
  },
  {
   "cell_type": "markdown",
   "metadata": {},
   "source": [
    "\n",
    "The work is still in progress. I have now done some benchmarking for [Common Voice 11 Malayalam dataset](https://huggingface.co/datasets/mozilla-foundation/common_voice_11_0/viewer/ml/train). \n",
    "The benchmarking results has been [uploaded to hugging face as a dataset](https://huggingface.co/datasets/kurianbenoy/malayalam_common_voice_benchmarking). At the moment I am working on benchmarking [Malayalam Speech Corpus](https://msc.smc.org.in/) dataset as well. The benchmarking results once completed will be uploaded to huggingface datasets in the same manner."
   ]
  },
  {
   "cell_type": "markdown",
   "metadata": {},
   "source": [
    "## Install"
   ]
  },
  {
   "cell_type": "markdown",
   "metadata": {},
   "source": [
    "```sh\n",
    "pip install malayalam_asr_benchmarking\n",
    "```\n",
    "\n",
    "Or locally\n",
    "\n",
    "```sh\n",
    "pip install -e .\n",
    "```"
   ]
  },
  {
   "cell_type": "markdown",
   "metadata": {},
   "source": [
    "## Setting up your development environment\n",
    "\n",
    "I am developing this project with nbdev. Please take some time reading up on nbdev … how it works,\n",
    "[directives](https://nbdev.fast.ai/explanations/directives.html), etc…\n",
    "by checking out [the walk-thrus](https://nbdev.fast.ai/tutorials/tutorial.html) and [tutorials](https://nbdev.fast.ai/tutorials/) on the [nbdev website](https://nbdev.fast.ai/)\n",
    "\n",
    "\n",
    "### Step 1: Install Quarto:\n",
    "\n",
    "`nbdev_install_quarto`\n",
    "\n",
    "[Other options are mentioned in getting started to quarto](https://quarto.org/docs/get-started/)\n",
    "\n",
    "## Step 2: Install hooks\n",
    "\n",
    "`nbdev_install_hooks`\n",
    "\n",
    "\n",
    "## Step 3: Install our library\n",
    "\n",
    "`pip install -e '.[dev]'`\n"
   ]
  },
  {
   "cell_type": "markdown",
   "metadata": {},
   "source": [
    "## How to use"
   ]
  },
  {
   "cell_type": "code",
   "execution_count": null,
   "metadata": {},
   "outputs": [
    {
     "name": "stderr",
     "output_type": "stream",
     "text": [
      "Found cached dataset common_voice_11_0 (/home/.cache/huggingface/datasets/mozilla-foundation___common_voice_11_0/ml/11.0.0/2c65b95d99ca879b1b1074ea197b65e0497848fd697fdb0582e0f6b75b6f4da0)\n",
      "Loading cached processed dataset at /home/.cache/huggingface/datasets/mozilla-foundation___common_voice_11_0/ml/11.0.0/2c65b95d99ca879b1b1074ea197b65e0497848fd697fdb0582e0f6b75b6f4da0/cache-374585c2877047e3.arrow\n",
      "Loading cached processed dataset at /home/.cache/huggingface/datasets/mozilla-foundation___common_voice_11_0/ml/11.0.0/2c65b95d99ca879b1b1074ea197b65e0497848fd697fdb0582e0f6b75b6f4da0/cache-22670505c562e0d4.arrow\n",
      "/opt/conda/lib/python3.8/site-packages/transformers/generation_utils.py:1359: UserWarning: Neither `max_length` nor `max_new_tokens` has been set, `max_length` will default to 448 (`self.config.max_length`). Controlling `max_length` via the config is deprecated and `max_length` will be removed from the config in v5 of Transformers -- we recommend using `max_new_tokens` to control the maximum length of the generation.\n",
      "  warnings.warn(\n"
     ]
    },
    {
     "name": "stdout",
     "output_type": "stream",
     "text": [
      "Total time taken: 133.23447608947754\n",
      "The WER of model: 38.31\n",
      "The CER of model: 21.93\n",
      "The model size is: 37.76M\n"
     ]
    }
   ],
   "source": [
    "#|code-fold: false\n",
    "#|eval: false\n",
    "from malayalam_asr_benchmarking.commonvoice import evaluate_whisper_model_common_voice\n",
    "\n",
    "evaluate_whisper_model_common_voice(\"parambharat/whisper-tiny-ml\")"
   ]
  },
  {
   "cell_type": "code",
   "execution_count": null,
   "metadata": {},
   "outputs": [],
   "source": []
  }
 ],
 "metadata": {
  "kernelspec": {
   "display_name": "python3",
   "language": "python",
   "name": "python3"
  }
 },
 "nbformat": 4,
 "nbformat_minor": 4
}
