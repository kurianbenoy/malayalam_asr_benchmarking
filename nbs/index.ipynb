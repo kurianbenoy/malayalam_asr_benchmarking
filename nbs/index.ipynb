{
 "cells": [
  {
   "cell_type": "code",
   "execution_count": null,
   "metadata": {},
   "outputs": [],
   "source": [
    "#| hide\n",
    "from malayalam_asr_benchmarking.utils import *\n",
    "from malayalam_asr_benchmarking.commonvoice import evaluate_whisper_model_common_voice, evaluate_faster_whisper_model_common_voice"
   ]
  },
  {
   "cell_type": "markdown",
   "metadata": {},
   "source": [
    "# malayalam_asr_benchmarking"
   ]
  },
  {
   "cell_type": "markdown",
   "metadata": {},
   "source": [
    "## Objective of the project\n",
    "\n",
    "::: {.callout-note}\n",
    "A study to benchmark ASRs in Malayalam. Till now the project has benchmark based on Malayalam ASR models based in Whisper ASR and faster-whisper ASR.\n",
    ":::"
   ]
  },
  {
   "cell_type": "markdown",
   "metadata": {},
   "source": [
    "## Benchmarked Datasets\n",
    "\n",
    "Till now we have mainly benchmarked on two datasets:\n",
    "\n",
    "1. Common Voice 11 Dataset\n",
    "\n",
    "I have now done benchmarking on Mozilla's [Common Voice 11 Malayalam subset](https://huggingface.co/datasets/mozilla-foundation/common_voice_11_0/viewer/ml/train). \n",
    "The benchmarking results can be found in [the below dataset](https://huggingface.co/datasets/kurianbenoy/malayalam_common_voice_benchmarking).\n",
    "       \n",
    "2. Malayalam Speech Corpus\n",
    "\n",
    "I have now benchmarked on SMC's [Malayalam Speech corpus dataset](https://msc.smc.org.in/).\n",
    "The benchmarking results can be found in [the below dataset](https://huggingface.co/datasets/kurianbenoy/malayalam_msc_benchmarking/tree/main)."
   ]
  },
  {
   "cell_type": "markdown",
   "metadata": {},
   "source": [
    "## Install"
   ]
  },
  {
   "cell_type": "markdown",
   "metadata": {},
   "source": [
    "```sh\n",
    "pip install malayalam_asr_benchmarking\n",
    "```\n",
    "\n",
    "or from github repository\n",
    "\n",
    "```sh\n",
    "# Ensure git is installed, else install it. Eg: In ubuntu via apt install git\n",
    "pip install git+https://github.com/kurianbenoy/malayalam_asr_benchmarking.git\n",
    "```\n",
    "\n",
    "Or locally\n",
    "\n",
    "```sh\n",
    "# Ensure git is installed, else install it. Eg: In ubuntu via apt install git\n",
    "git clone https://github.com/kurianbenoy/malayalam_asr_benchmarking.git\n",
    "cd malayalam_asr_benchmarking\n",
    "pip install -e .\n",
    "```"
   ]
  },
  {
   "cell_type": "markdown",
   "metadata": {},
   "source": [
    "## Setting up your development environment\n",
    "\n",
    "I am developing this project with nbdev. Please take some time reading up on nbdev … how it works,\n",
    "[directives](https://nbdev.fast.ai/explanations/directives.html), etc…\n",
    "by checking out [the walk-thrus](https://nbdev.fast.ai/tutorials/tutorial.html) and [tutorials](https://nbdev.fast.ai/tutorials/) on the [nbdev website](https://nbdev.fast.ai/)\n",
    "\n",
    "\n",
    "### Step 1: Install Quarto:\n",
    "\n",
    "`nbdev_install_quarto`\n",
    "\n",
    "[Other options are mentioned in getting started to quarto](https://quarto.org/docs/get-started/)\n",
    "\n",
    "## Step 2: Install hooks\n",
    "\n",
    "`nbdev_install_hooks`\n",
    "\n",
    "\n",
    "## Step 3: Install our library\n",
    "\n",
    "`pip install -e '.[dev]'`\n"
   ]
  },
  {
   "cell_type": "markdown",
   "metadata": {},
   "source": [
    "## How to use"
   ]
  },
  {
   "cell_type": "markdown",
   "metadata": {},
   "source": [
    "#### Evaluate Whisper-based Malayalam ASR models"
   ]
  },
  {
   "cell_type": "code",
   "execution_count": null,
   "metadata": {},
   "outputs": [],
   "source": [
    "#|code-fold: false\n",
    "#|eval: false\n",
    "from malayalam_asr_benchmarking.commonvoice import evaluate_whisper_model_common_voice\n",
    "\n",
    "werlist = []\n",
    "cerlist = []\n",
    "modelsizelist = []\n",
    "timelist = []\n",
    "\n",
    "evaluate_whisper_model_common_voice(\"parambharat/whisper-tiny-ml\", werlist, cerlist, modelsizelist, timelist)"
   ]
  },
  {
   "cell_type": "code",
   "execution_count": null,
   "metadata": {},
   "outputs": [],
   "source": [
    "#|code-fold: false\n",
    "#|eval: false\n",
    "from malayalam_asr_benchmarking.msc import evaluate_whisper_model_msc\n",
    "\n",
    "werlist = []\n",
    "cerlist = []\n",
    "modelsizelist = []\n",
    "timelist = []\n",
    "\n",
    "evaluate_whisper_model_msc(\"parambharat/whisper-tiny-ml\", werlist, cerlist, modelsizelist, timelist)"
   ]
  },
  {
   "cell_type": "markdown",
   "metadata": {},
   "source": [
    "#### Evaluate faster-whisper based models"
   ]
  },
  {
   "cell_type": "code",
   "execution_count": null,
   "metadata": {},
   "outputs": [],
   "source": [
    "#|code-fold: false\n",
    "#|eval: false\n",
    "from malayalam_asr_benchmarking.commonvoice import evaluate_faster_whisper_model_common_voice\n",
    "\n",
    "werlist = []\n",
    "cerlist = []\n",
    "modelsizelist = []\n",
    "timelist = []\n",
    "\n",
    "evaluate_faster_whisper_model_common_voice(\"kurianbenoy/vegam-whisper-medium-ml\", werlist, cerlist, modelsizelist, timelist)"
   ]
  },
  {
   "cell_type": "code",
   "execution_count": null,
   "metadata": {},
   "outputs": [],
   "source": [
    "#|code-fold: false\n",
    "#|eval: false\n",
    "from malayalam_asr_benchmarking.msc import evaluate_faster_whisper_model_msc\n",
    "\n",
    "werlist = []\n",
    "cerlist = []\n",
    "modelsizelist = []\n",
    "timelist = []\n",
    "\n",
    "evaluate_faster_whisper_model_msc(\"kurianbenoy/vegam-whisper-medium-ml\", werlist, cerlist, modelsizelist, timelist)"
   ]
  },
  {
   "cell_type": "code",
   "execution_count": null,
   "metadata": {},
   "outputs": [],
   "source": []
  }
 ],
 "metadata": {
  "kernelspec": {
   "display_name": "python3",
   "language": "python",
   "name": "python3"
  }
 },
 "nbformat": 4,
 "nbformat_minor": 4
}
