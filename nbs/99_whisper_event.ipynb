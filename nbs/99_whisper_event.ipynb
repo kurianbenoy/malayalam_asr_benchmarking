{
 "cells": [
  {
   "cell_type": "markdown",
   "id": "ae3a9226-e4c0-4c17-92b7-f009d1647d5c",
   "metadata": {},
   "source": [
    "# Benchmarking Results in Malayalam datasets"
   ]
  },
  {
   "cell_type": "markdown",
   "id": "eee1039f-76df-4cae-8727-400031308fbe",
   "metadata": {},
   "source": [
    "## Whisper-Event Leaderboard"
   ]
  },
  {
   "cell_type": "markdown",
   "id": "27d35b43-c5da-4eac-bc8d-688d10e3a767",
   "metadata": {},
   "source": [
    "[HuggingFace Team](huggingface.co/) conducted a whisper event on fine tuning Whisper model to achieve the State of the art results performance for various languages.\n",
    "\n",
    "During this competitions lot of models where evaluated on dataset like [Common Voice](https://huggingface.co/datasets/mozilla-foundation/common_voice_11_0). \n",
    "\n",
    "For the language Malayalam, the results are as follows in Common Voice dataset subsection of Malayalam:\n",
    "\n",
    "![Results in common voice](https://user-images.githubusercontent.com/24592806/222974236-44f047ec-e072-4f6a-b49f-ed88afb02999.png)\n",
    "\n",
    "There was an evaluation in Google Fluers Malaylam subsection as well:\n",
    "\n",
    "![Results in Fluers](https://user-images.githubusercontent.com/24592806/222974253-0fb96dd3-64ae-4ea2-a022-fd3db35cf721.png)\n",
    "\n",
    "\n",
    "[Details are from Huggingface whisper-event leaderboard](https://huggingface.co/spaces/whisper-event/leaderboard)"
   ]
  },
  {
   "cell_type": "markdown",
   "id": "e932cc72-95e8-44a4-8e1a-0d679555edc0",
   "metadata": {},
   "source": [
    "## Benchmarking in Common Voice Dataset"
   ]
  },
  {
   "cell_type": "code",
   "execution_count": null,
   "id": "7f8f170c-69c3-42f6-947e-e467db5a5f51",
   "metadata": {},
   "outputs": [],
   "source": [
    "import pandas as pd\n",
    "from tqdm import tqdm\n",
    "\n",
    "from malayalam_asr_benchmarking.commonvoice import evaluate_whisper_model_common_voice "
   ]
  },
  {
   "cell_type": "markdown",
   "id": "0ef61462-f10b-4532-914f-b6af0522eb49",
   "metadata": {},
   "source": [
    "### ASR models to benchmark"
   ]
  },
  {
   "cell_type": "code",
   "execution_count": null,
   "id": "39944612-fab0-4ebd-9173-60dece858544",
   "metadata": {},
   "outputs": [],
   "source": [
    "asr_models = [\"thennal/whisper-medium-ml\",\n",
    "              \"anuragshas/whisper-large-v2-ml\",\n",
    "              \"parambharat/whisper-small-ml\",\n",
    "              \"DrishtiSharma/whisper-large-v2-malayalam\",\n",
    "              \"parambharat/whisper-base-ml\",\n",
    "              \"kurianbenoy/whisper_malayalam_largev2\",\n",
    "              \"parambharat/whisper-tiny-ml\"\n",
    "             ]"
   ]
  },
  {
   "cell_type": "code",
   "execution_count": null,
   "id": "05993394-ca7d-4709-ac0e-ce2350ff9c9b",
   "metadata": {},
   "outputs": [
    {
     "data": {
      "text/plain": [
       "'parambharat/whisper-tiny-ml'"
      ]
     },
     "execution_count": null,
     "metadata": {},
     "output_type": "execute_result"
    }
   ],
   "source": [
    "asr_models[-1]"
   ]
  },
  {
   "cell_type": "markdown",
   "id": "6c5a065a-ad8b-4040-a7a8-081010ce1c77",
   "metadata": {},
   "source": [
    "### Running across all asr models"
   ]
  },
  {
   "cell_type": "code",
   "execution_count": null,
   "id": "ea54212f-7b5b-4798-a880-7b78c1f047d1",
   "metadata": {},
   "outputs": [],
   "source": [
    "#| eval: false\n",
    "wer_list = []\n",
    "cer_list = []\n",
    "model_size_list = []\n",
    "time_list = []"
   ]
  },
  {
   "cell_type": "code",
   "execution_count": null,
   "id": "ae76729a-6824-42ee-b405-6023c16391c8",
   "metadata": {},
   "outputs": [
    {
     "name": "stderr",
     "output_type": "stream",
     "text": [
      "  0%|          | 0/7 [00:00<?, ?it/s]Found cached dataset common_voice_11_0 (/home/.cache/huggingface/datasets/mozilla-foundation___common_voice_11_0/ml/11.0.0/2c65b95d99ca879b1b1074ea197b65e0497848fd697fdb0582e0f6b75b6f4da0)\n",
      "Loading cached processed dataset at /home/.cache/huggingface/datasets/mozilla-foundation___common_voice_11_0/ml/11.0.0/2c65b95d99ca879b1b1074ea197b65e0497848fd697fdb0582e0f6b75b6f4da0/cache-374585c2877047e3.arrow\n",
      "Loading cached processed dataset at /home/.cache/huggingface/datasets/mozilla-foundation___common_voice_11_0/ml/11.0.0/2c65b95d99ca879b1b1074ea197b65e0497848fd697fdb0582e0f6b75b6f4da0/cache-22670505c562e0d4.arrow\n",
      "/opt/conda/lib/python3.8/site-packages/transformers/generation_utils.py:1359: UserWarning: Neither `max_length` nor `max_new_tokens` has been set, `max_length` will default to 448 (`self.config.max_length`). Controlling `max_length` via the config is deprecated and `max_length` will be removed from the config in v5 of Transformers -- we recommend using `max_new_tokens` to control the maximum length of the generation.\n",
      "  warnings.warn(\n"
     ]
    }
   ],
   "source": [
    "#| eval: false\n",
    "for asr in tqdm(asr_models):\n",
    "    evaluate_whisper_model_common_voice(asr, wer_list, cer_list, model_size_list, time_list)"
   ]
  },
  {
   "cell_type": "code",
   "execution_count": null,
   "id": "56830771-b7c4-4a44-bd39-01748ffa5200",
   "metadata": {},
   "outputs": [
    {
     "data": {
      "text/plain": [
       "[11.56, 24.46, 21.65, 26.25, 30.33, 300.7, 38.31]"
      ]
     },
     "execution_count": null,
     "metadata": {},
     "output_type": "execute_result"
    }
   ],
   "source": [
    "#| eval: false\n",
    "wer_list"
   ]
  },
  {
   "cell_type": "markdown",
   "id": "89c124a6-41dc-4d5c-863d-15abf32d963a",
   "metadata": {},
   "source": [
    "### Store results in pandas"
   ]
  },
  {
   "cell_type": "code",
   "execution_count": null,
   "id": "07cfad72-4dd9-427b-9db7-c6a5b505eabd",
   "metadata": {},
   "outputs": [],
   "source": [
    "#| eval: false\n",
    "df = pd.DataFrame({\"models\": asr_models, \"wer\": wer_list, \"cer\": cer_list, \"model size\": model_size_list,\"time(s)\": time_list,})"
   ]
  },
  {
   "cell_type": "code",
   "execution_count": null,
   "id": "3020e9f3-8136-4d5b-abc5-5492bf1e76ad",
   "metadata": {},
   "outputs": [
    {
     "data": {
      "text/html": [
       "<div>\n",
       "<style scoped>\n",
       "    .dataframe tbody tr th:only-of-type {\n",
       "        vertical-align: middle;\n",
       "    }\n",
       "\n",
       "    .dataframe tbody tr th {\n",
       "        vertical-align: top;\n",
       "    }\n",
       "\n",
       "    .dataframe thead th {\n",
       "        text-align: right;\n",
       "    }\n",
       "</style>\n",
       "<table border=\"1\" class=\"dataframe\">\n",
       "  <thead>\n",
       "    <tr style=\"text-align: right;\">\n",
       "      <th></th>\n",
       "      <th>models</th>\n",
       "      <th>wer</th>\n",
       "      <th>cer</th>\n",
       "      <th>model size</th>\n",
       "      <th>time(s)</th>\n",
       "    </tr>\n",
       "  </thead>\n",
       "  <tbody>\n",
       "    <tr>\n",
       "      <th>0</th>\n",
       "      <td>thennal/whisper-medium-ml</td>\n",
       "      <td>11.56</td>\n",
       "      <td>5.41</td>\n",
       "      <td>763.86M</td>\n",
       "      <td>924.979711</td>\n",
       "    </tr>\n",
       "    <tr>\n",
       "      <th>1</th>\n",
       "      <td>anuragshas/whisper-large-v2-ml</td>\n",
       "      <td>24.46</td>\n",
       "      <td>11.64</td>\n",
       "      <td>1.54B</td>\n",
       "      <td>1779.561592</td>\n",
       "    </tr>\n",
       "    <tr>\n",
       "      <th>2</th>\n",
       "      <td>parambharat/whisper-small-ml</td>\n",
       "      <td>21.65</td>\n",
       "      <td>11.78</td>\n",
       "      <td>241.73M</td>\n",
       "      <td>273.555688</td>\n",
       "    </tr>\n",
       "    <tr>\n",
       "      <th>3</th>\n",
       "      <td>DrishtiSharma/whisper-large-v2-malayalam</td>\n",
       "      <td>26.25</td>\n",
       "      <td>13.17</td>\n",
       "      <td>1.54B</td>\n",
       "      <td>1773.661774</td>\n",
       "    </tr>\n",
       "    <tr>\n",
       "      <th>4</th>\n",
       "      <td>parambharat/whisper-base-ml</td>\n",
       "      <td>30.33</td>\n",
       "      <td>16.16</td>\n",
       "      <td>72.59M</td>\n",
       "      <td>96.419609</td>\n",
       "    </tr>\n",
       "    <tr>\n",
       "      <th>5</th>\n",
       "      <td>kurianbenoy/whisper_malayalam_largev2</td>\n",
       "      <td>300.70</td>\n",
       "      <td>292.82</td>\n",
       "      <td>1.54B</td>\n",
       "      <td>5034.771624</td>\n",
       "    </tr>\n",
       "    <tr>\n",
       "      <th>6</th>\n",
       "      <td>parambharat/whisper-tiny-ml</td>\n",
       "      <td>38.31</td>\n",
       "      <td>21.93</td>\n",
       "      <td>37.76M</td>\n",
       "      <td>59.535259</td>\n",
       "    </tr>\n",
       "  </tbody>\n",
       "</table>\n",
       "</div>"
      ],
      "text/plain": [
       "                                     models     wer     cer model size  \\\n",
       "0                 thennal/whisper-medium-ml   11.56    5.41    763.86M   \n",
       "1            anuragshas/whisper-large-v2-ml   24.46   11.64      1.54B   \n",
       "2              parambharat/whisper-small-ml   21.65   11.78    241.73M   \n",
       "3  DrishtiSharma/whisper-large-v2-malayalam   26.25   13.17      1.54B   \n",
       "4               parambharat/whisper-base-ml   30.33   16.16     72.59M   \n",
       "5     kurianbenoy/whisper_malayalam_largev2  300.70  292.82      1.54B   \n",
       "6               parambharat/whisper-tiny-ml   38.31   21.93     37.76M   \n",
       "\n",
       "       time(s)  \n",
       "0   924.979711  \n",
       "1  1779.561592  \n",
       "2   273.555688  \n",
       "3  1773.661774  \n",
       "4    96.419609  \n",
       "5  5034.771624  \n",
       "6    59.535259  "
      ]
     },
     "execution_count": null,
     "metadata": {},
     "output_type": "execute_result"
    }
   ],
   "source": [
    "#| eval: false\n",
    "df.head(7)"
   ]
  },
  {
   "cell_type": "code",
   "execution_count": null,
   "id": "ef124a12-1d15-4e44-a096-48f2ad6ebdf9",
   "metadata": {},
   "outputs": [],
   "source": [
    "#| eval: false\n",
    "df.to_parquet(\"/home/commonvoice_benchmarking_results.parquet\")"
   ]
  },
  {
   "cell_type": "code",
   "execution_count": null,
   "id": "77b92d9b-3465-4448-a0d1-b2da725e7621",
   "metadata": {},
   "outputs": [],
   "source": []
  }
 ],
 "metadata": {
  "kernelspec": {
   "display_name": "python3",
   "language": "python",
   "name": "python3"
  }
 },
 "nbformat": 4,
 "nbformat_minor": 5
}
