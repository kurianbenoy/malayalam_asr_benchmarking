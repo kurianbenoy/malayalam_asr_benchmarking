{
 "cells": [
  {
   "cell_type": "markdown",
   "id": "d381ea18-77f9-4749-8411-426aeacec856",
   "metadata": {},
   "source": [
    "## Common Voice benchmarking tool"
   ]
  },
  {
   "cell_type": "code",
   "execution_count": 2,
   "id": "ad7f4a0c-5038-4be1-b569-94a8c5b51827",
   "metadata": {},
   "outputs": [],
   "source": [
    "#| default_exp commonvoice"
   ]
  },
  {
   "cell_type": "code",
   "execution_count": 3,
   "id": "ae4ce661-cbba-48f1-86a2-e6f68ff800fa",
   "metadata": {},
   "outputs": [],
   "source": [
    "#| hide\n",
    "from nbdev.showdoc import *"
   ]
  },
  {
   "cell_type": "code",
   "execution_count": 10,
   "id": "a3f6bcbd-7707-442b-81d0-1bc7f0d058d4",
   "metadata": {},
   "outputs": [],
   "source": [
    "#| export\n",
    "import time\n",
    "\n",
    "import pandas as pd\n",
    "from datasets import load_dataset, Audio\n",
    "from jiwer import wer, cer\n",
    "from transformers import pipeline\n",
    "\n",
    "from malayalam_asr_benchmarking.utils import is_target_text_in_range, get_text, normalise, data, get_model_size"
   ]
  },
  {
   "cell_type": "code",
   "execution_count": 15,
   "id": "0c48f20f-b900-438d-ae89-3067d9166167",
   "metadata": {},
   "outputs": [],
   "source": [
    "#| export\n",
    "def evaluate_whisper_model_common_voice(model_name: \"str\")->None:\n",
    "    whisper_asr = pipeline(\n",
    "            \"automatic-speech-recognition\", model=model_name, device=0\n",
    "        )\n",
    "\n",
    "    dataset = load_dataset(\n",
    "            \"mozilla-foundation/common_voice_11_0\",\n",
    "            \"ml\",\n",
    "            split=\"test\"\n",
    "    )\n",
    "    dataset = dataset.cast_column(\"audio\", Audio(sampling_rate=16000))\n",
    "    dataset = dataset.map(normalise)\n",
    "    dataset = dataset.filter(is_target_text_in_range, input_columns=[\"norm_text\"])\n",
    "    predictions = []\n",
    "    references = []\n",
    "\n",
    "    start = time.time()\n",
    "    for out in whisper_asr(data(dataset), batch_size=16):\n",
    "        predictions.append(whisper_norm(out[\"text\"]))\n",
    "        references.append(out[\"reference\"][0])\n",
    "        \n",
    "        \n",
    "    end = time.time()\n",
    "    print(f\"Total time taken: {end - start}\")\n",
    "    \n",
    "    df = pd.DataFrame({\"predictions\": predictions, \"ground_truth\": references})\n",
    "    df[\"model_name\"] = model_name\n",
    "    df[\"wer\"] = df.apply(lambda row: wer(row[\"ground_truth\"], row[\"predictions\"]), axis=1)\n",
    "    df[\"cer\"] = df.apply(lambda row: cer(row[\"ground_truth\"], row[\"predictions\"]), axis=1)\n",
    "    df[\"total_time\"] = end-start\n",
    "    \n",
    "    rwer = wer(references, predictions)\n",
    "    rwer = round(100 * rwer, 2)\n",
    "    print(f\"The WER of model: {rwer}\")\n",
    "\n",
    "    rcer = cer(references, predictions)\n",
    "    rcer = round(100 * rcer, 2)\n",
    "    print(f\"The CER of model: {rcer}\")\n",
    "    \n",
    "    print(f\"The model size is: {get_model_size(whisper_asr.model)}\")\n",
    "    df[\"model_size\"] = get_model_size(whisper_asr.model)\n",
    "    df.to_parquet(f\"test_file.parquet\")"
   ]
  },
  {
   "cell_type": "code",
   "execution_count": 9,
   "id": "d1c2f808-0803-4c54-9bd7-f4df36ab7228",
   "metadata": {},
   "outputs": [
    {
     "name": "stderr",
     "output_type": "stream",
     "text": [
      "Found cached dataset common_voice_11_0 (/home/.cache/huggingface/datasets/mozilla-foundation___common_voice_11_0/ml/11.0.0/2c65b95d99ca879b1b1074ea197b65e0497848fd697fdb0582e0f6b75b6f4da0)\n"
     ]
    },
    {
     "data": {
      "application/json": {
       "ascii": false,
       "bar_format": null,
       "colour": null,
       "elapsed": 0.03231096267700195,
       "initial": 0,
       "n": 0,
       "ncols": null,
       "nrows": null,
       "postfix": null,
       "prefix": "Map",
       "rate": null,
       "total": 112,
       "unit": " examples",
       "unit_divisor": 1000,
       "unit_scale": false
      },
      "application/vnd.jupyter.widget-view+json": {
       "model_id": "",
       "version_major": 2,
       "version_minor": 0
      },
      "text/plain": [
       "Map:   0%|          | 0/112 [00:00<?, ? examples/s]"
      ]
     },
     "metadata": {},
     "output_type": "display_data"
    },
    {
     "data": {
      "application/json": {
       "ascii": false,
       "bar_format": null,
       "colour": null,
       "elapsed": 0.017185688018798828,
       "initial": 0,
       "n": 0,
       "ncols": null,
       "nrows": null,
       "postfix": null,
       "prefix": "Filter",
       "rate": null,
       "total": 112,
       "unit": " examples",
       "unit_divisor": 1000,
       "unit_scale": false
      },
      "application/vnd.jupyter.widget-view+json": {
       "model_id": "",
       "version_major": 2,
       "version_minor": 0
      },
      "text/plain": [
       "Filter:   0%|          | 0/112 [00:00<?, ? examples/s]"
      ]
     },
     "metadata": {},
     "output_type": "display_data"
    },
    {
     "name": "stderr",
     "output_type": "stream",
     "text": [
      "/opt/conda/lib/python3.8/site-packages/transformers/generation/utils.py:1273: UserWarning: Neither `max_length` nor `max_new_tokens` has been set, `max_length` will default to 448 (`generation_config.max_length`). Controlling `max_length` via the config is deprecated and `max_length` will be removed from the config in v5 of Transformers -- we recommend using `max_new_tokens` to control the maximum length of the generation.\n",
      "  warnings.warn(\n"
     ]
    },
    {
     "name": "stdout",
     "output_type": "stream",
     "text": [
      "Total time taken: 66.36547708511353\n",
      "The WER of model: 38.31\n",
      "The CER of model: 21.93\n",
      "The model size is: 37.76M\n"
     ]
    }
   ],
   "source": [
    "evaluate_whisper_model_common_voice(\"parambharat/whisper-tiny-ml\")"
   ]
  },
  {
   "cell_type": "code",
   "execution_count": 16,
   "id": "4c34dd00-25dc-4b45-b76d-348a136138fc",
   "metadata": {},
   "outputs": [
    {
     "name": "stderr",
     "output_type": "stream",
     "text": [
      "Found cached dataset common_voice_11_0 (/home/.cache/huggingface/datasets/mozilla-foundation___common_voice_11_0/ml/11.0.0/2c65b95d99ca879b1b1074ea197b65e0497848fd697fdb0582e0f6b75b6f4da0)\n",
      "Loading cached processed dataset at /home/.cache/huggingface/datasets/mozilla-foundation___common_voice_11_0/ml/11.0.0/2c65b95d99ca879b1b1074ea197b65e0497848fd697fdb0582e0f6b75b6f4da0/cache-374585c2877047e3.arrow\n",
      "Loading cached processed dataset at /home/.cache/huggingface/datasets/mozilla-foundation___common_voice_11_0/ml/11.0.0/2c65b95d99ca879b1b1074ea197b65e0497848fd697fdb0582e0f6b75b6f4da0/cache-22670505c562e0d4.arrow\n",
      "/opt/conda/lib/python3.8/site-packages/transformers/generation/utils.py:1273: UserWarning: Neither `max_length` nor `max_new_tokens` has been set, `max_length` will default to 448 (`generation_config.max_length`). Controlling `max_length` via the config is deprecated and `max_length` will be removed from the config in v5 of Transformers -- we recommend using `max_new_tokens` to control the maximum length of the generation.\n",
      "  warnings.warn(\n"
     ]
    },
    {
     "name": "stdout",
     "output_type": "stream",
     "text": [
      "Total time taken: 63.78305149078369\n",
      "The WER of model: 38.31\n",
      "The CER of model: 21.93\n",
      "The model size is: 37.76M\n",
      "                                         predictions  \\\n",
      "0  ഇന ത ര വതത ത ന ത ടർന ന ണ ട യ സ ക ക വര ത ത കല പ...   \n",
      "1  പ ന റ യ നൽക ന നത ക ണ ട ര ഗത ത ല ക ക ള ള മ റ റ ...   \n",
      "2         എന ത ന ന ഒര ക ല ഇക കടകന ന ന ങ ങ ള ട ട ത ണ    \n",
      "3  ന പ പയ ണ ട ഉറവ ട കണ ട ത ത ന വല യ സ ഥവ വൻ നടക ക...   \n",
      "4                     അത ക ക അത ക ണ ട പ യ ക ക ട ക ക    \n",
      "\n",
      "                                        ground_truth  \\\n",
      "0  ഇന ദ ര വധത ത ന ത ടര ന ന ണ ട യ സ ഖ വ ര ദ ധ കല പ...   \n",
      "1  പ ന ത ണയ നല ക ന നത ക ണ ട ര ഗത ത ല ക ക ള ള മ റ ...   \n",
      "2              എന ത ന ഒര ക ല ഈ കട തന ന ന ങ ങള ട ത ണ    \n",
      "3       ന പയ ട ഉറവ ട കണ ട ത ത ന വല യ ശ രമ നടക ക ന ന    \n",
      "4                          അത ക അത ക ണ ട പ യ ക ടക ക    \n",
      "\n",
      "                    model_name       wer       cer  total_time model_size  \n",
      "0  parambharat/whisper-tiny-ml  0.450980  0.308333   63.783051     37.76M  \n",
      "1  parambharat/whisper-tiny-ml  0.256410  0.122222   63.783051     37.76M  \n",
      "2  parambharat/whisper-tiny-ml  0.437500  0.250000   63.783051     37.76M  \n",
      "3  parambharat/whisper-tiny-ml  0.277778  0.232558   63.783051     37.76M  \n",
      "4  parambharat/whisper-tiny-ml  0.363636  0.208333   63.783051     37.76M  \n",
      "(112, 7)\n",
      "Index(['predictions', 'ground_truth', 'model_name', 'wer', 'cer', 'total_time',\n",
      "       'model_size'],\n",
      "      dtype='object')\n"
     ]
    }
   ],
   "source": [
    "evaluate_whisper_model_common_voice(\"parambharat/whisper-tiny-ml\")"
   ]
  },
  {
   "cell_type": "code",
   "execution_count": 17,
   "id": "b163c84c-3110-4617-b87f-554211d960e6",
   "metadata": {},
   "outputs": [],
   "source": [
    "import pandas as pd"
   ]
  },
  {
   "cell_type": "code",
   "execution_count": 18,
   "id": "611a33ce-3153-4b1e-b221-31edbe299549",
   "metadata": {},
   "outputs": [
    {
     "data": {
      "text/html": [
       "<div>\n",
       "<style scoped>\n",
       "    .dataframe tbody tr th:only-of-type {\n",
       "        vertical-align: middle;\n",
       "    }\n",
       "\n",
       "    .dataframe tbody tr th {\n",
       "        vertical-align: top;\n",
       "    }\n",
       "\n",
       "    .dataframe thead th {\n",
       "        text-align: right;\n",
       "    }\n",
       "</style>\n",
       "<table border=\"1\" class=\"dataframe\">\n",
       "  <thead>\n",
       "    <tr style=\"text-align: right;\">\n",
       "      <th></th>\n",
       "      <th>predictions</th>\n",
       "      <th>ground_truth</th>\n",
       "      <th>model_name</th>\n",
       "      <th>wer</th>\n",
       "      <th>cer</th>\n",
       "      <th>total_time</th>\n",
       "      <th>model_size</th>\n",
       "    </tr>\n",
       "  </thead>\n",
       "  <tbody>\n",
       "    <tr>\n",
       "      <th>0</th>\n",
       "      <td>ഇന ത ര വതത ത ന ത ടർന ന ണ ട യ സ ക ക വര ത ത കല പ...</td>\n",
       "      <td>ഇന ദ ര വധത ത ന ത ടര ന ന ണ ട യ സ ഖ വ ര ദ ധ കല പ...</td>\n",
       "      <td>parambharat/whisper-tiny-ml</td>\n",
       "      <td>0.450980</td>\n",
       "      <td>0.308333</td>\n",
       "      <td>63.783051</td>\n",
       "      <td>37.76M</td>\n",
       "    </tr>\n",
       "    <tr>\n",
       "      <th>1</th>\n",
       "      <td>പ ന റ യ നൽക ന നത ക ണ ട ര ഗത ത ല ക ക ള ള മ റ റ ...</td>\n",
       "      <td>പ ന ത ണയ നല ക ന നത ക ണ ട ര ഗത ത ല ക ക ള ള മ റ ...</td>\n",
       "      <td>parambharat/whisper-tiny-ml</td>\n",
       "      <td>0.256410</td>\n",
       "      <td>0.122222</td>\n",
       "      <td>63.783051</td>\n",
       "      <td>37.76M</td>\n",
       "    </tr>\n",
       "    <tr>\n",
       "      <th>2</th>\n",
       "      <td>എന ത ന ന ഒര ക ല ഇക കടകന ന ന ങ ങ ള ട ട ത ണ</td>\n",
       "      <td>എന ത ന ഒര ക ല ഈ കട തന ന ന ങ ങള ട ത ണ</td>\n",
       "      <td>parambharat/whisper-tiny-ml</td>\n",
       "      <td>0.437500</td>\n",
       "      <td>0.250000</td>\n",
       "      <td>63.783051</td>\n",
       "      <td>37.76M</td>\n",
       "    </tr>\n",
       "    <tr>\n",
       "      <th>3</th>\n",
       "      <td>ന പ പയ ണ ട ഉറവ ട കണ ട ത ത ന വല യ സ ഥവ വൻ നടക ക...</td>\n",
       "      <td>ന പയ ട ഉറവ ട കണ ട ത ത ന വല യ ശ രമ നടക ക ന ന</td>\n",
       "      <td>parambharat/whisper-tiny-ml</td>\n",
       "      <td>0.277778</td>\n",
       "      <td>0.232558</td>\n",
       "      <td>63.783051</td>\n",
       "      <td>37.76M</td>\n",
       "    </tr>\n",
       "    <tr>\n",
       "      <th>4</th>\n",
       "      <td>അത ക ക അത ക ണ ട പ യ ക ക ട ക ക</td>\n",
       "      <td>അത ക അത ക ണ ട പ യ ക ടക ക</td>\n",
       "      <td>parambharat/whisper-tiny-ml</td>\n",
       "      <td>0.363636</td>\n",
       "      <td>0.208333</td>\n",
       "      <td>63.783051</td>\n",
       "      <td>37.76M</td>\n",
       "    </tr>\n",
       "  </tbody>\n",
       "</table>\n",
       "</div>"
      ],
      "text/plain": [
       "                                         predictions  \\\n",
       "0  ഇന ത ര വതത ത ന ത ടർന ന ണ ട യ സ ക ക വര ത ത കല പ...   \n",
       "1  പ ന റ യ നൽക ന നത ക ണ ട ര ഗത ത ല ക ക ള ള മ റ റ ...   \n",
       "2         എന ത ന ന ഒര ക ല ഇക കടകന ന ന ങ ങ ള ട ട ത ണ    \n",
       "3  ന പ പയ ണ ട ഉറവ ട കണ ട ത ത ന വല യ സ ഥവ വൻ നടക ക...   \n",
       "4                     അത ക ക അത ക ണ ട പ യ ക ക ട ക ക    \n",
       "\n",
       "                                        ground_truth  \\\n",
       "0  ഇന ദ ര വധത ത ന ത ടര ന ന ണ ട യ സ ഖ വ ര ദ ധ കല പ...   \n",
       "1  പ ന ത ണയ നല ക ന നത ക ണ ട ര ഗത ത ല ക ക ള ള മ റ ...   \n",
       "2              എന ത ന ഒര ക ല ഈ കട തന ന ന ങ ങള ട ത ണ    \n",
       "3       ന പയ ട ഉറവ ട കണ ട ത ത ന വല യ ശ രമ നടക ക ന ന    \n",
       "4                          അത ക അത ക ണ ട പ യ ക ടക ക    \n",
       "\n",
       "                    model_name       wer       cer  total_time model_size  \n",
       "0  parambharat/whisper-tiny-ml  0.450980  0.308333   63.783051     37.76M  \n",
       "1  parambharat/whisper-tiny-ml  0.256410  0.122222   63.783051     37.76M  \n",
       "2  parambharat/whisper-tiny-ml  0.437500  0.250000   63.783051     37.76M  \n",
       "3  parambharat/whisper-tiny-ml  0.277778  0.232558   63.783051     37.76M  \n",
       "4  parambharat/whisper-tiny-ml  0.363636  0.208333   63.783051     37.76M  "
      ]
     },
     "execution_count": 18,
     "metadata": {},
     "output_type": "execute_result"
    }
   ],
   "source": [
    "df = pd.read_parquet(\"test_file.parquet\")\n",
    "df.head()"
   ]
  },
  {
   "cell_type": "code",
   "execution_count": 19,
   "id": "272d115a-040f-46e4-be63-ef62abf61455",
   "metadata": {},
   "outputs": [
    {
     "name": "stdout",
     "output_type": "stream",
     "text": [
      "<class 'pandas.core.frame.DataFrame'>\n",
      "RangeIndex: 112 entries, 0 to 111\n",
      "Data columns (total 7 columns):\n",
      " #   Column        Non-Null Count  Dtype  \n",
      "---  ------        --------------  -----  \n",
      " 0   predictions   112 non-null    object \n",
      " 1   ground_truth  112 non-null    object \n",
      " 2   model_name    112 non-null    object \n",
      " 3   wer           112 non-null    float64\n",
      " 4   cer           112 non-null    float64\n",
      " 5   total_time    112 non-null    float64\n",
      " 6   model_size    112 non-null    object \n",
      "dtypes: float64(3), object(4)\n",
      "memory usage: 6.2+ KB\n"
     ]
    }
   ],
   "source": [
    "df.info()"
   ]
  },
  {
   "cell_type": "code",
   "execution_count": null,
   "id": "79adbf54-62c9-455a-824d-7243c1a5966d",
   "metadata": {},
   "outputs": [],
   "source": []
  }
 ],
 "metadata": {
  "kernelspec": {
   "display_name": "Python 3",
   "language": "python",
   "name": "python3"
  },
  "language_info": {
   "codemirror_mode": {
    "name": "ipython",
    "version": 3
   },
   "file_extension": ".py",
   "mimetype": "text/x-python",
   "name": "python",
   "nbconvert_exporter": "python",
   "pygments_lexer": "ipython3",
   "version": "3.8.12"
  }
 },
 "nbformat": 4,
 "nbformat_minor": 5
}
