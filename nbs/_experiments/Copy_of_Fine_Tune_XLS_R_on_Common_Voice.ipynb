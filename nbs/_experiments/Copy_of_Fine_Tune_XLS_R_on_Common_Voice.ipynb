{
  "nbformat": 4,
  "nbformat_minor": 0,
  "metadata": {
    "accelerator": "GPU",
    "colab": {
      "name": "Copy of Fine-Tune XLS-R on Common Voice.ipynb",
      "provenance": [],
      "toc_visible": true,
      "machine_shape": "hm"
    },
    "kernelspec": {
      "display_name": "Python 3",
      "name": "python3"
    },
    "widgets": {
      "application/vnd.jupyter.widget-state+json": {
        "7c81059d35534b799623afe872095cac": {
          "model_module": "@jupyter-widgets/controls",
          "model_name": "HBoxModel",
          "model_module_version": "1.5.0",
          "state": {
            "_dom_classes": [],
            "_model_module": "@jupyter-widgets/controls",
            "_model_module_version": "1.5.0",
            "_model_name": "HBoxModel",
            "_view_count": null,
            "_view_module": "@jupyter-widgets/controls",
            "_view_module_version": "1.5.0",
            "_view_name": "HBoxView",
            "box_style": "",
            "children": [
              "IPY_MODEL_379128a308ab43ee9e785e234bb94049",
              "IPY_MODEL_ff8e746cf8ef4f988617b8d4c0dd3c9c",
              "IPY_MODEL_0204a7bc668746a68f6e5e5632753c1c"
            ],
            "layout": "IPY_MODEL_84361b363998428a87b9e50b6625cca9"
          }
        },
        "379128a308ab43ee9e785e234bb94049": {
          "model_module": "@jupyter-widgets/controls",
          "model_name": "HTMLModel",
          "model_module_version": "1.5.0",
          "state": {
            "_dom_classes": [],
            "_model_module": "@jupyter-widgets/controls",
            "_model_module_version": "1.5.0",
            "_model_name": "HTMLModel",
            "_view_count": null,
            "_view_module": "@jupyter-widgets/controls",
            "_view_module_version": "1.5.0",
            "_view_name": "HTMLView",
            "description": "",
            "description_tooltip": null,
            "layout": "IPY_MODEL_c0919f3c8d594911815ce63273f7fe51",
            "placeholder": "​",
            "style": "IPY_MODEL_69f2a9e473534148b96b2e9bd639a087",
            "value": "Downloading: "
          }
        },
        "ff8e746cf8ef4f988617b8d4c0dd3c9c": {
          "model_module": "@jupyter-widgets/controls",
          "model_name": "FloatProgressModel",
          "model_module_version": "1.5.0",
          "state": {
            "_dom_classes": [],
            "_model_module": "@jupyter-widgets/controls",
            "_model_module_version": "1.5.0",
            "_model_name": "FloatProgressModel",
            "_view_count": null,
            "_view_module": "@jupyter-widgets/controls",
            "_view_module_version": "1.5.0",
            "_view_name": "ProgressView",
            "bar_style": "success",
            "description": "",
            "description_tooltip": null,
            "layout": "IPY_MODEL_5cd8c74ba2e845d498afdc1c25009767",
            "max": 1947,
            "min": 0,
            "orientation": "horizontal",
            "style": "IPY_MODEL_3f0c587f7b764d96837c8e16254aab12",
            "value": 1947
          }
        },
        "0204a7bc668746a68f6e5e5632753c1c": {
          "model_module": "@jupyter-widgets/controls",
          "model_name": "HTMLModel",
          "model_module_version": "1.5.0",
          "state": {
            "_dom_classes": [],
            "_model_module": "@jupyter-widgets/controls",
            "_model_module_version": "1.5.0",
            "_model_name": "HTMLModel",
            "_view_count": null,
            "_view_module": "@jupyter-widgets/controls",
            "_view_module_version": "1.5.0",
            "_view_name": "HTMLView",
            "description": "",
            "description_tooltip": null,
            "layout": "IPY_MODEL_d3b5f5a0d35642e0b606ac63c38f88fa",
            "placeholder": "​",
            "style": "IPY_MODEL_7ce84a97d72848c0967f732734afdd68",
            "value": " 4.55k/? [00:00&lt;00:00, 87.8kB/s]"
          }
        },
        "84361b363998428a87b9e50b6625cca9": {
          "model_module": "@jupyter-widgets/base",
          "model_name": "LayoutModel",
          "model_module_version": "1.2.0",
          "state": {
            "_model_module": "@jupyter-widgets/base",
            "_model_module_version": "1.2.0",
            "_model_name": "LayoutModel",
            "_view_count": null,
            "_view_module": "@jupyter-widgets/base",
            "_view_module_version": "1.2.0",
            "_view_name": "LayoutView",
            "align_content": null,
            "align_items": null,
            "align_self": null,
            "border": null,
            "bottom": null,
            "display": null,
            "flex": null,
            "flex_flow": null,
            "grid_area": null,
            "grid_auto_columns": null,
            "grid_auto_flow": null,
            "grid_auto_rows": null,
            "grid_column": null,
            "grid_gap": null,
            "grid_row": null,
            "grid_template_areas": null,
            "grid_template_columns": null,
            "grid_template_rows": null,
            "height": null,
            "justify_content": null,
            "justify_items": null,
            "left": null,
            "margin": null,
            "max_height": null,
            "max_width": null,
            "min_height": null,
            "min_width": null,
            "object_fit": null,
            "object_position": null,
            "order": null,
            "overflow": null,
            "overflow_x": null,
            "overflow_y": null,
            "padding": null,
            "right": null,
            "top": null,
            "visibility": null,
            "width": null
          }
        },
        "c0919f3c8d594911815ce63273f7fe51": {
          "model_module": "@jupyter-widgets/base",
          "model_name": "LayoutModel",
          "model_module_version": "1.2.0",
          "state": {
            "_model_module": "@jupyter-widgets/base",
            "_model_module_version": "1.2.0",
            "_model_name": "LayoutModel",
            "_view_count": null,
            "_view_module": "@jupyter-widgets/base",
            "_view_module_version": "1.2.0",
            "_view_name": "LayoutView",
            "align_content": null,
            "align_items": null,
            "align_self": null,
            "border": null,
            "bottom": null,
            "display": null,
            "flex": null,
            "flex_flow": null,
            "grid_area": null,
            "grid_auto_columns": null,
            "grid_auto_flow": null,
            "grid_auto_rows": null,
            "grid_column": null,
            "grid_gap": null,
            "grid_row": null,
            "grid_template_areas": null,
            "grid_template_columns": null,
            "grid_template_rows": null,
            "height": null,
            "justify_content": null,
            "justify_items": null,
            "left": null,
            "margin": null,
            "max_height": null,
            "max_width": null,
            "min_height": null,
            "min_width": null,
            "object_fit": null,
            "object_position": null,
            "order": null,
            "overflow": null,
            "overflow_x": null,
            "overflow_y": null,
            "padding": null,
            "right": null,
            "top": null,
            "visibility": null,
            "width": null
          }
        },
        "69f2a9e473534148b96b2e9bd639a087": {
          "model_module": "@jupyter-widgets/controls",
          "model_name": "DescriptionStyleModel",
          "model_module_version": "1.5.0",
          "state": {
            "_model_module": "@jupyter-widgets/controls",
            "_model_module_version": "1.5.0",
            "_model_name": "DescriptionStyleModel",
            "_view_count": null,
            "_view_module": "@jupyter-widgets/base",
            "_view_module_version": "1.2.0",
            "_view_name": "StyleView",
            "description_width": ""
          }
        },
        "5cd8c74ba2e845d498afdc1c25009767": {
          "model_module": "@jupyter-widgets/base",
          "model_name": "LayoutModel",
          "model_module_version": "1.2.0",
          "state": {
            "_model_module": "@jupyter-widgets/base",
            "_model_module_version": "1.2.0",
            "_model_name": "LayoutModel",
            "_view_count": null,
            "_view_module": "@jupyter-widgets/base",
            "_view_module_version": "1.2.0",
            "_view_name": "LayoutView",
            "align_content": null,
            "align_items": null,
            "align_self": null,
            "border": null,
            "bottom": null,
            "display": null,
            "flex": null,
            "flex_flow": null,
            "grid_area": null,
            "grid_auto_columns": null,
            "grid_auto_flow": null,
            "grid_auto_rows": null,
            "grid_column": null,
            "grid_gap": null,
            "grid_row": null,
            "grid_template_areas": null,
            "grid_template_columns": null,
            "grid_template_rows": null,
            "height": null,
            "justify_content": null,
            "justify_items": null,
            "left": null,
            "margin": null,
            "max_height": null,
            "max_width": null,
            "min_height": null,
            "min_width": null,
            "object_fit": null,
            "object_position": null,
            "order": null,
            "overflow": null,
            "overflow_x": null,
            "overflow_y": null,
            "padding": null,
            "right": null,
            "top": null,
            "visibility": null,
            "width": null
          }
        },
        "3f0c587f7b764d96837c8e16254aab12": {
          "model_module": "@jupyter-widgets/controls",
          "model_name": "ProgressStyleModel",
          "model_module_version": "1.5.0",
          "state": {
            "_model_module": "@jupyter-widgets/controls",
            "_model_module_version": "1.5.0",
            "_model_name": "ProgressStyleModel",
            "_view_count": null,
            "_view_module": "@jupyter-widgets/base",
            "_view_module_version": "1.2.0",
            "_view_name": "StyleView",
            "bar_color": null,
            "description_width": ""
          }
        },
        "d3b5f5a0d35642e0b606ac63c38f88fa": {
          "model_module": "@jupyter-widgets/base",
          "model_name": "LayoutModel",
          "model_module_version": "1.2.0",
          "state": {
            "_model_module": "@jupyter-widgets/base",
            "_model_module_version": "1.2.0",
            "_model_name": "LayoutModel",
            "_view_count": null,
            "_view_module": "@jupyter-widgets/base",
            "_view_module_version": "1.2.0",
            "_view_name": "LayoutView",
            "align_content": null,
            "align_items": null,
            "align_self": null,
            "border": null,
            "bottom": null,
            "display": null,
            "flex": null,
            "flex_flow": null,
            "grid_area": null,
            "grid_auto_columns": null,
            "grid_auto_flow": null,
            "grid_auto_rows": null,
            "grid_column": null,
            "grid_gap": null,
            "grid_row": null,
            "grid_template_areas": null,
            "grid_template_columns": null,
            "grid_template_rows": null,
            "height": null,
            "justify_content": null,
            "justify_items": null,
            "left": null,
            "margin": null,
            "max_height": null,
            "max_width": null,
            "min_height": null,
            "min_width": null,
            "object_fit": null,
            "object_position": null,
            "order": null,
            "overflow": null,
            "overflow_x": null,
            "overflow_y": null,
            "padding": null,
            "right": null,
            "top": null,
            "visibility": null,
            "width": null
          }
        },
        "7ce84a97d72848c0967f732734afdd68": {
          "model_module": "@jupyter-widgets/controls",
          "model_name": "DescriptionStyleModel",
          "model_module_version": "1.5.0",
          "state": {
            "_model_module": "@jupyter-widgets/controls",
            "_model_module_version": "1.5.0",
            "_model_name": "DescriptionStyleModel",
            "_view_count": null,
            "_view_module": "@jupyter-widgets/base",
            "_view_module_version": "1.2.0",
            "_view_name": "StyleView",
            "description_width": ""
          }
        },
        "1ca82f9af3ae423096661a1ffd8a165f": {
          "model_module": "@jupyter-widgets/controls",
          "model_name": "HBoxModel",
          "model_module_version": "1.5.0",
          "state": {
            "_dom_classes": [],
            "_model_module": "@jupyter-widgets/controls",
            "_model_module_version": "1.5.0",
            "_model_name": "HBoxModel",
            "_view_count": null,
            "_view_module": "@jupyter-widgets/controls",
            "_view_module_version": "1.5.0",
            "_view_name": "HBoxView",
            "box_style": "",
            "children": [
              "IPY_MODEL_ce429683f48349c083e5fc3253a897d7",
              "IPY_MODEL_acc35dfdfca542828d1bb02cbde15dfe",
              "IPY_MODEL_aa92ff120d9c4dd68ae941d7a1f33a81"
            ],
            "layout": "IPY_MODEL_731a283141f642b9ab5bf9f7053381d2"
          }
        },
        "ce429683f48349c083e5fc3253a897d7": {
          "model_module": "@jupyter-widgets/controls",
          "model_name": "HTMLModel",
          "model_module_version": "1.5.0",
          "state": {
            "_dom_classes": [],
            "_model_module": "@jupyter-widgets/controls",
            "_model_module_version": "1.5.0",
            "_model_name": "HTMLModel",
            "_view_count": null,
            "_view_module": "@jupyter-widgets/controls",
            "_view_module_version": "1.5.0",
            "_view_name": "HTMLView",
            "description": "",
            "description_tooltip": null,
            "layout": "IPY_MODEL_4246da00789f44e2abce952906bde6f1",
            "placeholder": "​",
            "style": "IPY_MODEL_059588e34a88476eb6bbc1860ddc27ef",
            "value": "Downloading: 100%"
          }
        },
        "acc35dfdfca542828d1bb02cbde15dfe": {
          "model_module": "@jupyter-widgets/controls",
          "model_name": "FloatProgressModel",
          "model_module_version": "1.5.0",
          "state": {
            "_dom_classes": [],
            "_model_module": "@jupyter-widgets/controls",
            "_model_module_version": "1.5.0",
            "_model_name": "FloatProgressModel",
            "_view_count": null,
            "_view_module": "@jupyter-widgets/controls",
            "_view_module_version": "1.5.0",
            "_view_name": "ProgressView",
            "bar_style": "success",
            "description": "",
            "description_tooltip": null,
            "layout": "IPY_MODEL_6ae3b3139e6641fc9e62ae5744349add",
            "max": 1568,
            "min": 0,
            "orientation": "horizontal",
            "style": "IPY_MODEL_92c30a7c6102443cad2f6f03211c32e0",
            "value": 1568
          }
        },
        "aa92ff120d9c4dd68ae941d7a1f33a81": {
          "model_module": "@jupyter-widgets/controls",
          "model_name": "HTMLModel",
          "model_module_version": "1.5.0",
          "state": {
            "_dom_classes": [],
            "_model_module": "@jupyter-widgets/controls",
            "_model_module_version": "1.5.0",
            "_model_name": "HTMLModel",
            "_view_count": null,
            "_view_module": "@jupyter-widgets/controls",
            "_view_module_version": "1.5.0",
            "_view_name": "HTMLView",
            "description": "",
            "description_tooltip": null,
            "layout": "IPY_MODEL_ad95ae421231492e814238bde2ecb551",
            "placeholder": "​",
            "style": "IPY_MODEL_136f973d9623421eb38e09c73c6b6810",
            "value": " 1.53k/1.53k [00:00&lt;00:00, 36.6kB/s]"
          }
        },
        "731a283141f642b9ab5bf9f7053381d2": {
          "model_module": "@jupyter-widgets/base",
          "model_name": "LayoutModel",
          "model_module_version": "1.2.0",
          "state": {
            "_model_module": "@jupyter-widgets/base",
            "_model_module_version": "1.2.0",
            "_model_name": "LayoutModel",
            "_view_count": null,
            "_view_module": "@jupyter-widgets/base",
            "_view_module_version": "1.2.0",
            "_view_name": "LayoutView",
            "align_content": null,
            "align_items": null,
            "align_self": null,
            "border": null,
            "bottom": null,
            "display": null,
            "flex": null,
            "flex_flow": null,
            "grid_area": null,
            "grid_auto_columns": null,
            "grid_auto_flow": null,
            "grid_auto_rows": null,
            "grid_column": null,
            "grid_gap": null,
            "grid_row": null,
            "grid_template_areas": null,
            "grid_template_columns": null,
            "grid_template_rows": null,
            "height": null,
            "justify_content": null,
            "justify_items": null,
            "left": null,
            "margin": null,
            "max_height": null,
            "max_width": null,
            "min_height": null,
            "min_width": null,
            "object_fit": null,
            "object_position": null,
            "order": null,
            "overflow": null,
            "overflow_x": null,
            "overflow_y": null,
            "padding": null,
            "right": null,
            "top": null,
            "visibility": null,
            "width": null
          }
        },
        "4246da00789f44e2abce952906bde6f1": {
          "model_module": "@jupyter-widgets/base",
          "model_name": "LayoutModel",
          "model_module_version": "1.2.0",
          "state": {
            "_model_module": "@jupyter-widgets/base",
            "_model_module_version": "1.2.0",
            "_model_name": "LayoutModel",
            "_view_count": null,
            "_view_module": "@jupyter-widgets/base",
            "_view_module_version": "1.2.0",
            "_view_name": "LayoutView",
            "align_content": null,
            "align_items": null,
            "align_self": null,
            "border": null,
            "bottom": null,
            "display": null,
            "flex": null,
            "flex_flow": null,
            "grid_area": null,
            "grid_auto_columns": null,
            "grid_auto_flow": null,
            "grid_auto_rows": null,
            "grid_column": null,
            "grid_gap": null,
            "grid_row": null,
            "grid_template_areas": null,
            "grid_template_columns": null,
            "grid_template_rows": null,
            "height": null,
            "justify_content": null,
            "justify_items": null,
            "left": null,
            "margin": null,
            "max_height": null,
            "max_width": null,
            "min_height": null,
            "min_width": null,
            "object_fit": null,
            "object_position": null,
            "order": null,
            "overflow": null,
            "overflow_x": null,
            "overflow_y": null,
            "padding": null,
            "right": null,
            "top": null,
            "visibility": null,
            "width": null
          }
        },
        "059588e34a88476eb6bbc1860ddc27ef": {
          "model_module": "@jupyter-widgets/controls",
          "model_name": "DescriptionStyleModel",
          "model_module_version": "1.5.0",
          "state": {
            "_model_module": "@jupyter-widgets/controls",
            "_model_module_version": "1.5.0",
            "_model_name": "DescriptionStyleModel",
            "_view_count": null,
            "_view_module": "@jupyter-widgets/base",
            "_view_module_version": "1.2.0",
            "_view_name": "StyleView",
            "description_width": ""
          }
        },
        "6ae3b3139e6641fc9e62ae5744349add": {
          "model_module": "@jupyter-widgets/base",
          "model_name": "LayoutModel",
          "model_module_version": "1.2.0",
          "state": {
            "_model_module": "@jupyter-widgets/base",
            "_model_module_version": "1.2.0",
            "_model_name": "LayoutModel",
            "_view_count": null,
            "_view_module": "@jupyter-widgets/base",
            "_view_module_version": "1.2.0",
            "_view_name": "LayoutView",
            "align_content": null,
            "align_items": null,
            "align_self": null,
            "border": null,
            "bottom": null,
            "display": null,
            "flex": null,
            "flex_flow": null,
            "grid_area": null,
            "grid_auto_columns": null,
            "grid_auto_flow": null,
            "grid_auto_rows": null,
            "grid_column": null,
            "grid_gap": null,
            "grid_row": null,
            "grid_template_areas": null,
            "grid_template_columns": null,
            "grid_template_rows": null,
            "height": null,
            "justify_content": null,
            "justify_items": null,
            "left": null,
            "margin": null,
            "max_height": null,
            "max_width": null,
            "min_height": null,
            "min_width": null,
            "object_fit": null,
            "object_position": null,
            "order": null,
            "overflow": null,
            "overflow_x": null,
            "overflow_y": null,
            "padding": null,
            "right": null,
            "top": null,
            "visibility": null,
            "width": null
          }
        },
        "92c30a7c6102443cad2f6f03211c32e0": {
          "model_module": "@jupyter-widgets/controls",
          "model_name": "ProgressStyleModel",
          "model_module_version": "1.5.0",
          "state": {
            "_model_module": "@jupyter-widgets/controls",
            "_model_module_version": "1.5.0",
            "_model_name": "ProgressStyleModel",
            "_view_count": null,
            "_view_module": "@jupyter-widgets/base",
            "_view_module_version": "1.2.0",
            "_view_name": "StyleView",
            "bar_color": null,
            "description_width": ""
          }
        },
        "ad95ae421231492e814238bde2ecb551": {
          "model_module": "@jupyter-widgets/base",
          "model_name": "LayoutModel",
          "model_module_version": "1.2.0",
          "state": {
            "_model_module": "@jupyter-widgets/base",
            "_model_module_version": "1.2.0",
            "_model_name": "LayoutModel",
            "_view_count": null,
            "_view_module": "@jupyter-widgets/base",
            "_view_module_version": "1.2.0",
            "_view_name": "LayoutView",
            "align_content": null,
            "align_items": null,
            "align_self": null,
            "border": null,
            "bottom": null,
            "display": null,
            "flex": null,
            "flex_flow": null,
            "grid_area": null,
            "grid_auto_columns": null,
            "grid_auto_flow": null,
            "grid_auto_rows": null,
            "grid_column": null,
            "grid_gap": null,
            "grid_row": null,
            "grid_template_areas": null,
            "grid_template_columns": null,
            "grid_template_rows": null,
            "height": null,
            "justify_content": null,
            "justify_items": null,
            "left": null,
            "margin": null,
            "max_height": null,
            "max_width": null,
            "min_height": null,
            "min_width": null,
            "object_fit": null,
            "object_position": null,
            "order": null,
            "overflow": null,
            "overflow_x": null,
            "overflow_y": null,
            "padding": null,
            "right": null,
            "top": null,
            "visibility": null,
            "width": null
          }
        },
        "136f973d9623421eb38e09c73c6b6810": {
          "model_module": "@jupyter-widgets/controls",
          "model_name": "DescriptionStyleModel",
          "model_module_version": "1.5.0",
          "state": {
            "_model_module": "@jupyter-widgets/controls",
            "_model_module_version": "1.5.0",
            "_model_name": "DescriptionStyleModel",
            "_view_count": null,
            "_view_module": "@jupyter-widgets/base",
            "_view_module_version": "1.2.0",
            "_view_name": "StyleView",
            "description_width": ""
          }
        },
        "367c85905a024248bce6c620b822b2ee": {
          "model_module": "@jupyter-widgets/controls",
          "model_name": "HBoxModel",
          "model_module_version": "1.5.0",
          "state": {
            "_dom_classes": [],
            "_model_module": "@jupyter-widgets/controls",
            "_model_module_version": "1.5.0",
            "_model_name": "HBoxModel",
            "_view_count": null,
            "_view_module": "@jupyter-widgets/controls",
            "_view_module_version": "1.5.0",
            "_view_name": "HBoxView",
            "box_style": "",
            "children": [
              "IPY_MODEL_7ea310732a56432da1a095a8d30edc1c",
              "IPY_MODEL_2d2b8b8d5774494aa73d872e9a4c10d9",
              "IPY_MODEL_f4af6a0756e241e49e5d325f1bdb18b4"
            ],
            "layout": "IPY_MODEL_2b7e52a9be904663ae74226691de6ebd"
          }
        },
        "7ea310732a56432da1a095a8d30edc1c": {
          "model_module": "@jupyter-widgets/controls",
          "model_name": "HTMLModel",
          "model_module_version": "1.5.0",
          "state": {
            "_dom_classes": [],
            "_model_module": "@jupyter-widgets/controls",
            "_model_module_version": "1.5.0",
            "_model_name": "HTMLModel",
            "_view_count": null,
            "_view_module": "@jupyter-widgets/controls",
            "_view_module_version": "1.5.0",
            "_view_name": "HTMLView",
            "description": "",
            "description_tooltip": null,
            "layout": "IPY_MODEL_771530ea22364f1ea8963e2d542fcf49",
            "placeholder": "​",
            "style": "IPY_MODEL_1cdac9cda666466ca1e09f32661d40ed",
            "value": "Downloading: 100%"
          }
        },
        "2d2b8b8d5774494aa73d872e9a4c10d9": {
          "model_module": "@jupyter-widgets/controls",
          "model_name": "FloatProgressModel",
          "model_module_version": "1.5.0",
          "state": {
            "_dom_classes": [],
            "_model_module": "@jupyter-widgets/controls",
            "_model_module_version": "1.5.0",
            "_model_name": "FloatProgressModel",
            "_view_count": null,
            "_view_module": "@jupyter-widgets/controls",
            "_view_module_version": "1.5.0",
            "_view_name": "ProgressView",
            "bar_style": "success",
            "description": "",
            "description_tooltip": null,
            "layout": "IPY_MODEL_3ec9917890f4452883bcaeac444d056c",
            "max": 1269737156,
            "min": 0,
            "orientation": "horizontal",
            "style": "IPY_MODEL_e9531fcd48b74929bfdb45cd3f3315e7",
            "value": 1269737156
          }
        },
        "f4af6a0756e241e49e5d325f1bdb18b4": {
          "model_module": "@jupyter-widgets/controls",
          "model_name": "HTMLModel",
          "model_module_version": "1.5.0",
          "state": {
            "_dom_classes": [],
            "_model_module": "@jupyter-widgets/controls",
            "_model_module_version": "1.5.0",
            "_model_name": "HTMLModel",
            "_view_count": null,
            "_view_module": "@jupyter-widgets/controls",
            "_view_module_version": "1.5.0",
            "_view_name": "HTMLView",
            "description": "",
            "description_tooltip": null,
            "layout": "IPY_MODEL_349c9e8b2a8846c1bff5a03d2a28066a",
            "placeholder": "​",
            "style": "IPY_MODEL_de1e5c31eacf4fa59cfa51926354acca",
            "value": " 1.18G/1.18G [00:39&lt;00:00, 35.4MB/s]"
          }
        },
        "2b7e52a9be904663ae74226691de6ebd": {
          "model_module": "@jupyter-widgets/base",
          "model_name": "LayoutModel",
          "model_module_version": "1.2.0",
          "state": {
            "_model_module": "@jupyter-widgets/base",
            "_model_module_version": "1.2.0",
            "_model_name": "LayoutModel",
            "_view_count": null,
            "_view_module": "@jupyter-widgets/base",
            "_view_module_version": "1.2.0",
            "_view_name": "LayoutView",
            "align_content": null,
            "align_items": null,
            "align_self": null,
            "border": null,
            "bottom": null,
            "display": null,
            "flex": null,
            "flex_flow": null,
            "grid_area": null,
            "grid_auto_columns": null,
            "grid_auto_flow": null,
            "grid_auto_rows": null,
            "grid_column": null,
            "grid_gap": null,
            "grid_row": null,
            "grid_template_areas": null,
            "grid_template_columns": null,
            "grid_template_rows": null,
            "height": null,
            "justify_content": null,
            "justify_items": null,
            "left": null,
            "margin": null,
            "max_height": null,
            "max_width": null,
            "min_height": null,
            "min_width": null,
            "object_fit": null,
            "object_position": null,
            "order": null,
            "overflow": null,
            "overflow_x": null,
            "overflow_y": null,
            "padding": null,
            "right": null,
            "top": null,
            "visibility": null,
            "width": null
          }
        },
        "771530ea22364f1ea8963e2d542fcf49": {
          "model_module": "@jupyter-widgets/base",
          "model_name": "LayoutModel",
          "model_module_version": "1.2.0",
          "state": {
            "_model_module": "@jupyter-widgets/base",
            "_model_module_version": "1.2.0",
            "_model_name": "LayoutModel",
            "_view_count": null,
            "_view_module": "@jupyter-widgets/base",
            "_view_module_version": "1.2.0",
            "_view_name": "LayoutView",
            "align_content": null,
            "align_items": null,
            "align_self": null,
            "border": null,
            "bottom": null,
            "display": null,
            "flex": null,
            "flex_flow": null,
            "grid_area": null,
            "grid_auto_columns": null,
            "grid_auto_flow": null,
            "grid_auto_rows": null,
            "grid_column": null,
            "grid_gap": null,
            "grid_row": null,
            "grid_template_areas": null,
            "grid_template_columns": null,
            "grid_template_rows": null,
            "height": null,
            "justify_content": null,
            "justify_items": null,
            "left": null,
            "margin": null,
            "max_height": null,
            "max_width": null,
            "min_height": null,
            "min_width": null,
            "object_fit": null,
            "object_position": null,
            "order": null,
            "overflow": null,
            "overflow_x": null,
            "overflow_y": null,
            "padding": null,
            "right": null,
            "top": null,
            "visibility": null,
            "width": null
          }
        },
        "1cdac9cda666466ca1e09f32661d40ed": {
          "model_module": "@jupyter-widgets/controls",
          "model_name": "DescriptionStyleModel",
          "model_module_version": "1.5.0",
          "state": {
            "_model_module": "@jupyter-widgets/controls",
            "_model_module_version": "1.5.0",
            "_model_name": "DescriptionStyleModel",
            "_view_count": null,
            "_view_module": "@jupyter-widgets/base",
            "_view_module_version": "1.2.0",
            "_view_name": "StyleView",
            "description_width": ""
          }
        },
        "3ec9917890f4452883bcaeac444d056c": {
          "model_module": "@jupyter-widgets/base",
          "model_name": "LayoutModel",
          "model_module_version": "1.2.0",
          "state": {
            "_model_module": "@jupyter-widgets/base",
            "_model_module_version": "1.2.0",
            "_model_name": "LayoutModel",
            "_view_count": null,
            "_view_module": "@jupyter-widgets/base",
            "_view_module_version": "1.2.0",
            "_view_name": "LayoutView",
            "align_content": null,
            "align_items": null,
            "align_self": null,
            "border": null,
            "bottom": null,
            "display": null,
            "flex": null,
            "flex_flow": null,
            "grid_area": null,
            "grid_auto_columns": null,
            "grid_auto_flow": null,
            "grid_auto_rows": null,
            "grid_column": null,
            "grid_gap": null,
            "grid_row": null,
            "grid_template_areas": null,
            "grid_template_columns": null,
            "grid_template_rows": null,
            "height": null,
            "justify_content": null,
            "justify_items": null,
            "left": null,
            "margin": null,
            "max_height": null,
            "max_width": null,
            "min_height": null,
            "min_width": null,
            "object_fit": null,
            "object_position": null,
            "order": null,
            "overflow": null,
            "overflow_x": null,
            "overflow_y": null,
            "padding": null,
            "right": null,
            "top": null,
            "visibility": null,
            "width": null
          }
        },
        "e9531fcd48b74929bfdb45cd3f3315e7": {
          "model_module": "@jupyter-widgets/controls",
          "model_name": "ProgressStyleModel",
          "model_module_version": "1.5.0",
          "state": {
            "_model_module": "@jupyter-widgets/controls",
            "_model_module_version": "1.5.0",
            "_model_name": "ProgressStyleModel",
            "_view_count": null,
            "_view_module": "@jupyter-widgets/base",
            "_view_module_version": "1.2.0",
            "_view_name": "StyleView",
            "bar_color": null,
            "description_width": ""
          }
        },
        "349c9e8b2a8846c1bff5a03d2a28066a": {
          "model_module": "@jupyter-widgets/base",
          "model_name": "LayoutModel",
          "model_module_version": "1.2.0",
          "state": {
            "_model_module": "@jupyter-widgets/base",
            "_model_module_version": "1.2.0",
            "_model_name": "LayoutModel",
            "_view_count": null,
            "_view_module": "@jupyter-widgets/base",
            "_view_module_version": "1.2.0",
            "_view_name": "LayoutView",
            "align_content": null,
            "align_items": null,
            "align_self": null,
            "border": null,
            "bottom": null,
            "display": null,
            "flex": null,
            "flex_flow": null,
            "grid_area": null,
            "grid_auto_columns": null,
            "grid_auto_flow": null,
            "grid_auto_rows": null,
            "grid_column": null,
            "grid_gap": null,
            "grid_row": null,
            "grid_template_areas": null,
            "grid_template_columns": null,
            "grid_template_rows": null,
            "height": null,
            "justify_content": null,
            "justify_items": null,
            "left": null,
            "margin": null,
            "max_height": null,
            "max_width": null,
            "min_height": null,
            "min_width": null,
            "object_fit": null,
            "object_position": null,
            "order": null,
            "overflow": null,
            "overflow_x": null,
            "overflow_y": null,
            "padding": null,
            "right": null,
            "top": null,
            "visibility": null,
            "width": null
          }
        },
        "de1e5c31eacf4fa59cfa51926354acca": {
          "model_module": "@jupyter-widgets/controls",
          "model_name": "DescriptionStyleModel",
          "model_module_version": "1.5.0",
          "state": {
            "_model_module": "@jupyter-widgets/controls",
            "_model_module_version": "1.5.0",
            "_model_name": "DescriptionStyleModel",
            "_view_count": null,
            "_view_module": "@jupyter-widgets/base",
            "_view_module_version": "1.2.0",
            "_view_name": "StyleView",
            "description_width": ""
          }
        },
        "5dcce2a0d9464b2580ab8ea6c1a63053": {
          "model_module": "@jupyter-widgets/controls",
          "model_name": "VBoxModel",
          "model_module_version": "1.5.0",
          "state": {
            "_dom_classes": [],
            "_model_module": "@jupyter-widgets/controls",
            "_model_module_version": "1.5.0",
            "_model_name": "VBoxModel",
            "_view_count": null,
            "_view_module": "@jupyter-widgets/controls",
            "_view_module_version": "1.5.0",
            "_view_name": "VBoxView",
            "box_style": "",
            "children": [
              "IPY_MODEL_7e057566e60a470fb380425384256548",
              "IPY_MODEL_983f6a7260a94b579afc285096ab334e",
              "IPY_MODEL_e78942b0e7b24e599740475e4838b5b8",
              "IPY_MODEL_fb46a6fa229d4ec49f531eb19f19ffa5"
            ],
            "layout": "IPY_MODEL_6ab07fdef21e48b698e9cc7f911705e4"
          }
        },
        "33fab9cefd894601b8c6ed0b420c5f2f": {
          "model_module": "@jupyter-widgets/controls",
          "model_name": "HTMLModel",
          "model_module_version": "1.5.0",
          "state": {
            "_dom_classes": [],
            "_model_module": "@jupyter-widgets/controls",
            "_model_module_version": "1.5.0",
            "_model_name": "HTMLModel",
            "_view_count": null,
            "_view_module": "@jupyter-widgets/controls",
            "_view_module_version": "1.5.0",
            "_view_name": "HTMLView",
            "description": "",
            "description_tooltip": null,
            "layout": "IPY_MODEL_60271b2300ff44bd966e8c1b03215914",
            "placeholder": "​",
            "style": "IPY_MODEL_0292fc107147492cbdcc84513ce276d8",
            "value": "<center> <img\nsrc=https://huggingface.co/front/assets/huggingface_logo-noborder.svg\nalt='Hugging Face'> <br> Copy a token from <a\nhref=\"https://huggingface.co/settings/tokens\" target=\"_blank\">your Hugging Face\ntokens page</a> and paste it below. <br> Immediately click login after copying\nyour token or it might be stored in plain text in this notebook file. </center>"
          }
        },
        "2cca6e21d1b04d3a8bd994ce444da2db": {
          "model_module": "@jupyter-widgets/controls",
          "model_name": "PasswordModel",
          "model_module_version": "1.5.0",
          "state": {
            "_dom_classes": [],
            "_model_module": "@jupyter-widgets/controls",
            "_model_module_version": "1.5.0",
            "_model_name": "PasswordModel",
            "_view_count": null,
            "_view_module": "@jupyter-widgets/controls",
            "_view_module_version": "1.5.0",
            "_view_name": "PasswordView",
            "continuous_update": true,
            "description": "Token:",
            "description_tooltip": null,
            "disabled": false,
            "layout": "IPY_MODEL_218a34fedfdc44569a637df4c3a7eda0",
            "placeholder": "​",
            "style": "IPY_MODEL_4372cf1f69c34983b311e15b27e419fa",
            "value": ""
          }
        },
        "7483b769e8e843d5ac5a7b3876edcc85": {
          "model_module": "@jupyter-widgets/controls",
          "model_name": "CheckboxModel",
          "model_module_version": "1.5.0",
          "state": {
            "_dom_classes": [],
            "_model_module": "@jupyter-widgets/controls",
            "_model_module_version": "1.5.0",
            "_model_name": "CheckboxModel",
            "_view_count": null,
            "_view_module": "@jupyter-widgets/controls",
            "_view_module_version": "1.5.0",
            "_view_name": "CheckboxView",
            "description": "Add token as git credential?",
            "description_tooltip": null,
            "disabled": false,
            "indent": true,
            "layout": "IPY_MODEL_890f73740285452bb2d46f6cf7e3460b",
            "style": "IPY_MODEL_2229eab0430b4ccb96180c2015d13446",
            "value": true
          }
        },
        "ebebf7b880f245058e300ef86e6fb13d": {
          "model_module": "@jupyter-widgets/controls",
          "model_name": "ButtonModel",
          "model_module_version": "1.5.0",
          "state": {
            "_dom_classes": [],
            "_model_module": "@jupyter-widgets/controls",
            "_model_module_version": "1.5.0",
            "_model_name": "ButtonModel",
            "_view_count": null,
            "_view_module": "@jupyter-widgets/controls",
            "_view_module_version": "1.5.0",
            "_view_name": "ButtonView",
            "button_style": "",
            "description": "Login",
            "disabled": false,
            "icon": "",
            "layout": "IPY_MODEL_93f7f74047f94ecb87bed50ad7d8403c",
            "style": "IPY_MODEL_1556f7409268463a88417ba0ef1b9b87",
            "tooltip": ""
          }
        },
        "6c0e993a78ca4200aa7c0abd1645198a": {
          "model_module": "@jupyter-widgets/controls",
          "model_name": "HTMLModel",
          "model_module_version": "1.5.0",
          "state": {
            "_dom_classes": [],
            "_model_module": "@jupyter-widgets/controls",
            "_model_module_version": "1.5.0",
            "_model_name": "HTMLModel",
            "_view_count": null,
            "_view_module": "@jupyter-widgets/controls",
            "_view_module_version": "1.5.0",
            "_view_name": "HTMLView",
            "description": "",
            "description_tooltip": null,
            "layout": "IPY_MODEL_fcb09c9d0af149ae969223616f6f326a",
            "placeholder": "​",
            "style": "IPY_MODEL_a23d2b36498e49adbbf45f0cbf8d5038",
            "value": "\n<b>Pro Tip:</b> If you don't already have one, you can create a dedicated\n'notebooks' token with 'write' access, that you can then easily reuse for all\nnotebooks. </center>"
          }
        },
        "6ab07fdef21e48b698e9cc7f911705e4": {
          "model_module": "@jupyter-widgets/base",
          "model_name": "LayoutModel",
          "model_module_version": "1.2.0",
          "state": {
            "_model_module": "@jupyter-widgets/base",
            "_model_module_version": "1.2.0",
            "_model_name": "LayoutModel",
            "_view_count": null,
            "_view_module": "@jupyter-widgets/base",
            "_view_module_version": "1.2.0",
            "_view_name": "LayoutView",
            "align_content": null,
            "align_items": "center",
            "align_self": null,
            "border": null,
            "bottom": null,
            "display": "flex",
            "flex": null,
            "flex_flow": "column",
            "grid_area": null,
            "grid_auto_columns": null,
            "grid_auto_flow": null,
            "grid_auto_rows": null,
            "grid_column": null,
            "grid_gap": null,
            "grid_row": null,
            "grid_template_areas": null,
            "grid_template_columns": null,
            "grid_template_rows": null,
            "height": null,
            "justify_content": null,
            "justify_items": null,
            "left": null,
            "margin": null,
            "max_height": null,
            "max_width": null,
            "min_height": null,
            "min_width": null,
            "object_fit": null,
            "object_position": null,
            "order": null,
            "overflow": null,
            "overflow_x": null,
            "overflow_y": null,
            "padding": null,
            "right": null,
            "top": null,
            "visibility": null,
            "width": "50%"
          }
        },
        "60271b2300ff44bd966e8c1b03215914": {
          "model_module": "@jupyter-widgets/base",
          "model_name": "LayoutModel",
          "model_module_version": "1.2.0",
          "state": {
            "_model_module": "@jupyter-widgets/base",
            "_model_module_version": "1.2.0",
            "_model_name": "LayoutModel",
            "_view_count": null,
            "_view_module": "@jupyter-widgets/base",
            "_view_module_version": "1.2.0",
            "_view_name": "LayoutView",
            "align_content": null,
            "align_items": null,
            "align_self": null,
            "border": null,
            "bottom": null,
            "display": null,
            "flex": null,
            "flex_flow": null,
            "grid_area": null,
            "grid_auto_columns": null,
            "grid_auto_flow": null,
            "grid_auto_rows": null,
            "grid_column": null,
            "grid_gap": null,
            "grid_row": null,
            "grid_template_areas": null,
            "grid_template_columns": null,
            "grid_template_rows": null,
            "height": null,
            "justify_content": null,
            "justify_items": null,
            "left": null,
            "margin": null,
            "max_height": null,
            "max_width": null,
            "min_height": null,
            "min_width": null,
            "object_fit": null,
            "object_position": null,
            "order": null,
            "overflow": null,
            "overflow_x": null,
            "overflow_y": null,
            "padding": null,
            "right": null,
            "top": null,
            "visibility": null,
            "width": null
          }
        },
        "0292fc107147492cbdcc84513ce276d8": {
          "model_module": "@jupyter-widgets/controls",
          "model_name": "DescriptionStyleModel",
          "model_module_version": "1.5.0",
          "state": {
            "_model_module": "@jupyter-widgets/controls",
            "_model_module_version": "1.5.0",
            "_model_name": "DescriptionStyleModel",
            "_view_count": null,
            "_view_module": "@jupyter-widgets/base",
            "_view_module_version": "1.2.0",
            "_view_name": "StyleView",
            "description_width": ""
          }
        },
        "218a34fedfdc44569a637df4c3a7eda0": {
          "model_module": "@jupyter-widgets/base",
          "model_name": "LayoutModel",
          "model_module_version": "1.2.0",
          "state": {
            "_model_module": "@jupyter-widgets/base",
            "_model_module_version": "1.2.0",
            "_model_name": "LayoutModel",
            "_view_count": null,
            "_view_module": "@jupyter-widgets/base",
            "_view_module_version": "1.2.0",
            "_view_name": "LayoutView",
            "align_content": null,
            "align_items": null,
            "align_self": null,
            "border": null,
            "bottom": null,
            "display": null,
            "flex": null,
            "flex_flow": null,
            "grid_area": null,
            "grid_auto_columns": null,
            "grid_auto_flow": null,
            "grid_auto_rows": null,
            "grid_column": null,
            "grid_gap": null,
            "grid_row": null,
            "grid_template_areas": null,
            "grid_template_columns": null,
            "grid_template_rows": null,
            "height": null,
            "justify_content": null,
            "justify_items": null,
            "left": null,
            "margin": null,
            "max_height": null,
            "max_width": null,
            "min_height": null,
            "min_width": null,
            "object_fit": null,
            "object_position": null,
            "order": null,
            "overflow": null,
            "overflow_x": null,
            "overflow_y": null,
            "padding": null,
            "right": null,
            "top": null,
            "visibility": null,
            "width": null
          }
        },
        "4372cf1f69c34983b311e15b27e419fa": {
          "model_module": "@jupyter-widgets/controls",
          "model_name": "DescriptionStyleModel",
          "model_module_version": "1.5.0",
          "state": {
            "_model_module": "@jupyter-widgets/controls",
            "_model_module_version": "1.5.0",
            "_model_name": "DescriptionStyleModel",
            "_view_count": null,
            "_view_module": "@jupyter-widgets/base",
            "_view_module_version": "1.2.0",
            "_view_name": "StyleView",
            "description_width": ""
          }
        },
        "890f73740285452bb2d46f6cf7e3460b": {
          "model_module": "@jupyter-widgets/base",
          "model_name": "LayoutModel",
          "model_module_version": "1.2.0",
          "state": {
            "_model_module": "@jupyter-widgets/base",
            "_model_module_version": "1.2.0",
            "_model_name": "LayoutModel",
            "_view_count": null,
            "_view_module": "@jupyter-widgets/base",
            "_view_module_version": "1.2.0",
            "_view_name": "LayoutView",
            "align_content": null,
            "align_items": null,
            "align_self": null,
            "border": null,
            "bottom": null,
            "display": null,
            "flex": null,
            "flex_flow": null,
            "grid_area": null,
            "grid_auto_columns": null,
            "grid_auto_flow": null,
            "grid_auto_rows": null,
            "grid_column": null,
            "grid_gap": null,
            "grid_row": null,
            "grid_template_areas": null,
            "grid_template_columns": null,
            "grid_template_rows": null,
            "height": null,
            "justify_content": null,
            "justify_items": null,
            "left": null,
            "margin": null,
            "max_height": null,
            "max_width": null,
            "min_height": null,
            "min_width": null,
            "object_fit": null,
            "object_position": null,
            "order": null,
            "overflow": null,
            "overflow_x": null,
            "overflow_y": null,
            "padding": null,
            "right": null,
            "top": null,
            "visibility": null,
            "width": null
          }
        },
        "2229eab0430b4ccb96180c2015d13446": {
          "model_module": "@jupyter-widgets/controls",
          "model_name": "DescriptionStyleModel",
          "model_module_version": "1.5.0",
          "state": {
            "_model_module": "@jupyter-widgets/controls",
            "_model_module_version": "1.5.0",
            "_model_name": "DescriptionStyleModel",
            "_view_count": null,
            "_view_module": "@jupyter-widgets/base",
            "_view_module_version": "1.2.0",
            "_view_name": "StyleView",
            "description_width": ""
          }
        },
        "93f7f74047f94ecb87bed50ad7d8403c": {
          "model_module": "@jupyter-widgets/base",
          "model_name": "LayoutModel",
          "model_module_version": "1.2.0",
          "state": {
            "_model_module": "@jupyter-widgets/base",
            "_model_module_version": "1.2.0",
            "_model_name": "LayoutModel",
            "_view_count": null,
            "_view_module": "@jupyter-widgets/base",
            "_view_module_version": "1.2.0",
            "_view_name": "LayoutView",
            "align_content": null,
            "align_items": null,
            "align_self": null,
            "border": null,
            "bottom": null,
            "display": null,
            "flex": null,
            "flex_flow": null,
            "grid_area": null,
            "grid_auto_columns": null,
            "grid_auto_flow": null,
            "grid_auto_rows": null,
            "grid_column": null,
            "grid_gap": null,
            "grid_row": null,
            "grid_template_areas": null,
            "grid_template_columns": null,
            "grid_template_rows": null,
            "height": null,
            "justify_content": null,
            "justify_items": null,
            "left": null,
            "margin": null,
            "max_height": null,
            "max_width": null,
            "min_height": null,
            "min_width": null,
            "object_fit": null,
            "object_position": null,
            "order": null,
            "overflow": null,
            "overflow_x": null,
            "overflow_y": null,
            "padding": null,
            "right": null,
            "top": null,
            "visibility": null,
            "width": null
          }
        },
        "1556f7409268463a88417ba0ef1b9b87": {
          "model_module": "@jupyter-widgets/controls",
          "model_name": "ButtonStyleModel",
          "model_module_version": "1.5.0",
          "state": {
            "_model_module": "@jupyter-widgets/controls",
            "_model_module_version": "1.5.0",
            "_model_name": "ButtonStyleModel",
            "_view_count": null,
            "_view_module": "@jupyter-widgets/base",
            "_view_module_version": "1.2.0",
            "_view_name": "StyleView",
            "button_color": null,
            "font_weight": ""
          }
        },
        "fcb09c9d0af149ae969223616f6f326a": {
          "model_module": "@jupyter-widgets/base",
          "model_name": "LayoutModel",
          "model_module_version": "1.2.0",
          "state": {
            "_model_module": "@jupyter-widgets/base",
            "_model_module_version": "1.2.0",
            "_model_name": "LayoutModel",
            "_view_count": null,
            "_view_module": "@jupyter-widgets/base",
            "_view_module_version": "1.2.0",
            "_view_name": "LayoutView",
            "align_content": null,
            "align_items": null,
            "align_self": null,
            "border": null,
            "bottom": null,
            "display": null,
            "flex": null,
            "flex_flow": null,
            "grid_area": null,
            "grid_auto_columns": null,
            "grid_auto_flow": null,
            "grid_auto_rows": null,
            "grid_column": null,
            "grid_gap": null,
            "grid_row": null,
            "grid_template_areas": null,
            "grid_template_columns": null,
            "grid_template_rows": null,
            "height": null,
            "justify_content": null,
            "justify_items": null,
            "left": null,
            "margin": null,
            "max_height": null,
            "max_width": null,
            "min_height": null,
            "min_width": null,
            "object_fit": null,
            "object_position": null,
            "order": null,
            "overflow": null,
            "overflow_x": null,
            "overflow_y": null,
            "padding": null,
            "right": null,
            "top": null,
            "visibility": null,
            "width": null
          }
        },
        "a23d2b36498e49adbbf45f0cbf8d5038": {
          "model_module": "@jupyter-widgets/controls",
          "model_name": "DescriptionStyleModel",
          "model_module_version": "1.5.0",
          "state": {
            "_model_module": "@jupyter-widgets/controls",
            "_model_module_version": "1.5.0",
            "_model_name": "DescriptionStyleModel",
            "_view_count": null,
            "_view_module": "@jupyter-widgets/base",
            "_view_module_version": "1.2.0",
            "_view_name": "StyleView",
            "description_width": ""
          }
        },
        "41ea6d01b3a04492aa7e36fdff5bb2fa": {
          "model_module": "@jupyter-widgets/controls",
          "model_name": "LabelModel",
          "model_module_version": "1.5.0",
          "state": {
            "_dom_classes": [],
            "_model_module": "@jupyter-widgets/controls",
            "_model_module_version": "1.5.0",
            "_model_name": "LabelModel",
            "_view_count": null,
            "_view_module": "@jupyter-widgets/controls",
            "_view_module_version": "1.5.0",
            "_view_name": "LabelView",
            "description": "",
            "description_tooltip": null,
            "layout": "IPY_MODEL_bc6f38087aa748eca4a29219b9186b10",
            "placeholder": "​",
            "style": "IPY_MODEL_3e75c951d49d47d1991f2d9318a7074d",
            "value": "Connecting..."
          }
        },
        "bc6f38087aa748eca4a29219b9186b10": {
          "model_module": "@jupyter-widgets/base",
          "model_name": "LayoutModel",
          "model_module_version": "1.2.0",
          "state": {
            "_model_module": "@jupyter-widgets/base",
            "_model_module_version": "1.2.0",
            "_model_name": "LayoutModel",
            "_view_count": null,
            "_view_module": "@jupyter-widgets/base",
            "_view_module_version": "1.2.0",
            "_view_name": "LayoutView",
            "align_content": null,
            "align_items": null,
            "align_self": null,
            "border": null,
            "bottom": null,
            "display": null,
            "flex": null,
            "flex_flow": null,
            "grid_area": null,
            "grid_auto_columns": null,
            "grid_auto_flow": null,
            "grid_auto_rows": null,
            "grid_column": null,
            "grid_gap": null,
            "grid_row": null,
            "grid_template_areas": null,
            "grid_template_columns": null,
            "grid_template_rows": null,
            "height": null,
            "justify_content": null,
            "justify_items": null,
            "left": null,
            "margin": null,
            "max_height": null,
            "max_width": null,
            "min_height": null,
            "min_width": null,
            "object_fit": null,
            "object_position": null,
            "order": null,
            "overflow": null,
            "overflow_x": null,
            "overflow_y": null,
            "padding": null,
            "right": null,
            "top": null,
            "visibility": null,
            "width": null
          }
        },
        "3e75c951d49d47d1991f2d9318a7074d": {
          "model_module": "@jupyter-widgets/controls",
          "model_name": "DescriptionStyleModel",
          "model_module_version": "1.5.0",
          "state": {
            "_model_module": "@jupyter-widgets/controls",
            "_model_module_version": "1.5.0",
            "_model_name": "DescriptionStyleModel",
            "_view_count": null,
            "_view_module": "@jupyter-widgets/base",
            "_view_module_version": "1.2.0",
            "_view_name": "StyleView",
            "description_width": ""
          }
        },
        "7e057566e60a470fb380425384256548": {
          "model_module": "@jupyter-widgets/controls",
          "model_name": "LabelModel",
          "model_module_version": "1.5.0",
          "state": {
            "_dom_classes": [],
            "_model_module": "@jupyter-widgets/controls",
            "_model_module_version": "1.5.0",
            "_model_name": "LabelModel",
            "_view_count": null,
            "_view_module": "@jupyter-widgets/controls",
            "_view_module_version": "1.5.0",
            "_view_name": "LabelView",
            "description": "",
            "description_tooltip": null,
            "layout": "IPY_MODEL_98d7319158ef4530804d97e8779a68bf",
            "placeholder": "​",
            "style": "IPY_MODEL_91c2ab139db146e1908a7a9bd2eb665a",
            "value": "Token is valid (permission: write)."
          }
        },
        "983f6a7260a94b579afc285096ab334e": {
          "model_module": "@jupyter-widgets/controls",
          "model_name": "LabelModel",
          "model_module_version": "1.5.0",
          "state": {
            "_dom_classes": [],
            "_model_module": "@jupyter-widgets/controls",
            "_model_module_version": "1.5.0",
            "_model_name": "LabelModel",
            "_view_count": null,
            "_view_module": "@jupyter-widgets/controls",
            "_view_module_version": "1.5.0",
            "_view_name": "LabelView",
            "description": "",
            "description_tooltip": null,
            "layout": "IPY_MODEL_5b7d20a1d3b3417d8f4cbe9ba6893ca3",
            "placeholder": "​",
            "style": "IPY_MODEL_6615c5b38edc42779aba589602c42f26",
            "value": "Your token has been saved in your configured git credential helpers (store)."
          }
        },
        "e78942b0e7b24e599740475e4838b5b8": {
          "model_module": "@jupyter-widgets/controls",
          "model_name": "LabelModel",
          "model_module_version": "1.5.0",
          "state": {
            "_dom_classes": [],
            "_model_module": "@jupyter-widgets/controls",
            "_model_module_version": "1.5.0",
            "_model_name": "LabelModel",
            "_view_count": null,
            "_view_module": "@jupyter-widgets/controls",
            "_view_module_version": "1.5.0",
            "_view_name": "LabelView",
            "description": "",
            "description_tooltip": null,
            "layout": "IPY_MODEL_47df32de82c74d24a1ae9fb49e2342ee",
            "placeholder": "​",
            "style": "IPY_MODEL_c1a79075d7f8463fb3e1e9d67df0e6d9",
            "value": "Your token has been saved to /root/.cache/huggingface/token"
          }
        },
        "fb46a6fa229d4ec49f531eb19f19ffa5": {
          "model_module": "@jupyter-widgets/controls",
          "model_name": "LabelModel",
          "model_module_version": "1.5.0",
          "state": {
            "_dom_classes": [],
            "_model_module": "@jupyter-widgets/controls",
            "_model_module_version": "1.5.0",
            "_model_name": "LabelModel",
            "_view_count": null,
            "_view_module": "@jupyter-widgets/controls",
            "_view_module_version": "1.5.0",
            "_view_name": "LabelView",
            "description": "",
            "description_tooltip": null,
            "layout": "IPY_MODEL_7143648ca1d24850af6ca7a6c6062ec0",
            "placeholder": "​",
            "style": "IPY_MODEL_52ff003907d34dbbbbeb4eb65ce8207a",
            "value": "Login successful"
          }
        },
        "98d7319158ef4530804d97e8779a68bf": {
          "model_module": "@jupyter-widgets/base",
          "model_name": "LayoutModel",
          "model_module_version": "1.2.0",
          "state": {
            "_model_module": "@jupyter-widgets/base",
            "_model_module_version": "1.2.0",
            "_model_name": "LayoutModel",
            "_view_count": null,
            "_view_module": "@jupyter-widgets/base",
            "_view_module_version": "1.2.0",
            "_view_name": "LayoutView",
            "align_content": null,
            "align_items": null,
            "align_self": null,
            "border": null,
            "bottom": null,
            "display": null,
            "flex": null,
            "flex_flow": null,
            "grid_area": null,
            "grid_auto_columns": null,
            "grid_auto_flow": null,
            "grid_auto_rows": null,
            "grid_column": null,
            "grid_gap": null,
            "grid_row": null,
            "grid_template_areas": null,
            "grid_template_columns": null,
            "grid_template_rows": null,
            "height": null,
            "justify_content": null,
            "justify_items": null,
            "left": null,
            "margin": null,
            "max_height": null,
            "max_width": null,
            "min_height": null,
            "min_width": null,
            "object_fit": null,
            "object_position": null,
            "order": null,
            "overflow": null,
            "overflow_x": null,
            "overflow_y": null,
            "padding": null,
            "right": null,
            "top": null,
            "visibility": null,
            "width": null
          }
        },
        "91c2ab139db146e1908a7a9bd2eb665a": {
          "model_module": "@jupyter-widgets/controls",
          "model_name": "DescriptionStyleModel",
          "model_module_version": "1.5.0",
          "state": {
            "_model_module": "@jupyter-widgets/controls",
            "_model_module_version": "1.5.0",
            "_model_name": "DescriptionStyleModel",
            "_view_count": null,
            "_view_module": "@jupyter-widgets/base",
            "_view_module_version": "1.2.0",
            "_view_name": "StyleView",
            "description_width": ""
          }
        },
        "5b7d20a1d3b3417d8f4cbe9ba6893ca3": {
          "model_module": "@jupyter-widgets/base",
          "model_name": "LayoutModel",
          "model_module_version": "1.2.0",
          "state": {
            "_model_module": "@jupyter-widgets/base",
            "_model_module_version": "1.2.0",
            "_model_name": "LayoutModel",
            "_view_count": null,
            "_view_module": "@jupyter-widgets/base",
            "_view_module_version": "1.2.0",
            "_view_name": "LayoutView",
            "align_content": null,
            "align_items": null,
            "align_self": null,
            "border": null,
            "bottom": null,
            "display": null,
            "flex": null,
            "flex_flow": null,
            "grid_area": null,
            "grid_auto_columns": null,
            "grid_auto_flow": null,
            "grid_auto_rows": null,
            "grid_column": null,
            "grid_gap": null,
            "grid_row": null,
            "grid_template_areas": null,
            "grid_template_columns": null,
            "grid_template_rows": null,
            "height": null,
            "justify_content": null,
            "justify_items": null,
            "left": null,
            "margin": null,
            "max_height": null,
            "max_width": null,
            "min_height": null,
            "min_width": null,
            "object_fit": null,
            "object_position": null,
            "order": null,
            "overflow": null,
            "overflow_x": null,
            "overflow_y": null,
            "padding": null,
            "right": null,
            "top": null,
            "visibility": null,
            "width": null
          }
        },
        "6615c5b38edc42779aba589602c42f26": {
          "model_module": "@jupyter-widgets/controls",
          "model_name": "DescriptionStyleModel",
          "model_module_version": "1.5.0",
          "state": {
            "_model_module": "@jupyter-widgets/controls",
            "_model_module_version": "1.5.0",
            "_model_name": "DescriptionStyleModel",
            "_view_count": null,
            "_view_module": "@jupyter-widgets/base",
            "_view_module_version": "1.2.0",
            "_view_name": "StyleView",
            "description_width": ""
          }
        },
        "47df32de82c74d24a1ae9fb49e2342ee": {
          "model_module": "@jupyter-widgets/base",
          "model_name": "LayoutModel",
          "model_module_version": "1.2.0",
          "state": {
            "_model_module": "@jupyter-widgets/base",
            "_model_module_version": "1.2.0",
            "_model_name": "LayoutModel",
            "_view_count": null,
            "_view_module": "@jupyter-widgets/base",
            "_view_module_version": "1.2.0",
            "_view_name": "LayoutView",
            "align_content": null,
            "align_items": null,
            "align_self": null,
            "border": null,
            "bottom": null,
            "display": null,
            "flex": null,
            "flex_flow": null,
            "grid_area": null,
            "grid_auto_columns": null,
            "grid_auto_flow": null,
            "grid_auto_rows": null,
            "grid_column": null,
            "grid_gap": null,
            "grid_row": null,
            "grid_template_areas": null,
            "grid_template_columns": null,
            "grid_template_rows": null,
            "height": null,
            "justify_content": null,
            "justify_items": null,
            "left": null,
            "margin": null,
            "max_height": null,
            "max_width": null,
            "min_height": null,
            "min_width": null,
            "object_fit": null,
            "object_position": null,
            "order": null,
            "overflow": null,
            "overflow_x": null,
            "overflow_y": null,
            "padding": null,
            "right": null,
            "top": null,
            "visibility": null,
            "width": null
          }
        },
        "c1a79075d7f8463fb3e1e9d67df0e6d9": {
          "model_module": "@jupyter-widgets/controls",
          "model_name": "DescriptionStyleModel",
          "model_module_version": "1.5.0",
          "state": {
            "_model_module": "@jupyter-widgets/controls",
            "_model_module_version": "1.5.0",
            "_model_name": "DescriptionStyleModel",
            "_view_count": null,
            "_view_module": "@jupyter-widgets/base",
            "_view_module_version": "1.2.0",
            "_view_name": "StyleView",
            "description_width": ""
          }
        },
        "7143648ca1d24850af6ca7a6c6062ec0": {
          "model_module": "@jupyter-widgets/base",
          "model_name": "LayoutModel",
          "model_module_version": "1.2.0",
          "state": {
            "_model_module": "@jupyter-widgets/base",
            "_model_module_version": "1.2.0",
            "_model_name": "LayoutModel",
            "_view_count": null,
            "_view_module": "@jupyter-widgets/base",
            "_view_module_version": "1.2.0",
            "_view_name": "LayoutView",
            "align_content": null,
            "align_items": null,
            "align_self": null,
            "border": null,
            "bottom": null,
            "display": null,
            "flex": null,
            "flex_flow": null,
            "grid_area": null,
            "grid_auto_columns": null,
            "grid_auto_flow": null,
            "grid_auto_rows": null,
            "grid_column": null,
            "grid_gap": null,
            "grid_row": null,
            "grid_template_areas": null,
            "grid_template_columns": null,
            "grid_template_rows": null,
            "height": null,
            "justify_content": null,
            "justify_items": null,
            "left": null,
            "margin": null,
            "max_height": null,
            "max_width": null,
            "min_height": null,
            "min_width": null,
            "object_fit": null,
            "object_position": null,
            "order": null,
            "overflow": null,
            "overflow_x": null,
            "overflow_y": null,
            "padding": null,
            "right": null,
            "top": null,
            "visibility": null,
            "width": null
          }
        },
        "52ff003907d34dbbbbeb4eb65ce8207a": {
          "model_module": "@jupyter-widgets/controls",
          "model_name": "DescriptionStyleModel",
          "model_module_version": "1.5.0",
          "state": {
            "_model_module": "@jupyter-widgets/controls",
            "_model_module_version": "1.5.0",
            "_model_name": "DescriptionStyleModel",
            "_view_count": null,
            "_view_module": "@jupyter-widgets/base",
            "_view_module_version": "1.2.0",
            "_view_name": "StyleView",
            "description_width": ""
          }
        },
        "42691381a08a407b932d79ad6b6160da": {
          "model_module": "@jupyter-widgets/controls",
          "model_name": "HBoxModel",
          "model_module_version": "1.5.0",
          "state": {
            "_dom_classes": [],
            "_model_module": "@jupyter-widgets/controls",
            "_model_module_version": "1.5.0",
            "_model_name": "HBoxModel",
            "_view_count": null,
            "_view_module": "@jupyter-widgets/controls",
            "_view_module_version": "1.5.0",
            "_view_name": "HBoxView",
            "box_style": "",
            "children": [
              "IPY_MODEL_391c57e475154c2e82a52947143f3e6b",
              "IPY_MODEL_96d973b216f04f038d3abb1103d716df",
              "IPY_MODEL_a7f37ee434264bd9af156a3552f96f30"
            ],
            "layout": "IPY_MODEL_c8a81938a03443e2b217f8440508f798"
          }
        },
        "391c57e475154c2e82a52947143f3e6b": {
          "model_module": "@jupyter-widgets/controls",
          "model_name": "HTMLModel",
          "model_module_version": "1.5.0",
          "state": {
            "_dom_classes": [],
            "_model_module": "@jupyter-widgets/controls",
            "_model_module_version": "1.5.0",
            "_model_name": "HTMLModel",
            "_view_count": null,
            "_view_module": "@jupyter-widgets/controls",
            "_view_module_version": "1.5.0",
            "_view_name": "HTMLView",
            "description": "",
            "description_tooltip": null,
            "layout": "IPY_MODEL_03997774c2ff46e791ad0a95ad2387b1",
            "placeholder": "​",
            "style": "IPY_MODEL_a16d6ea6f91745be87b66a0862995c17",
            "value": "100%"
          }
        },
        "96d973b216f04f038d3abb1103d716df": {
          "model_module": "@jupyter-widgets/controls",
          "model_name": "FloatProgressModel",
          "model_module_version": "1.5.0",
          "state": {
            "_dom_classes": [],
            "_model_module": "@jupyter-widgets/controls",
            "_model_module_version": "1.5.0",
            "_model_name": "FloatProgressModel",
            "_view_count": null,
            "_view_module": "@jupyter-widgets/controls",
            "_view_module_version": "1.5.0",
            "_view_name": "ProgressView",
            "bar_style": "success",
            "description": "",
            "description_tooltip": null,
            "layout": "IPY_MODEL_6e5e5539b7cf4a448447da29805580fb",
            "max": 1,
            "min": 0,
            "orientation": "horizontal",
            "style": "IPY_MODEL_3d3352b3b276419eb230ec0c2e7c0e27",
            "value": 1
          }
        },
        "a7f37ee434264bd9af156a3552f96f30": {
          "model_module": "@jupyter-widgets/controls",
          "model_name": "HTMLModel",
          "model_module_version": "1.5.0",
          "state": {
            "_dom_classes": [],
            "_model_module": "@jupyter-widgets/controls",
            "_model_module_version": "1.5.0",
            "_model_name": "HTMLModel",
            "_view_count": null,
            "_view_module": "@jupyter-widgets/controls",
            "_view_module_version": "1.5.0",
            "_view_name": "HTMLView",
            "description": "",
            "description_tooltip": null,
            "layout": "IPY_MODEL_2a5475ca67524bccb54158577ef7abeb",
            "placeholder": "​",
            "style": "IPY_MODEL_89d8fa009db9413b980070a3f32cda8f",
            "value": " 1/1 [00:51&lt;00:00, 51.04s/ba]"
          }
        },
        "c8a81938a03443e2b217f8440508f798": {
          "model_module": "@jupyter-widgets/base",
          "model_name": "LayoutModel",
          "model_module_version": "1.2.0",
          "state": {
            "_model_module": "@jupyter-widgets/base",
            "_model_module_version": "1.2.0",
            "_model_name": "LayoutModel",
            "_view_count": null,
            "_view_module": "@jupyter-widgets/base",
            "_view_module_version": "1.2.0",
            "_view_name": "LayoutView",
            "align_content": null,
            "align_items": null,
            "align_self": null,
            "border": null,
            "bottom": null,
            "display": null,
            "flex": null,
            "flex_flow": null,
            "grid_area": null,
            "grid_auto_columns": null,
            "grid_auto_flow": null,
            "grid_auto_rows": null,
            "grid_column": null,
            "grid_gap": null,
            "grid_row": null,
            "grid_template_areas": null,
            "grid_template_columns": null,
            "grid_template_rows": null,
            "height": null,
            "justify_content": null,
            "justify_items": null,
            "left": null,
            "margin": null,
            "max_height": null,
            "max_width": null,
            "min_height": null,
            "min_width": null,
            "object_fit": null,
            "object_position": null,
            "order": null,
            "overflow": null,
            "overflow_x": null,
            "overflow_y": null,
            "padding": null,
            "right": null,
            "top": null,
            "visibility": null,
            "width": null
          }
        },
        "03997774c2ff46e791ad0a95ad2387b1": {
          "model_module": "@jupyter-widgets/base",
          "model_name": "LayoutModel",
          "model_module_version": "1.2.0",
          "state": {
            "_model_module": "@jupyter-widgets/base",
            "_model_module_version": "1.2.0",
            "_model_name": "LayoutModel",
            "_view_count": null,
            "_view_module": "@jupyter-widgets/base",
            "_view_module_version": "1.2.0",
            "_view_name": "LayoutView",
            "align_content": null,
            "align_items": null,
            "align_self": null,
            "border": null,
            "bottom": null,
            "display": null,
            "flex": null,
            "flex_flow": null,
            "grid_area": null,
            "grid_auto_columns": null,
            "grid_auto_flow": null,
            "grid_auto_rows": null,
            "grid_column": null,
            "grid_gap": null,
            "grid_row": null,
            "grid_template_areas": null,
            "grid_template_columns": null,
            "grid_template_rows": null,
            "height": null,
            "justify_content": null,
            "justify_items": null,
            "left": null,
            "margin": null,
            "max_height": null,
            "max_width": null,
            "min_height": null,
            "min_width": null,
            "object_fit": null,
            "object_position": null,
            "order": null,
            "overflow": null,
            "overflow_x": null,
            "overflow_y": null,
            "padding": null,
            "right": null,
            "top": null,
            "visibility": null,
            "width": null
          }
        },
        "a16d6ea6f91745be87b66a0862995c17": {
          "model_module": "@jupyter-widgets/controls",
          "model_name": "DescriptionStyleModel",
          "model_module_version": "1.5.0",
          "state": {
            "_model_module": "@jupyter-widgets/controls",
            "_model_module_version": "1.5.0",
            "_model_name": "DescriptionStyleModel",
            "_view_count": null,
            "_view_module": "@jupyter-widgets/base",
            "_view_module_version": "1.2.0",
            "_view_name": "StyleView",
            "description_width": ""
          }
        },
        "6e5e5539b7cf4a448447da29805580fb": {
          "model_module": "@jupyter-widgets/base",
          "model_name": "LayoutModel",
          "model_module_version": "1.2.0",
          "state": {
            "_model_module": "@jupyter-widgets/base",
            "_model_module_version": "1.2.0",
            "_model_name": "LayoutModel",
            "_view_count": null,
            "_view_module": "@jupyter-widgets/base",
            "_view_module_version": "1.2.0",
            "_view_name": "LayoutView",
            "align_content": null,
            "align_items": null,
            "align_self": null,
            "border": null,
            "bottom": null,
            "display": null,
            "flex": null,
            "flex_flow": null,
            "grid_area": null,
            "grid_auto_columns": null,
            "grid_auto_flow": null,
            "grid_auto_rows": null,
            "grid_column": null,
            "grid_gap": null,
            "grid_row": null,
            "grid_template_areas": null,
            "grid_template_columns": null,
            "grid_template_rows": null,
            "height": null,
            "justify_content": null,
            "justify_items": null,
            "left": null,
            "margin": null,
            "max_height": null,
            "max_width": null,
            "min_height": null,
            "min_width": null,
            "object_fit": null,
            "object_position": null,
            "order": null,
            "overflow": null,
            "overflow_x": null,
            "overflow_y": null,
            "padding": null,
            "right": null,
            "top": null,
            "visibility": null,
            "width": null
          }
        },
        "3d3352b3b276419eb230ec0c2e7c0e27": {
          "model_module": "@jupyter-widgets/controls",
          "model_name": "ProgressStyleModel",
          "model_module_version": "1.5.0",
          "state": {
            "_model_module": "@jupyter-widgets/controls",
            "_model_module_version": "1.5.0",
            "_model_name": "ProgressStyleModel",
            "_view_count": null,
            "_view_module": "@jupyter-widgets/base",
            "_view_module_version": "1.2.0",
            "_view_name": "StyleView",
            "bar_color": null,
            "description_width": ""
          }
        },
        "2a5475ca67524bccb54158577ef7abeb": {
          "model_module": "@jupyter-widgets/base",
          "model_name": "LayoutModel",
          "model_module_version": "1.2.0",
          "state": {
            "_model_module": "@jupyter-widgets/base",
            "_model_module_version": "1.2.0",
            "_model_name": "LayoutModel",
            "_view_count": null,
            "_view_module": "@jupyter-widgets/base",
            "_view_module_version": "1.2.0",
            "_view_name": "LayoutView",
            "align_content": null,
            "align_items": null,
            "align_self": null,
            "border": null,
            "bottom": null,
            "display": null,
            "flex": null,
            "flex_flow": null,
            "grid_area": null,
            "grid_auto_columns": null,
            "grid_auto_flow": null,
            "grid_auto_rows": null,
            "grid_column": null,
            "grid_gap": null,
            "grid_row": null,
            "grid_template_areas": null,
            "grid_template_columns": null,
            "grid_template_rows": null,
            "height": null,
            "justify_content": null,
            "justify_items": null,
            "left": null,
            "margin": null,
            "max_height": null,
            "max_width": null,
            "min_height": null,
            "min_width": null,
            "object_fit": null,
            "object_position": null,
            "order": null,
            "overflow": null,
            "overflow_x": null,
            "overflow_y": null,
            "padding": null,
            "right": null,
            "top": null,
            "visibility": null,
            "width": null
          }
        },
        "89d8fa009db9413b980070a3f32cda8f": {
          "model_module": "@jupyter-widgets/controls",
          "model_name": "DescriptionStyleModel",
          "model_module_version": "1.5.0",
          "state": {
            "_model_module": "@jupyter-widgets/controls",
            "_model_module_version": "1.5.0",
            "_model_name": "DescriptionStyleModel",
            "_view_count": null,
            "_view_module": "@jupyter-widgets/base",
            "_view_module_version": "1.2.0",
            "_view_name": "StyleView",
            "description_width": ""
          }
        },
        "9bc15d0d0c5b4a66ab2659d47c74b1b7": {
          "model_module": "@jupyter-widgets/controls",
          "model_name": "HBoxModel",
          "model_module_version": "1.5.0",
          "state": {
            "_dom_classes": [],
            "_model_module": "@jupyter-widgets/controls",
            "_model_module_version": "1.5.0",
            "_model_name": "HBoxModel",
            "_view_count": null,
            "_view_module": "@jupyter-widgets/controls",
            "_view_module_version": "1.5.0",
            "_view_name": "HBoxView",
            "box_style": "",
            "children": [
              "IPY_MODEL_5276fdeff2154e5d933f55e9158cbccb",
              "IPY_MODEL_c9a9c437d54640ba83e3c2e1a657307f",
              "IPY_MODEL_61acf5bfba6f4b32940aca3a6a605c90"
            ],
            "layout": "IPY_MODEL_d72f06698fe94802a2354b7e084c5f50"
          }
        },
        "5276fdeff2154e5d933f55e9158cbccb": {
          "model_module": "@jupyter-widgets/controls",
          "model_name": "HTMLModel",
          "model_module_version": "1.5.0",
          "state": {
            "_dom_classes": [],
            "_model_module": "@jupyter-widgets/controls",
            "_model_module_version": "1.5.0",
            "_model_name": "HTMLModel",
            "_view_count": null,
            "_view_module": "@jupyter-widgets/controls",
            "_view_module_version": "1.5.0",
            "_view_name": "HTMLView",
            "description": "",
            "description_tooltip": null,
            "layout": "IPY_MODEL_a47f9d50753a4e7ea6da479cb499f7ab",
            "placeholder": "​",
            "style": "IPY_MODEL_26e02223733f4a86ad5064360e99b8f3",
            "value": "100%"
          }
        },
        "c9a9c437d54640ba83e3c2e1a657307f": {
          "model_module": "@jupyter-widgets/controls",
          "model_name": "FloatProgressModel",
          "model_module_version": "1.5.0",
          "state": {
            "_dom_classes": [],
            "_model_module": "@jupyter-widgets/controls",
            "_model_module_version": "1.5.0",
            "_model_name": "FloatProgressModel",
            "_view_count": null,
            "_view_module": "@jupyter-widgets/controls",
            "_view_module_version": "1.5.0",
            "_view_name": "ProgressView",
            "bar_style": "success",
            "description": "",
            "description_tooltip": null,
            "layout": "IPY_MODEL_c28f06a569754f8bbac6057175718e28",
            "max": 1,
            "min": 0,
            "orientation": "horizontal",
            "style": "IPY_MODEL_18c4af026e6048b7883eab5d4c8b15df",
            "value": 1
          }
        },
        "61acf5bfba6f4b32940aca3a6a605c90": {
          "model_module": "@jupyter-widgets/controls",
          "model_name": "HTMLModel",
          "model_module_version": "1.5.0",
          "state": {
            "_dom_classes": [],
            "_model_module": "@jupyter-widgets/controls",
            "_model_module_version": "1.5.0",
            "_model_name": "HTMLModel",
            "_view_count": null,
            "_view_module": "@jupyter-widgets/controls",
            "_view_module_version": "1.5.0",
            "_view_name": "HTMLView",
            "description": "",
            "description_tooltip": null,
            "layout": "IPY_MODEL_423fb1f63a86465d802b29759307c6e6",
            "placeholder": "​",
            "style": "IPY_MODEL_c64b288f13884ba2874ab3ad34c83ff2",
            "value": " 1/1 [00:14&lt;00:00, 14.37s/ba]"
          }
        },
        "d72f06698fe94802a2354b7e084c5f50": {
          "model_module": "@jupyter-widgets/base",
          "model_name": "LayoutModel",
          "model_module_version": "1.2.0",
          "state": {
            "_model_module": "@jupyter-widgets/base",
            "_model_module_version": "1.2.0",
            "_model_name": "LayoutModel",
            "_view_count": null,
            "_view_module": "@jupyter-widgets/base",
            "_view_module_version": "1.2.0",
            "_view_name": "LayoutView",
            "align_content": null,
            "align_items": null,
            "align_self": null,
            "border": null,
            "bottom": null,
            "display": null,
            "flex": null,
            "flex_flow": null,
            "grid_area": null,
            "grid_auto_columns": null,
            "grid_auto_flow": null,
            "grid_auto_rows": null,
            "grid_column": null,
            "grid_gap": null,
            "grid_row": null,
            "grid_template_areas": null,
            "grid_template_columns": null,
            "grid_template_rows": null,
            "height": null,
            "justify_content": null,
            "justify_items": null,
            "left": null,
            "margin": null,
            "max_height": null,
            "max_width": null,
            "min_height": null,
            "min_width": null,
            "object_fit": null,
            "object_position": null,
            "order": null,
            "overflow": null,
            "overflow_x": null,
            "overflow_y": null,
            "padding": null,
            "right": null,
            "top": null,
            "visibility": null,
            "width": null
          }
        },
        "a47f9d50753a4e7ea6da479cb499f7ab": {
          "model_module": "@jupyter-widgets/base",
          "model_name": "LayoutModel",
          "model_module_version": "1.2.0",
          "state": {
            "_model_module": "@jupyter-widgets/base",
            "_model_module_version": "1.2.0",
            "_model_name": "LayoutModel",
            "_view_count": null,
            "_view_module": "@jupyter-widgets/base",
            "_view_module_version": "1.2.0",
            "_view_name": "LayoutView",
            "align_content": null,
            "align_items": null,
            "align_self": null,
            "border": null,
            "bottom": null,
            "display": null,
            "flex": null,
            "flex_flow": null,
            "grid_area": null,
            "grid_auto_columns": null,
            "grid_auto_flow": null,
            "grid_auto_rows": null,
            "grid_column": null,
            "grid_gap": null,
            "grid_row": null,
            "grid_template_areas": null,
            "grid_template_columns": null,
            "grid_template_rows": null,
            "height": null,
            "justify_content": null,
            "justify_items": null,
            "left": null,
            "margin": null,
            "max_height": null,
            "max_width": null,
            "min_height": null,
            "min_width": null,
            "object_fit": null,
            "object_position": null,
            "order": null,
            "overflow": null,
            "overflow_x": null,
            "overflow_y": null,
            "padding": null,
            "right": null,
            "top": null,
            "visibility": null,
            "width": null
          }
        },
        "26e02223733f4a86ad5064360e99b8f3": {
          "model_module": "@jupyter-widgets/controls",
          "model_name": "DescriptionStyleModel",
          "model_module_version": "1.5.0",
          "state": {
            "_model_module": "@jupyter-widgets/controls",
            "_model_module_version": "1.5.0",
            "_model_name": "DescriptionStyleModel",
            "_view_count": null,
            "_view_module": "@jupyter-widgets/base",
            "_view_module_version": "1.2.0",
            "_view_name": "StyleView",
            "description_width": ""
          }
        },
        "c28f06a569754f8bbac6057175718e28": {
          "model_module": "@jupyter-widgets/base",
          "model_name": "LayoutModel",
          "model_module_version": "1.2.0",
          "state": {
            "_model_module": "@jupyter-widgets/base",
            "_model_module_version": "1.2.0",
            "_model_name": "LayoutModel",
            "_view_count": null,
            "_view_module": "@jupyter-widgets/base",
            "_view_module_version": "1.2.0",
            "_view_name": "LayoutView",
            "align_content": null,
            "align_items": null,
            "align_self": null,
            "border": null,
            "bottom": null,
            "display": null,
            "flex": null,
            "flex_flow": null,
            "grid_area": null,
            "grid_auto_columns": null,
            "grid_auto_flow": null,
            "grid_auto_rows": null,
            "grid_column": null,
            "grid_gap": null,
            "grid_row": null,
            "grid_template_areas": null,
            "grid_template_columns": null,
            "grid_template_rows": null,
            "height": null,
            "justify_content": null,
            "justify_items": null,
            "left": null,
            "margin": null,
            "max_height": null,
            "max_width": null,
            "min_height": null,
            "min_width": null,
            "object_fit": null,
            "object_position": null,
            "order": null,
            "overflow": null,
            "overflow_x": null,
            "overflow_y": null,
            "padding": null,
            "right": null,
            "top": null,
            "visibility": null,
            "width": null
          }
        },
        "18c4af026e6048b7883eab5d4c8b15df": {
          "model_module": "@jupyter-widgets/controls",
          "model_name": "ProgressStyleModel",
          "model_module_version": "1.5.0",
          "state": {
            "_model_module": "@jupyter-widgets/controls",
            "_model_module_version": "1.5.0",
            "_model_name": "ProgressStyleModel",
            "_view_count": null,
            "_view_module": "@jupyter-widgets/base",
            "_view_module_version": "1.2.0",
            "_view_name": "StyleView",
            "bar_color": null,
            "description_width": ""
          }
        },
        "423fb1f63a86465d802b29759307c6e6": {
          "model_module": "@jupyter-widgets/base",
          "model_name": "LayoutModel",
          "model_module_version": "1.2.0",
          "state": {
            "_model_module": "@jupyter-widgets/base",
            "_model_module_version": "1.2.0",
            "_model_name": "LayoutModel",
            "_view_count": null,
            "_view_module": "@jupyter-widgets/base",
            "_view_module_version": "1.2.0",
            "_view_name": "LayoutView",
            "align_content": null,
            "align_items": null,
            "align_self": null,
            "border": null,
            "bottom": null,
            "display": null,
            "flex": null,
            "flex_flow": null,
            "grid_area": null,
            "grid_auto_columns": null,
            "grid_auto_flow": null,
            "grid_auto_rows": null,
            "grid_column": null,
            "grid_gap": null,
            "grid_row": null,
            "grid_template_areas": null,
            "grid_template_columns": null,
            "grid_template_rows": null,
            "height": null,
            "justify_content": null,
            "justify_items": null,
            "left": null,
            "margin": null,
            "max_height": null,
            "max_width": null,
            "min_height": null,
            "min_width": null,
            "object_fit": null,
            "object_position": null,
            "order": null,
            "overflow": null,
            "overflow_x": null,
            "overflow_y": null,
            "padding": null,
            "right": null,
            "top": null,
            "visibility": null,
            "width": null
          }
        },
        "c64b288f13884ba2874ab3ad34c83ff2": {
          "model_module": "@jupyter-widgets/controls",
          "model_name": "DescriptionStyleModel",
          "model_module_version": "1.5.0",
          "state": {
            "_model_module": "@jupyter-widgets/controls",
            "_model_module_version": "1.5.0",
            "_model_name": "DescriptionStyleModel",
            "_view_count": null,
            "_view_module": "@jupyter-widgets/base",
            "_view_module_version": "1.2.0",
            "_view_name": "StyleView",
            "description_width": ""
          }
        },
        "a977e773098349ecb6c33c9d447b8767": {
          "model_module": "@jupyter-widgets/controls",
          "model_name": "HBoxModel",
          "model_module_version": "1.5.0",
          "state": {
            "_dom_classes": [],
            "_model_module": "@jupyter-widgets/controls",
            "_model_module_version": "1.5.0",
            "_model_name": "HBoxModel",
            "_view_count": null,
            "_view_module": "@jupyter-widgets/controls",
            "_view_module_version": "1.5.0",
            "_view_name": "HBoxView",
            "box_style": "",
            "children": [
              "IPY_MODEL_10c89d1453d44d23855480108e329da4",
              "IPY_MODEL_afa0582dfa7d434e88acafeb743ca556",
              "IPY_MODEL_006db84c7a704e0ab5d5751bad582dcb"
            ],
            "layout": "IPY_MODEL_5c6aa52de3e54f5e8cdfcd581e05c2dc"
          }
        },
        "10c89d1453d44d23855480108e329da4": {
          "model_module": "@jupyter-widgets/controls",
          "model_name": "HTMLModel",
          "model_module_version": "1.5.0",
          "state": {
            "_dom_classes": [],
            "_model_module": "@jupyter-widgets/controls",
            "_model_module_version": "1.5.0",
            "_model_name": "HTMLModel",
            "_view_count": null,
            "_view_module": "@jupyter-widgets/controls",
            "_view_module_version": "1.5.0",
            "_view_name": "HTMLView",
            "description": "",
            "description_tooltip": null,
            "layout": "IPY_MODEL_7afaf02f46754cde95fc91bca493d121",
            "placeholder": "​",
            "style": "IPY_MODEL_4136d8e5a2744de8bae28702b08ec077",
            "value": ""
          }
        },
        "afa0582dfa7d434e88acafeb743ca556": {
          "model_module": "@jupyter-widgets/controls",
          "model_name": "FloatProgressModel",
          "model_module_version": "1.5.0",
          "state": {
            "_dom_classes": [],
            "_model_module": "@jupyter-widgets/controls",
            "_model_module_version": "1.5.0",
            "_model_name": "FloatProgressModel",
            "_view_count": null,
            "_view_module": "@jupyter-widgets/controls",
            "_view_module_version": "1.5.0",
            "_view_name": "ProgressView",
            "bar_style": "danger",
            "description": "",
            "description_tooltip": null,
            "layout": "IPY_MODEL_4ff7ef45a11b43d2adba76132f44e8b1",
            "max": 1,
            "min": 0,
            "orientation": "horizontal",
            "style": "IPY_MODEL_a6028e1e820e4e76bbb01b5c1353414c",
            "value": 0
          }
        },
        "006db84c7a704e0ab5d5751bad582dcb": {
          "model_module": "@jupyter-widgets/controls",
          "model_name": "HTMLModel",
          "model_module_version": "1.5.0",
          "state": {
            "_dom_classes": [],
            "_model_module": "@jupyter-widgets/controls",
            "_model_module_version": "1.5.0",
            "_model_name": "HTMLModel",
            "_view_count": null,
            "_view_module": "@jupyter-widgets/controls",
            "_view_module_version": "1.5.0",
            "_view_name": "HTMLView",
            "description": "",
            "description_tooltip": null,
            "layout": "IPY_MODEL_7c7be8699058426c86a31bf1a81d5a62",
            "placeholder": "​",
            "style": "IPY_MODEL_326a92fbcd78438db16246938803e949",
            "value": " 0/? [00:00&lt;?, ?ex/s]"
          }
        },
        "5c6aa52de3e54f5e8cdfcd581e05c2dc": {
          "model_module": "@jupyter-widgets/base",
          "model_name": "LayoutModel",
          "model_module_version": "1.2.0",
          "state": {
            "_model_module": "@jupyter-widgets/base",
            "_model_module_version": "1.2.0",
            "_model_name": "LayoutModel",
            "_view_count": null,
            "_view_module": "@jupyter-widgets/base",
            "_view_module_version": "1.2.0",
            "_view_name": "LayoutView",
            "align_content": null,
            "align_items": null,
            "align_self": null,
            "border": null,
            "bottom": null,
            "display": null,
            "flex": null,
            "flex_flow": null,
            "grid_area": null,
            "grid_auto_columns": null,
            "grid_auto_flow": null,
            "grid_auto_rows": null,
            "grid_column": null,
            "grid_gap": null,
            "grid_row": null,
            "grid_template_areas": null,
            "grid_template_columns": null,
            "grid_template_rows": null,
            "height": null,
            "justify_content": null,
            "justify_items": null,
            "left": null,
            "margin": null,
            "max_height": null,
            "max_width": null,
            "min_height": null,
            "min_width": null,
            "object_fit": null,
            "object_position": null,
            "order": null,
            "overflow": null,
            "overflow_x": null,
            "overflow_y": null,
            "padding": null,
            "right": null,
            "top": null,
            "visibility": null,
            "width": null
          }
        },
        "7afaf02f46754cde95fc91bca493d121": {
          "model_module": "@jupyter-widgets/base",
          "model_name": "LayoutModel",
          "model_module_version": "1.2.0",
          "state": {
            "_model_module": "@jupyter-widgets/base",
            "_model_module_version": "1.2.0",
            "_model_name": "LayoutModel",
            "_view_count": null,
            "_view_module": "@jupyter-widgets/base",
            "_view_module_version": "1.2.0",
            "_view_name": "LayoutView",
            "align_content": null,
            "align_items": null,
            "align_self": null,
            "border": null,
            "bottom": null,
            "display": null,
            "flex": null,
            "flex_flow": null,
            "grid_area": null,
            "grid_auto_columns": null,
            "grid_auto_flow": null,
            "grid_auto_rows": null,
            "grid_column": null,
            "grid_gap": null,
            "grid_row": null,
            "grid_template_areas": null,
            "grid_template_columns": null,
            "grid_template_rows": null,
            "height": null,
            "justify_content": null,
            "justify_items": null,
            "left": null,
            "margin": null,
            "max_height": null,
            "max_width": null,
            "min_height": null,
            "min_width": null,
            "object_fit": null,
            "object_position": null,
            "order": null,
            "overflow": null,
            "overflow_x": null,
            "overflow_y": null,
            "padding": null,
            "right": null,
            "top": null,
            "visibility": null,
            "width": null
          }
        },
        "4136d8e5a2744de8bae28702b08ec077": {
          "model_module": "@jupyter-widgets/controls",
          "model_name": "DescriptionStyleModel",
          "model_module_version": "1.5.0",
          "state": {
            "_model_module": "@jupyter-widgets/controls",
            "_model_module_version": "1.5.0",
            "_model_name": "DescriptionStyleModel",
            "_view_count": null,
            "_view_module": "@jupyter-widgets/base",
            "_view_module_version": "1.2.0",
            "_view_name": "StyleView",
            "description_width": ""
          }
        },
        "4ff7ef45a11b43d2adba76132f44e8b1": {
          "model_module": "@jupyter-widgets/base",
          "model_name": "LayoutModel",
          "model_module_version": "1.2.0",
          "state": {
            "_model_module": "@jupyter-widgets/base",
            "_model_module_version": "1.2.0",
            "_model_name": "LayoutModel",
            "_view_count": null,
            "_view_module": "@jupyter-widgets/base",
            "_view_module_version": "1.2.0",
            "_view_name": "LayoutView",
            "align_content": null,
            "align_items": null,
            "align_self": null,
            "border": null,
            "bottom": null,
            "display": null,
            "flex": null,
            "flex_flow": null,
            "grid_area": null,
            "grid_auto_columns": null,
            "grid_auto_flow": null,
            "grid_auto_rows": null,
            "grid_column": null,
            "grid_gap": null,
            "grid_row": null,
            "grid_template_areas": null,
            "grid_template_columns": null,
            "grid_template_rows": null,
            "height": null,
            "justify_content": null,
            "justify_items": null,
            "left": null,
            "margin": null,
            "max_height": null,
            "max_width": null,
            "min_height": null,
            "min_width": null,
            "object_fit": null,
            "object_position": null,
            "order": null,
            "overflow": null,
            "overflow_x": null,
            "overflow_y": null,
            "padding": null,
            "right": null,
            "top": null,
            "visibility": null,
            "width": "20px"
          }
        },
        "a6028e1e820e4e76bbb01b5c1353414c": {
          "model_module": "@jupyter-widgets/controls",
          "model_name": "ProgressStyleModel",
          "model_module_version": "1.5.0",
          "state": {
            "_model_module": "@jupyter-widgets/controls",
            "_model_module_version": "1.5.0",
            "_model_name": "ProgressStyleModel",
            "_view_count": null,
            "_view_module": "@jupyter-widgets/base",
            "_view_module_version": "1.2.0",
            "_view_name": "StyleView",
            "bar_color": null,
            "description_width": ""
          }
        },
        "7c7be8699058426c86a31bf1a81d5a62": {
          "model_module": "@jupyter-widgets/base",
          "model_name": "LayoutModel",
          "model_module_version": "1.2.0",
          "state": {
            "_model_module": "@jupyter-widgets/base",
            "_model_module_version": "1.2.0",
            "_model_name": "LayoutModel",
            "_view_count": null,
            "_view_module": "@jupyter-widgets/base",
            "_view_module_version": "1.2.0",
            "_view_name": "LayoutView",
            "align_content": null,
            "align_items": null,
            "align_self": null,
            "border": null,
            "bottom": null,
            "display": null,
            "flex": null,
            "flex_flow": null,
            "grid_area": null,
            "grid_auto_columns": null,
            "grid_auto_flow": null,
            "grid_auto_rows": null,
            "grid_column": null,
            "grid_gap": null,
            "grid_row": null,
            "grid_template_areas": null,
            "grid_template_columns": null,
            "grid_template_rows": null,
            "height": null,
            "justify_content": null,
            "justify_items": null,
            "left": null,
            "margin": null,
            "max_height": null,
            "max_width": null,
            "min_height": null,
            "min_width": null,
            "object_fit": null,
            "object_position": null,
            "order": null,
            "overflow": null,
            "overflow_x": null,
            "overflow_y": null,
            "padding": null,
            "right": null,
            "top": null,
            "visibility": null,
            "width": null
          }
        },
        "326a92fbcd78438db16246938803e949": {
          "model_module": "@jupyter-widgets/controls",
          "model_name": "DescriptionStyleModel",
          "model_module_version": "1.5.0",
          "state": {
            "_model_module": "@jupyter-widgets/controls",
            "_model_module_version": "1.5.0",
            "_model_name": "DescriptionStyleModel",
            "_view_count": null,
            "_view_module": "@jupyter-widgets/base",
            "_view_module_version": "1.2.0",
            "_view_name": "StyleView",
            "description_width": ""
          }
        }
      }
    }
  },
  "cells": [
    {
      "cell_type": "markdown",
      "metadata": {
        "id": "LBSYoWbi-45k"
      },
      "source": [
        "# **Fine-tuning XLS-R for Multi-Lingual ASR with 🤗 Transformers**\n",
        "\n",
        "***New (11/2021)***: *This blog post has been updated to feature XLSR's successor, called [XLS-R](https://huggingface.co/models?other=xls_r)*."
      ]
    },
    {
      "cell_type": "markdown",
      "metadata": {
        "id": "V7YOT2mnUiea"
      },
      "source": [
        "**Wav2Vec2** is a pretrained model for Automatic Speech Recognition (ASR) and was released in [September 2020](https://ai.facebook.com/blog/wav2vec-20-learning-the-structure-of-speech-from-raw-audio/) by *Alexei Baevski, Michael Auli, and Alex Conneau*.  Soon after the superior performance of Wav2Vec2 was demonstrated on one of the most popular English datasets for ASR, called [LibriSpeech](https://huggingface.co/datasets/librispeech_asr), *Facebook AI* presented a multi-lingual version of Wav2Vec2, called [XLSR](https://arxiv.org/abs/2006.13979). XLSR stands for *cross-lingual speech representations* and refers to model's ability to learn speech representations that are useful across multiple languages.\n",
        "\n",
        "XLSR's successor, simply called **XLS-R** (refering to the [*''XLM-R*](https://ai.facebook.com/blog/-xlm-r-state-of-the-art-cross-lingual-understanding-through-self-supervision/) *for Speech''*), was released in [November 2021](https://ai.facebook.com/blog/xls-r-self-supervised-speech-processing-for-128-languages) by *Arun Babu, Changhan Wang, Andros Tjandra, et al.* XLS-R used almost **half a million** hours of audio data in 128 languages for self-supervised pre-training and comes in sizes ranging from 300 milion up to **two billion** parameters. You can find the pretrained checkpoints on the 🤗 Hub:\n",
        "\n",
        "- [**Wav2Vec2-XLS-R-300M**](https://huggingface.co/facebook/wav2vec2-xls-r-300m)\n",
        "- [**Wav2Vec2-XLS-R-1B**](https://huggingface.co/facebook/wav2vec2-xls-r-1b)\n",
        "- [**Wav2Vec2-XLS-R-2B**](https://huggingface.co/facebook/wav2vec2-xls-r-2b)\n",
        "\n",
        "Similar to [BERT's masked language modeling objective](http://jalammar.github.io/illustrated-bert/), XLS-R learns contextualized speech representations by randomly masking feature vectors before passing them to a transformer network during self-supervised pre-training (*i.e.* diagram on the left below).\n",
        "\n",
        "For fine-tuning, a single linear layer is added on top of the pre-trained network to train the model on labeled data of audio downstream tasks such as speech recognition, speech translation and audio classification (*i.e.* diagram on the right below).\n",
        "\n",
        "![wav2vec2_structure](https://raw.githubusercontent.com/patrickvonplaten/scientific_images/master/xls_r.png)\n",
        "\n",
        "XLS-R shows impressive improvements over previous state-of-the-art results on both speech recognition, speech translation and speaker/language identification, *cf.* with Table 3-6, Table 7-10, and Table 11-12 respectively of the official [paper](https://ai.facebook.com/blog/xls-r-self-supervised-speech-processing-for-128-languages)."
      ]
    },
    {
      "cell_type": "markdown",
      "metadata": {
        "id": "nT_QrfWtsxIz"
      },
      "source": [
        "## Notebook Setup"
      ]
    },
    {
      "cell_type": "markdown",
      "metadata": {
        "id": "kruqixOYHaIo"
      },
      "source": [
        "\n",
        "In this notebook, we will give an in-detail explanation of how XLS-R - more specifically the pre-trained checkpoint [**Wav2Vec2-XLS-R-300M**](https://huggingface.co/facebook/wav2vec2-xls-r-300m) - can be fine-tuned for ASR.  \n",
        "\n",
        "For demonstration purposes, we fine-tune the model on the low resource ASR dataset of [Common Voice](https://huggingface.co/datasets/common_voice) that contains only *ca.* 4h of validated training data."
      ]
    },
    {
      "cell_type": "markdown",
      "metadata": {
        "id": "Gx9OdDYrCtQ1"
      },
      "source": [
        "XLS-R is fine-tuned using Connectionist Temporal Classification (CTC), which is an algorithm that is used to train neural networks for sequence-to-sequence problems, such as ASR and handwriting recognition.\n",
        "\n",
        "I highly recommend reading the well-written blog post [*Sequence Modeling with CTC (2017)*](https://distill.pub/2017/ctc/) by Awni Hannun."
      ]
    },
    {
      "cell_type": "markdown",
      "metadata": {
        "id": "wcHuXIaWyHZU"
      },
      "source": [
        "First, let's try to get a good GPU in our colab! With Google Colab's free version it's sadly becoming much harder to get access to a good GPU. With Google Colab Pro, however, one should easily get either a V100 or P100 GPU."
      ]
    },
    {
      "cell_type": "code",
      "metadata": {
        "colab": {
          "base_uri": "https://localhost:8080/"
        },
        "id": "YELVqGxMxnbG",
        "outputId": "4928df53-e381-4900-e973-f9b859c40a02"
      },
      "source": [
        "gpu_info = !nvidia-smi\n",
        "gpu_info = '\\n'.join(gpu_info)\n",
        "if gpu_info.find('failed') >= 0:\n",
        "  print('Not connected to a GPU')\n",
        "else:\n",
        "  print(gpu_info)"
      ],
      "execution_count": 1,
      "outputs": [
        {
          "output_type": "stream",
          "name": "stdout",
          "text": [
            "Sun Sep 10 10:39:34 2023       \n",
            "+-----------------------------------------------------------------------------+\n",
            "| NVIDIA-SMI 525.105.17   Driver Version: 525.105.17   CUDA Version: 12.0     |\n",
            "|-------------------------------+----------------------+----------------------+\n",
            "| GPU  Name        Persistence-M| Bus-Id        Disp.A | Volatile Uncorr. ECC |\n",
            "| Fan  Temp  Perf  Pwr:Usage/Cap|         Memory-Usage | GPU-Util  Compute M. |\n",
            "|                               |                      |               MIG M. |\n",
            "|===============================+======================+======================|\n",
            "|   0  Tesla T4            Off  | 00000000:00:04.0 Off |                    0 |\n",
            "| N/A   56C    P8    12W /  70W |      0MiB / 15360MiB |      0%      Default |\n",
            "|                               |                      |                  N/A |\n",
            "+-------------------------------+----------------------+----------------------+\n",
            "                                                                               \n",
            "+-----------------------------------------------------------------------------+\n",
            "| Processes:                                                                  |\n",
            "|  GPU   GI   CI        PID   Type   Process name                  GPU Memory |\n",
            "|        ID   ID                                                   Usage      |\n",
            "|=============================================================================|\n",
            "|  No running processes found                                                 |\n",
            "+-----------------------------------------------------------------------------+\n"
          ]
        }
      ]
    },
    {
      "cell_type": "markdown",
      "metadata": {
        "id": "e335hPmdtASZ"
      },
      "source": [
        "Before we start, let's install `datasets` and `transformers`. Also, we need the `torchaudio` to load audio files and `jiwer` to evaluate our fine-tuned model using the [word error rate (WER)](https://huggingface.co/metrics/wer) metric ${}^1$."
      ]
    },
    {
      "cell_type": "code",
      "metadata": {
        "id": "c8eh87Hoee5d"
      },
      "source": [
        "%%capture\n",
        "!pip install datasets\n",
        "!pip install transformers\n",
        "!pip install torchaudio==0.10.0+cu113 -f https://download.pytorch.org/whl/cu113/torch_stable.html\n",
        "!pip install jiwer"
      ],
      "execution_count": 3,
      "outputs": []
    },
    {
      "cell_type": "markdown",
      "metadata": {
        "id": "0xxt_LwxDQlO"
      },
      "source": [
        "We strongly suggest to upload your training checkpoints directly to the [🤗 Hub](https://huggingface.co/) while training. The [🤗 Hub](https://huggingface.co/) has integrated version control so you can be sure that no model checkpoint is getting lost during training.\n",
        "\n",
        "To do so you have to store your authentication token from the Hugging Face website (sign up [here](https://huggingface.co/join) if you haven't already!)"
      ]
    },
    {
      "cell_type": "code",
      "metadata": {
        "colab": {
          "base_uri": "https://localhost:8080/",
          "height": 145,
          "referenced_widgets": [
            "5dcce2a0d9464b2580ab8ea6c1a63053",
            "33fab9cefd894601b8c6ed0b420c5f2f",
            "2cca6e21d1b04d3a8bd994ce444da2db",
            "7483b769e8e843d5ac5a7b3876edcc85",
            "ebebf7b880f245058e300ef86e6fb13d",
            "6c0e993a78ca4200aa7c0abd1645198a",
            "6ab07fdef21e48b698e9cc7f911705e4",
            "60271b2300ff44bd966e8c1b03215914",
            "0292fc107147492cbdcc84513ce276d8",
            "218a34fedfdc44569a637df4c3a7eda0",
            "4372cf1f69c34983b311e15b27e419fa",
            "890f73740285452bb2d46f6cf7e3460b",
            "2229eab0430b4ccb96180c2015d13446",
            "93f7f74047f94ecb87bed50ad7d8403c",
            "1556f7409268463a88417ba0ef1b9b87",
            "fcb09c9d0af149ae969223616f6f326a",
            "a23d2b36498e49adbbf45f0cbf8d5038",
            "41ea6d01b3a04492aa7e36fdff5bb2fa",
            "bc6f38087aa748eca4a29219b9186b10",
            "3e75c951d49d47d1991f2d9318a7074d",
            "7e057566e60a470fb380425384256548",
            "983f6a7260a94b579afc285096ab334e",
            "e78942b0e7b24e599740475e4838b5b8",
            "fb46a6fa229d4ec49f531eb19f19ffa5",
            "98d7319158ef4530804d97e8779a68bf",
            "91c2ab139db146e1908a7a9bd2eb665a",
            "5b7d20a1d3b3417d8f4cbe9ba6893ca3",
            "6615c5b38edc42779aba589602c42f26",
            "47df32de82c74d24a1ae9fb49e2342ee",
            "c1a79075d7f8463fb3e1e9d67df0e6d9",
            "7143648ca1d24850af6ca7a6c6062ec0",
            "52ff003907d34dbbbbeb4eb65ce8207a"
          ]
        },
        "id": "mlMSH3T3EazV",
        "outputId": "eebc2d86-cf6d-4e92-9217-51debc4b62e2"
      },
      "source": [
        "from huggingface_hub import notebook_login\n",
        "\n",
        "notebook_login()"
      ],
      "execution_count": 3,
      "outputs": [
        {
          "output_type": "display_data",
          "data": {
            "text/plain": [
              "VBox(children=(HTML(value='<center> <img\\nsrc=https://huggingface.co/front/assets/huggingface_logo-noborder.sv…"
            ],
            "application/vnd.jupyter.widget-view+json": {
              "version_major": 2,
              "version_minor": 0,
              "model_id": "5dcce2a0d9464b2580ab8ea6c1a63053"
            }
          },
          "metadata": {}
        }
      ]
    },
    {
      "cell_type": "markdown",
      "metadata": {
        "id": "ujdZ2TxhElk6"
      },
      "source": [
        "\n",
        "Then you need to install Git-LFS to upload your model checkpoints:"
      ]
    },
    {
      "cell_type": "code",
      "metadata": {
        "id": "WcR-d83OEkqb"
      },
      "source": [
        "%%capture\n",
        "!apt install git-lfs"
      ],
      "execution_count": 4,
      "outputs": []
    },
    {
      "cell_type": "markdown",
      "metadata": {
        "id": "Mn9swf6EQ9Vd"
      },
      "source": [
        "\n",
        "\n",
        "\n",
        "---\n",
        "\n",
        "${}^1$ In the [paper](https://arxiv.org/pdf/2006.13979.pdf), the model was evaluated using the phoneme error rate (PER), but by far the most common metric in ASR is the word error rate (WER). To keep this notebook as general as possible we decided to evaluate the model using WER."
      ]
    },
    {
      "cell_type": "markdown",
      "metadata": {
        "id": "0mW-C1Nt-j7k"
      },
      "source": [
        "## Prepare Data, Tokenizer, Feature Extractor"
      ]
    },
    {
      "cell_type": "markdown",
      "metadata": {
        "id": "BeBosnY9BH3e"
      },
      "source": [
        "ASR models transcribe speech to text, which means that we both need a feature extractor that processes the speech signal to the model's input format, *e.g.* a feature vector, and a tokenizer that processes the model's output format to text.\n",
        "\n",
        "In 🤗 Transformers, the XLS-R model is thus accompanied by both a tokenizer, called [Wav2Vec2CTCTokenizer](https://huggingface.co/transformers/master/model_doc/wav2vec2.html#wav2vec2ctctokenizer), and a feature extractor, called [Wav2Vec2FeatureExtractor](https://huggingface.co/transformers/master/model_doc/wav2vec2.html#wav2vec2featureextractor).\n",
        "\n",
        "Let's start by creating the tokenizer to decode the predicted output classes to the output transcription."
      ]
    },
    {
      "cell_type": "markdown",
      "metadata": {
        "id": "sEXEWEJGQPqD"
      },
      "source": [
        "### Create `Wav2Vec2CTCTokenizer`"
      ]
    },
    {
      "cell_type": "markdown",
      "metadata": {
        "id": "tWmMikuNEKl_"
      },
      "source": [
        "A pre-trained XLS-R model maps the speech signal to a sequence of context representations as illustrated in the figure above. However, for speech recognition the model has to to map this sequence of context representations to its corresponding transcription which means that a linear layer has to be added on top of the transformer block (shown in yellow in the diagram above). This linear layer is used to classifies each context representation to a token class analogous how, *e.g.*, after pretraining a linear layer is added on top of BERT's embeddings for further classification - *cf.* with *'BERT'* section of this [blog post](https://huggingface.co/blog/warm-starting-encoder-decoder)."
      ]
    },
    {
      "cell_type": "markdown",
      "metadata": {
        "id": "v5oRE8XjIUH3"
      },
      "source": [
        "The output size of this layer corresponds to the number of tokens in the vocabulary, which does **not** depend onXLS-R's pretraining task, but only on the labeled dataset used for fine-tuning. So in the first step, we will take a look at the chosen dataset of Common Voice and define a vocabulary based on the transcriptions."
      ]
    },
    {
      "cell_type": "markdown",
      "metadata": {
        "id": "idBczw8mWzgt"
      },
      "source": [
        "First, let's go to Common Voice [official website](https://commonvoice.mozilla.org/en/datasets) and pick a language to fine-tune XLS-R on. For this notebook, we will use Turkish.\n",
        "\n",
        "For each language-specific dataset, you can find a language code corresponding to your chosen language. On [Common Voice](https://commonvoice.mozilla.org/en/datasets), look for the field \"Version\". The language code then corresponds to the prefix before the underscore. For Turkish, *e.g.* the language code is `\"tr\"`.\n",
        "\n",
        "Great, now we can use 🤗 Datasets' simple API to download the data. The dataset name is `\"common_voice\"`, the configuration name corresponds to the language code, which is `\"tr\"` in our case."
      ]
    },
    {
      "cell_type": "markdown",
      "metadata": {
        "id": "bee4g9rpLxll"
      },
      "source": [
        "Common Voice has many different splits including `invalidated`, which refers to data that was not rated as \"clean enough\" to be considered useful. In this notebook, we will only make use of the splits `\"train\"`, `\"validation\"` and `\"test\"`.\n",
        "\n",
        "Because the Turkish dataset is so small, we will merge both the validation and training data into a training dataset and only use the test data for validation."
      ]
    },
    {
      "cell_type": "code",
      "metadata": {
        "colab": {
          "base_uri": "https://localhost:8080/"
        },
        "id": "2MMXcWFFgCXU",
        "outputId": "2ed9350c-febb-404b-9ad5-fd7e4c84be85"
      },
      "source": [
        "from datasets import load_dataset, load_metric, Audio\n",
        "\n",
        "common_voice = load_dataset(\"thennal/IMaSC\", split=\"train\")"
      ],
      "execution_count": 41,
      "outputs": [
        {
          "output_type": "stream",
          "name": "stderr",
          "text": [
            "WARNING:datasets.builder:Using custom data configuration thennal--IMaSC-6aa263ba5427fffe\n",
            "WARNING:datasets.builder:Reusing dataset parquet (/root/.cache/huggingface/datasets/parquet/thennal--IMaSC-6aa263ba5427fffe/0.0.0/0b6d5799bb726b24ad7fc7be720c170d8e497f575d02d47537de9a5bac074901)\n"
          ]
        }
      ]
    },
    {
      "cell_type": "code",
      "source": [
        "cv = common_voice.train_test_split(test_size=0.2)\n",
        "common_voice_train = cv[\"train\"]\n",
        "common_voice_test = cv[\"test\"]"
      ],
      "metadata": {
        "id": "DiRJA7nyr-5C"
      },
      "execution_count": 42,
      "outputs": []
    },
    {
      "cell_type": "code",
      "source": [
        "common_voice_train"
      ],
      "metadata": {
        "id": "KMWr24wltfHd",
        "outputId": "21a84b20-dcc7-4bce-83ab-ee4877565198",
        "colab": {
          "base_uri": "https://localhost:8080/"
        }
      },
      "execution_count": 15,
      "outputs": [
        {
          "output_type": "execute_result",
          "data": {
            "text/plain": [
              "Dataset({\n",
              "    features: ['text', 'speaker', 'audio'],\n",
              "    num_rows: 27578\n",
              "})"
            ]
          },
          "metadata": {},
          "execution_count": 15
        }
      ]
    },
    {
      "cell_type": "markdown",
      "metadata": {
        "id": "ri5y5N_HMANq"
      },
      "source": [
        "Many ASR datasets only provide the target text, `'sentence'` for each audio array `'audio'` and file `'path'`. Common Voice actually provides much more information about each audio file, such as the `'accent'`, etc. Keeping the notebook as general as possible, we only consider the transcribed text for fine-tuning.\n",
        "\n"
      ]
    },
    {
      "cell_type": "code",
      "metadata": {
        "id": "kbyq6lDgQc2a"
      },
      "source": [
        "common_voice_train = common_voice_train.remove_columns([\"accddent\", \"age\", \"client_id\", \"down_votes\", \"gender\", \"locale\", \"segment\", \"up_votes\"])\n",
        "common_voice_test = common_voice_test.remove_columns([\"accent\", \"age\", \"client_id\", \"down_votes\", \"gender\", \"locale\", \"segment\", \"up_votes\"])"
      ],
      "execution_count": null,
      "outputs": []
    },
    {
      "cell_type": "markdown",
      "metadata": {
        "id": "Go9Hq4e4NDT9"
      },
      "source": [
        "Let's write a short function to display some random samples of the dataset and run it a couple of times to get a feeling for the transcriptions."
      ]
    },
    {
      "cell_type": "code",
      "metadata": {
        "id": "72737oog2F6U"
      },
      "source": [
        "from datasets import ClassLabel\n",
        "import random\n",
        "import pandas as pd\n",
        "from IPython.display import display, HTML\n",
        "\n",
        "def show_random_elements(dataset, num_examples=10):\n",
        "    assert num_examples <= len(dataset), \"Can't pick more elements than there are in the dataset.\"\n",
        "    picks = []\n",
        "    for _ in range(num_examples):\n",
        "        pick = random.randint(0, len(dataset)-1)\n",
        "        while pick in picks:\n",
        "            pick = random.randint(0, len(dataset)-1)\n",
        "        picks.append(pick)\n",
        "\n",
        "    df = pd.DataFrame(dataset[picks])\n",
        "    display(HTML(df.to_html()))"
      ],
      "execution_count": 9,
      "outputs": []
    },
    {
      "cell_type": "code",
      "metadata": {
        "colab": {
          "base_uri": "https://localhost:8080/",
          "height": 363
        },
        "id": "K_JUmf3G3b9S",
        "outputId": "cfa9b11f-d02c-40ec-b1d1-12080f20a19f"
      },
      "source": [
        "show_random_elements(common_voice_train.remove_columns([\"speaker\", \"audio\"]), num_examples=10)"
      ],
      "execution_count": 10,
      "outputs": [
        {
          "output_type": "display_data",
          "data": {
            "text/plain": [
              "<IPython.core.display.HTML object>"
            ],
            "text/html": [
              "<table border=\"1\" class=\"dataframe\">\n",
              "  <thead>\n",
              "    <tr style=\"text-align: right;\">\n",
              "      <th></th>\n",
              "      <th>text</th>\n",
              "    </tr>\n",
              "  </thead>\n",
              "  <tbody>\n",
              "    <tr>\n",
              "      <th>0</th>\n",
              "      <td>പൂനാ യൂണിവേഴ്സിറ്റിയിൽ എം. എ ഇംഗ്ലീഷ് നു പഠിക്കുവാൻ വന്നതാണ്</td>\n",
              "    </tr>\n",
              "    <tr>\n",
              "      <th>1</th>\n",
              "      <td>കനത്ത നാശനഷ്ടങ്ങളുണ്ടായിട്ടും ഓഗസ്റ്റ് മൂന്നാം തീയതിയോടെ സൈന്യം താവളത്തിനടുത്തെത്തി</td>\n",
              "    </tr>\n",
              "    <tr>\n",
              "      <th>2</th>\n",
              "      <td>പ്രാതലായാണ് സാധാരണ വിളമ്പുന്നതെങ്കിലും വൈകീട്ടും ഇത് ഉപയോഗിക്കാറുണ്ട്</td>\n",
              "    </tr>\n",
              "    <tr>\n",
              "      <th>3</th>\n",
              "      <td>നാഷണൽ ആർക്കൈവ്സിൽ നിന്നുള്ള വിവരാവകാശ രേഖയിലാണ് ഈ വിവരങ്ങൾ ഉള്ളത്</td>\n",
              "    </tr>\n",
              "    <tr>\n",
              "      <th>4</th>\n",
              "      <td>നാലു വർഷം മുമ്പ് മൂവാറ്റുപുഴ സംഘത്തെ കസ്റ്റംസ് ഒതുക്കിയതാണ്</td>\n",
              "    </tr>\n",
              "    <tr>\n",
              "      <th>5</th>\n",
              "      <td>ഇതോടെയാണ് ഒഞ്ചിയത്തെ ആർ. എം. പി. നേതൃത്വം പ്രതിസന്ധിയിലായത്</td>\n",
              "    </tr>\n",
              "    <tr>\n",
              "      <th>6</th>\n",
              "      <td>ആകാശം ചലനാത്മകമായും ക്രമീകരിക്കാം</td>\n",
              "    </tr>\n",
              "    <tr>\n",
              "      <th>7</th>\n",
              "      <td>അൻസ്വാറുകൾ ഭൂവുടമകളും സ്വത്തുടമകളുമായിരുന്നു</td>\n",
              "    </tr>\n",
              "    <tr>\n",
              "      <th>8</th>\n",
              "      <td>അദ്ദേഹം നിരവധി യാത്രകൾ ലാറ്റിൻ അമേരിക്കയിലൂടെ നടത്തി</td>\n",
              "    </tr>\n",
              "    <tr>\n",
              "      <th>9</th>\n",
              "      <td>തെങ്ങും കമുകും കുരുമുളകും ഉണ്ടായിരുന്ന ഒരു കാലം ഉണ്ടായിരുന്നു</td>\n",
              "    </tr>\n",
              "  </tbody>\n",
              "</table>"
            ]
          },
          "metadata": {}
        }
      ]
    },
    {
      "cell_type": "markdown",
      "metadata": {
        "id": "fowcOllGNNju"
      },
      "source": [
        "Alright! The transcriptions look fairly clean. Having translated the transcribed sentences, it seems that the language corresponds more to written-out text than noisy dialogue. This makes sense considering that [Common Voice](https://huggingface.co/datasets/common_voice) is a crowd-sourced read speech corpus."
      ]
    },
    {
      "cell_type": "markdown",
      "metadata": {
        "id": "vq7OR50LN49m"
      },
      "source": [
        "We can see that the transcriptions contain some special characters, such as `,.?!;:`. Without a language model, it is much harder to classify speech chunks to such special characters because they don't really correspond to a characteristic sound unit. *E.g.*, the letter `\"s\"` has a more or less clear sound, whereas the special character `\".\"` does not.\n",
        "Also in order to understand the meaning of a speech signal, it is usually not necessary to include special characters in the transcription.\n",
        "\n",
        "Let's simply remove all characters that don't contribute to the meaning of a word and cannot really be represented by an acoustic sound and normalize the text."
      ]
    },
    {
      "cell_type": "code",
      "metadata": {
        "id": "svKzVJ_hQGK6"
      },
      "source": [
        "# import re\n",
        "# chars_to_remove_regex = '[\\,\\?\\.\\!\\-\\;\\:\\\"\\“\\%\\‘\\”\\�\\']'\n",
        "\n",
        "# def remove_special_characters(batch):\n",
        "#     batch[\"sentence\"] = re.sub(chars_to_remove_regex, '', batch[\"sentence\"]).lower()\n",
        "#     return batch"
      ],
      "execution_count": 14,
      "outputs": []
    },
    {
      "cell_type": "code",
      "metadata": {
        "id": "XIHocAuTQbBR"
      },
      "source": [
        "# common_voice_train = common_voice_train.map(remove_special_characters)\n",
        "# common_voice_test = common_voice_test.map(remove_special_characters)"
      ],
      "execution_count": 15,
      "outputs": []
    },
    {
      "cell_type": "markdown",
      "metadata": {
        "id": "TxnVS9gIhIma"
      },
      "source": [
        "Let's look at the processed text labels again."
      ]
    },
    {
      "cell_type": "markdown",
      "metadata": {
        "id": "jwfaptH5RJwA"
      },
      "source": [
        "Good! This looks better. We have removed most special characters from transcriptions and normalized them to lower-case only.\n",
        "\n",
        "Before finalizing the pre-processing, it is always advantageous to consult a native speaker of the target language to see whether the text can be further simplified.\n",
        "For this blog post, [Merve](https://twitter.com/mervenoyann) was kind enough to take a quick look and noted that \"hatted\" characters - like `â` - aren't really used anymore in Turkish and can be replaced by their \"un-hatted\" equivalent, *e.g.* `a`.\n",
        "\n",
        "This means that we should replace a sentence like `\"yargı sistemi hâlâ sağlıksız\"` to `\"yargı sistemi hala sağlıksız\"`.\n",
        "\n",
        "Let's write another short mapping function to further simplify the text labels. Remember - the simler the text labels, the easier it is for the model to learn to predict those labels.\n",
        "\n"
      ]
    },
    {
      "cell_type": "code",
      "metadata": {
        "id": "aZcrz6z7lgGm"
      },
      "source": [
        "def replace_hatted_characters(batch):\n",
        "    batch[\"sentence\"] = re.sub('[â]', 'a', batch[\"sentence\"])\n",
        "    batch[\"sentence\"] = re.sub('[î]', 'i', batch[\"sentence\"])\n",
        "    batch[\"sentence\"] = re.sub('[ô]', 'o', batch[\"sentence\"])\n",
        "    batch[\"sentence\"] = re.sub('[û]', 'u', batch[\"sentence\"])\n",
        "    return batch"
      ],
      "execution_count": null,
      "outputs": []
    },
    {
      "cell_type": "code",
      "metadata": {
        "colab": {
          "base_uri": "https://localhost:8080/"
        },
        "id": "ieGhhND5mSwI",
        "outputId": "2f5cee33-a98a-45ae-a8b4-0f10d97f4d15"
      },
      "source": [
        "common_voice_train = common_voice_train.map(replace_hatted_characters)\n",
        "common_voice_test = common_voice_test.map(replace_hatted_characters)"
      ],
      "execution_count": null,
      "outputs": [
        {
          "name": "stderr",
          "output_type": "stream",
          "text": [
            "Loading cached processed dataset at /root/.cache/huggingface/datasets/common_voice/tr/6.1.0/f7a9d973839b7706e9e281c19b7e512f31badf3c0fdbd21c671f3c4bf9acf3b9/cache-42d8bb33221ffcb6.arrow\n",
            "Loading cached processed dataset at /root/.cache/huggingface/datasets/common_voice/tr/6.1.0/f7a9d973839b7706e9e281c19b7e512f31badf3c0fdbd21c671f3c4bf9acf3b9/cache-7feed192f520d0a3.arrow\n"
          ]
        }
      ]
    },
    {
      "cell_type": "markdown",
      "metadata": {
        "id": "3ORHDb2Th2TW"
      },
      "source": [
        "In CTC, it is common to classify speech chunks into letters, so we will do the same here.\n",
        "Let's extract all distinct letters of the training and test data and build our vocabulary from this set of letters.\n",
        "\n",
        "We write a mapping function that concatenates all transcriptions into one long transcription and then transforms the string into a set of chars.\n",
        "It is important to pass the argument `batched=True` to the `map(...)` function so that the mapping function has access to all transcriptions at once."
      ]
    },
    {
      "cell_type": "code",
      "metadata": {
        "id": "LwCshNbbeRZR"
      },
      "source": [
        "def extract_all_chars(batch):\n",
        "  all_text = \" \".join(batch[\"text\"])\n",
        "  vocab = list(set(all_text))\n",
        "  return {\"vocab\": [vocab], \"all_text\": [all_text]}"
      ],
      "execution_count": 19,
      "outputs": []
    },
    {
      "cell_type": "code",
      "metadata": {
        "colab": {
          "base_uri": "https://localhost:8080/",
          "height": 81,
          "referenced_widgets": [
            "42691381a08a407b932d79ad6b6160da",
            "391c57e475154c2e82a52947143f3e6b",
            "96d973b216f04f038d3abb1103d716df",
            "a7f37ee434264bd9af156a3552f96f30",
            "c8a81938a03443e2b217f8440508f798",
            "03997774c2ff46e791ad0a95ad2387b1",
            "a16d6ea6f91745be87b66a0862995c17",
            "6e5e5539b7cf4a448447da29805580fb",
            "3d3352b3b276419eb230ec0c2e7c0e27",
            "2a5475ca67524bccb54158577ef7abeb",
            "89d8fa009db9413b980070a3f32cda8f",
            "9bc15d0d0c5b4a66ab2659d47c74b1b7",
            "5276fdeff2154e5d933f55e9158cbccb",
            "c9a9c437d54640ba83e3c2e1a657307f",
            "61acf5bfba6f4b32940aca3a6a605c90",
            "d72f06698fe94802a2354b7e084c5f50",
            "a47f9d50753a4e7ea6da479cb499f7ab",
            "26e02223733f4a86ad5064360e99b8f3",
            "c28f06a569754f8bbac6057175718e28",
            "18c4af026e6048b7883eab5d4c8b15df",
            "423fb1f63a86465d802b29759307c6e6",
            "c64b288f13884ba2874ab3ad34c83ff2"
          ]
        },
        "id": "_m6uUjjcfbjH",
        "outputId": "d29e12e8-5a64-40db-cfbc-ed7a66ee5d69"
      },
      "source": [
        "vocab_train = common_voice_train.map(extract_all_chars, batched=True, batch_size=-1, keep_in_memory=True, remove_columns=common_voice_train.column_names)\n",
        "vocab_test = common_voice_test.map(extract_all_chars, batched=True, batch_size=-1, keep_in_memory=True, remove_columns=common_voice_test.column_names)"
      ],
      "execution_count": 20,
      "outputs": [
        {
          "output_type": "display_data",
          "data": {
            "text/plain": [
              "  0%|          | 0/1 [00:00<?, ?ba/s]"
            ],
            "application/vnd.jupyter.widget-view+json": {
              "version_major": 2,
              "version_minor": 0,
              "model_id": "42691381a08a407b932d79ad6b6160da"
            }
          },
          "metadata": {}
        },
        {
          "output_type": "display_data",
          "data": {
            "text/plain": [
              "  0%|          | 0/1 [00:00<?, ?ba/s]"
            ],
            "application/vnd.jupyter.widget-view+json": {
              "version_major": 2,
              "version_minor": 0,
              "model_id": "9bc15d0d0c5b4a66ab2659d47c74b1b7"
            }
          },
          "metadata": {}
        }
      ]
    },
    {
      "cell_type": "markdown",
      "metadata": {
        "id": "7oVgE8RZSJNP"
      },
      "source": [
        "Now, we create the union of all distinct letters in the training dataset and test dataset and convert the resulting list into an enumerated dictionary."
      ]
    },
    {
      "cell_type": "code",
      "metadata": {
        "id": "aQfneNsmlJI0"
      },
      "source": [
        "vocab_list = list(set(vocab_train[\"vocab\"][0]) | set(vocab_test[\"vocab\"][0]))"
      ],
      "execution_count": 25,
      "outputs": []
    },
    {
      "cell_type": "code",
      "metadata": {
        "colab": {
          "base_uri": "https://localhost:8080/"
        },
        "id": "_0kRndSvqaKk",
        "outputId": "c8a73b05-e739-4be9-e64b-c5141ae83d4c"
      },
      "source": [
        "vocab_dict = {v: k for k, v in enumerate(sorted(vocab_list))}\n",
        "vocab_dict"
      ],
      "execution_count": 26,
      "outputs": [
        {
          "output_type": "execute_result",
          "data": {
            "text/plain": [
              "{' ': 0,\n",
              " '!': 1,\n",
              " \"'\": 2,\n",
              " ',': 3,\n",
              " '-': 4,\n",
              " '.': 5,\n",
              " ':': 6,\n",
              " ';': 7,\n",
              " 'ം': 8,\n",
              " 'ഃ': 9,\n",
              " 'അ': 10,\n",
              " 'ആ': 11,\n",
              " 'ഇ': 12,\n",
              " 'ഈ': 13,\n",
              " 'ഉ': 14,\n",
              " 'ഊ': 15,\n",
              " 'ഋ': 16,\n",
              " 'എ': 17,\n",
              " 'ഏ': 18,\n",
              " 'ഐ': 19,\n",
              " 'ഒ': 20,\n",
              " 'ഓ': 21,\n",
              " 'ഔ': 22,\n",
              " 'ക': 23,\n",
              " 'ഖ': 24,\n",
              " 'ഗ': 25,\n",
              " 'ഘ': 26,\n",
              " 'ങ': 27,\n",
              " 'ച': 28,\n",
              " 'ഛ': 29,\n",
              " 'ജ': 30,\n",
              " 'ഝ': 31,\n",
              " 'ഞ': 32,\n",
              " 'ട': 33,\n",
              " 'ഠ': 34,\n",
              " 'ഡ': 35,\n",
              " 'ഢ': 36,\n",
              " 'ണ': 37,\n",
              " 'ത': 38,\n",
              " 'ഥ': 39,\n",
              " 'ദ': 40,\n",
              " 'ധ': 41,\n",
              " 'ന': 42,\n",
              " 'പ': 43,\n",
              " 'ഫ': 44,\n",
              " 'ബ': 45,\n",
              " 'ഭ': 46,\n",
              " 'മ': 47,\n",
              " 'യ': 48,\n",
              " 'ര': 49,\n",
              " 'റ': 50,\n",
              " 'ല': 51,\n",
              " 'ള': 52,\n",
              " 'ഴ': 53,\n",
              " 'വ': 54,\n",
              " 'ശ': 55,\n",
              " 'ഷ': 56,\n",
              " 'സ': 57,\n",
              " 'ഹ': 58,\n",
              " 'ാ': 59,\n",
              " 'ി': 60,\n",
              " 'ീ': 61,\n",
              " 'ു': 62,\n",
              " 'ൂ': 63,\n",
              " 'ൃ': 64,\n",
              " 'െ': 65,\n",
              " 'േ': 66,\n",
              " 'ൈ': 67,\n",
              " 'ൊ': 68,\n",
              " 'ോ': 69,\n",
              " 'ൌ': 70,\n",
              " '്': 71,\n",
              " 'ൗ': 72,\n",
              " 'ൺ': 73,\n",
              " 'ൻ': 74,\n",
              " 'ർ': 75,\n",
              " 'ൽ': 76,\n",
              " 'ൾ': 77,\n",
              " '\\u200c': 78,\n",
              " '\\u200d': 79}"
            ]
          },
          "metadata": {},
          "execution_count": 26
        }
      ]
    },
    {
      "cell_type": "markdown",
      "metadata": {
        "id": "JOSzbvs9SXT1"
      },
      "source": [
        "Cool, we see that all letters of the alphabet occur in the dataset (which is not really surprising) and we also extracted the special characters `\"\"` and `'`. Note that we did not exclude those special characters because:\n",
        "\n",
        "The model has to learn to predict when a word is finished or else the model prediction would always be a sequence of chars which would make it impossible to separate words from each other.\n",
        "\n",
        "One should always keep in mind that pre-processing is a very important step before training your model. E.g., we don't want our model to differentiate between `a` and `A` just because we forgot to normalize the data. The difference between `a` and `A` does not depend on the \"sound\" of the letter at all, but more on grammatical rules - *e.g.* use a capitalized letter at the beginning of the sentence. So it is sensible to remove the difference between capitalized and non-capitalized letters so that the model has an easier time learning to transcribe speech."
      ]
    },
    {
      "cell_type": "markdown",
      "metadata": {
        "id": "b1fBRCn-TRaO"
      },
      "source": [
        "To make it clearer that `\" \"` has its own token class, we give it a more visible character `|`. In addition, we also add an \"unknown\" token so that the model can later deal with characters not encountered in Common Voice's training set."
      ]
    },
    {
      "cell_type": "code",
      "metadata": {
        "id": "npbIbBoLgaFX"
      },
      "source": [
        "vocab_dict[\"|\"] = vocab_dict[\" \"]\n",
        "del vocab_dict[\" \"]"
      ],
      "execution_count": 27,
      "outputs": []
    },
    {
      "cell_type": "markdown",
      "metadata": {
        "id": "_9yCWg4Sd0cb"
      },
      "source": [
        "Finally, we also add a padding token that corresponds to CTC's \"*blank token*\". The \"blank token\" is a core component of the CTC algorithm. For more information, please take a look at the \"Alignment\" section [here](https://distill.pub/2017/ctc/)."
      ]
    },
    {
      "cell_type": "code",
      "metadata": {
        "colab": {
          "base_uri": "https://localhost:8080/"
        },
        "id": "znF0bNunsjbl",
        "outputId": "8215f480-3e95-4716-d7c6-eaba73775d87"
      },
      "source": [
        "vocab_dict[\"[UNK]\"] = len(vocab_dict)\n",
        "vocab_dict[\"[PAD]\"] = len(vocab_dict)\n",
        "len(vocab_dict)"
      ],
      "execution_count": 28,
      "outputs": [
        {
          "output_type": "execute_result",
          "data": {
            "text/plain": [
              "82"
            ]
          },
          "metadata": {},
          "execution_count": 28
        }
      ]
    },
    {
      "cell_type": "markdown",
      "metadata": {
        "id": "SFPGfet8U5sL"
      },
      "source": [
        "Cool, now our vocabulary is complete and consists of 39 tokens, which means that the linear layer that we will add on top of the pretrained XLS-R checkpoint will have an output dimension of 39."
      ]
    },
    {
      "cell_type": "markdown",
      "metadata": {
        "id": "1CujRgBNVRaD"
      },
      "source": [
        "Let's now save the vocabulary as a json file."
      ]
    },
    {
      "cell_type": "code",
      "metadata": {
        "id": "ehyUoh9vk191",
        "outputId": "eebd647b-6997-4c1b-a8fa-eb7c4edba317",
        "colab": {
          "base_uri": "https://localhost:8080/",
          "height": 216
        }
      },
      "source": [
        "import json\n",
        "with open('vocab.json', 'w') as vocab_file:\n",
        "    json.dump(vocab_dict, vocab_file)"
      ],
      "execution_count": 11,
      "outputs": [
        {
          "output_type": "error",
          "ename": "NameError",
          "evalue": "ignored",
          "traceback": [
            "\u001b[0;31m---------------------------------------------------------------------------\u001b[0m",
            "\u001b[0;31mNameError\u001b[0m                                 Traceback (most recent call last)",
            "\u001b[0;32m<ipython-input-11-f924d9b640b4>\u001b[0m in \u001b[0;36m<cell line: 2>\u001b[0;34m()\u001b[0m\n\u001b[1;32m      1\u001b[0m \u001b[0;32mimport\u001b[0m \u001b[0mjson\u001b[0m\u001b[0;34m\u001b[0m\u001b[0;34m\u001b[0m\u001b[0m\n\u001b[1;32m      2\u001b[0m \u001b[0;32mwith\u001b[0m \u001b[0mopen\u001b[0m\u001b[0;34m(\u001b[0m\u001b[0;34m'vocab.json'\u001b[0m\u001b[0;34m,\u001b[0m \u001b[0;34m'w'\u001b[0m\u001b[0;34m)\u001b[0m \u001b[0;32mas\u001b[0m \u001b[0mvocab_file\u001b[0m\u001b[0;34m:\u001b[0m\u001b[0;34m\u001b[0m\u001b[0;34m\u001b[0m\u001b[0m\n\u001b[0;32m----> 3\u001b[0;31m     \u001b[0mjson\u001b[0m\u001b[0;34m.\u001b[0m\u001b[0mdump\u001b[0m\u001b[0;34m(\u001b[0m\u001b[0mvocab_dict\u001b[0m\u001b[0;34m,\u001b[0m \u001b[0mvocab_file\u001b[0m\u001b[0;34m)\u001b[0m\u001b[0;34m\u001b[0m\u001b[0;34m\u001b[0m\u001b[0m\n\u001b[0m",
            "\u001b[0;31mNameError\u001b[0m: name 'vocab_dict' is not defined"
          ]
        }
      ]
    },
    {
      "cell_type": "markdown",
      "metadata": {
        "id": "SHJDaKlIVVim"
      },
      "source": [
        "In a final step, we use the json file to load the vocabulary into an instance of the `Wav2Vec2CTCTokenizer` class."
      ]
    },
    {
      "cell_type": "code",
      "source": [
        "import transformers"
      ],
      "metadata": {
        "id": "rGIKvKr7w7cg"
      },
      "execution_count": 4,
      "outputs": []
    },
    {
      "cell_type": "code",
      "metadata": {
        "colab": {
          "base_uri": "https://localhost:8080/"
        },
        "id": "xriFGEWQkO4M",
        "outputId": "f3f93e2f-cc72-4417-90f3-6659461c4c3e"
      },
      "source": [
        "from transformers import Wav2Vec2CTCTokenizer\n",
        "\n",
        "tokenizer = Wav2Vec2CTCTokenizer.from_pretrained(\"./\", unk_token=\"[UNK]\", pad_token=\"[PAD]\", word_delimiter_token=\"|\")"
      ],
      "execution_count": 5,
      "outputs": [
        {
          "output_type": "stream",
          "name": "stderr",
          "text": [
            "Special tokens have been added in the vocabulary, make sure the associated word embeddings are fine-tuned or trained.\n"
          ]
        }
      ]
    },
    {
      "cell_type": "markdown",
      "metadata": {
        "id": "KvL12DrNV4cx"
      },
      "source": [
        "If one wants to re-use the just created tokenizer with the fine-tuned model of this notebook, it is strongly advised to upload the `tokenizer` to the [🤗 Hub](https://huggingface.co/). Let's call the repo to which we will upload the files\n",
        "`\"wav2vec2-large-xlsr-turkish-demo-colab\"`:"
      ]
    },
    {
      "cell_type": "code",
      "metadata": {
        "id": "A1XApZBAF2zr"
      },
      "source": [
        "repo_name = \"wav2vec2-large-xls-r-300m-turkish-colab\""
      ],
      "execution_count": 6,
      "outputs": []
    },
    {
      "cell_type": "markdown",
      "metadata": {
        "id": "B1BiezWZF16d"
      },
      "source": [
        "and upload the tokenizer to the [🤗 Hub](https://huggingface.co/)."
      ]
    },
    {
      "cell_type": "code",
      "metadata": {
        "colab": {
          "base_uri": "https://localhost:8080/"
        },
        "id": "zytE1175GAKM",
        "outputId": "a9385f00-eb22-4943-e991-6ce6352ad63b"
      },
      "source": [
        "tokenizer.push_to_hub(repo_name)"
      ],
      "execution_count": 7,
      "outputs": [
        {
          "output_type": "execute_result",
          "data": {
            "text/plain": [
              "CommitInfo(commit_url='https://huggingface.co/kurianbenoy/wav2vec2-large-xls-r-300m-turkish-colab/commit/65f979d316ddbf76cfe716e2a3fa80fa9f4c74ec', commit_message='Upload tokenizer', commit_description='', oid='65f979d316ddbf76cfe716e2a3fa80fa9f4c74ec', pr_url=None, pr_revision=None, pr_num=None)"
            ]
          },
          "metadata": {},
          "execution_count": 7
        }
      ]
    },
    {
      "cell_type": "markdown",
      "metadata": {
        "id": "SwQM8lH_GGuP"
      },
      "source": [
        "Great, you can see the just created repository under `https://huggingface.co/<your-username>/wav2vec2-large-xls-r-300m-tr-colab`"
      ]
    },
    {
      "cell_type": "markdown",
      "metadata": {
        "id": "mYcIiR2FQ96i"
      },
      "source": [
        "### Create `Wav2Vec2FeatureExtractor`"
      ]
    },
    {
      "cell_type": "markdown",
      "metadata": {
        "id": "Y6mDEyW719rx"
      },
      "source": [
        "Speech is a continuous signal and to be treated by computers, it first has to be discretized, which is usually called **sampling**. The sampling rate hereby plays an important role in that it defines how many data points of the speech signal are measured per second. Therefore, sampling with a higher sampling rate results in a better approximation of the *real* speech signal but also necessitates more values per second.\n",
        "\n",
        "A pretrained checkpoint expects its input data to have been sampled more or less from the same distribution as the data it was trained on. The same speech signals sampled at two different rates have a very different distribution, *e.g.*, doubling the sampling rate results in data points being twice as long. Thus,\n",
        "before fine-tuning a pretrained checkpoint of an ASR model, it is crucial to verify that the sampling rate of the data that was used to pretrain the model matches the sampling rate of the dataset used to fine-tune the model.\n",
        "\n",
        "XLS-R was pretrained on audio data of [Babel](http://www.reading.ac.uk/AcaDepts/ll/speechlab/babel/r),\n",
        "[Multilingual LibriSpeech (MLS)](https://huggingface.co/datasets/multilingual_librispeech), [Common Voice](https://huggingface.co/datasets/common_voice), [VoxPopuli](https://arxiv.org/abs/2101.00390), and [VoxLingua107](https://arxiv.org/abs/2011.12998) at a sampling rate of 16kHz. Common Voice, in its original form, has a sampling rate of 48kHz, thus we will have to downsample the fine-tuning data to 16kHz in the following.\n",
        "\n"
      ]
    },
    {
      "cell_type": "markdown",
      "metadata": {
        "id": "KuUbPW7oV-B5"
      },
      "source": [
        "A `Wav2Vec2FeatureExtractor` object requires the following parameters to be instantiated:\n",
        "\n",
        "- `feature_size`: Speech models take a sequence of feature vectors as an input. While the length of this sequence obviously varies, the feature size should not. In the case of Wav2Vec2, the feature size is 1 because the model was trained on the raw speech signal ${}^2$.\n",
        "- `sampling_rate`: The sampling rate at which the model is trained on.\n",
        "- `padding_value`: For batched inference, shorter inputs need to be padded with a specific value\n",
        "- `do_normalize`: Whether the input should be *zero-mean-unit-variance* normalized or not. Usually, speech models perform better when normalizing the input\n",
        "- `return_attention_mask`: Whether the model should make use of an `attention_mask` for batched inference. In general, XLS-R models checkpoints should **always** use the `attention_mask`."
      ]
    },
    {
      "cell_type": "code",
      "metadata": {
        "id": "kAR0-2KLkopp"
      },
      "source": [
        "from transformers import Wav2Vec2FeatureExtractor\n",
        "\n",
        "feature_extractor = Wav2Vec2FeatureExtractor(feature_size=1, sampling_rate=16000, padding_value=0.0, do_normalize=True, return_attention_mask=True)"
      ],
      "execution_count": 8,
      "outputs": []
    },
    {
      "cell_type": "markdown",
      "metadata": {
        "id": "qUETetgqYC3W"
      },
      "source": [
        "Great, XLS-R's feature extraction pipeline is thereby fully defined!\n",
        "\n",
        "For improved user-friendliness, the feature extractor and tokenizer are *wrapped* into a single `Wav2Vec2Processor` class so that one only needs a `model` and `processor` object."
      ]
    },
    {
      "cell_type": "code",
      "metadata": {
        "id": "KYZtoW-tlZgl"
      },
      "source": [
        "from transformers import Wav2Vec2Processor\n",
        "\n",
        "processor = Wav2Vec2Processor(feature_extractor=feature_extractor, tokenizer=tokenizer)"
      ],
      "execution_count": 9,
      "outputs": []
    },
    {
      "cell_type": "markdown",
      "metadata": {
        "id": "DrKnYuvDIoOO"
      },
      "source": [
        "Next, we can prepare the dataset."
      ]
    },
    {
      "cell_type": "markdown",
      "metadata": {
        "id": "YFmShnl7RE35"
      },
      "source": [
        "### Preprocess Data\n",
        "\n",
        "So far, we have not looked at the actual values of the speech signal but just the transcription. In addition to `sentence`, our datasets include two more column names `path` and `audio`. `path` states the absolute path of the audio file. Let's take a look.\n"
      ]
    },
    {
      "cell_type": "code",
      "metadata": {
        "colab": {
          "base_uri": "https://localhost:8080/"
        },
        "id": "TTCS7W6XJ9BG",
        "outputId": "931a683f-878d-4bb3-bec6-b22c441afe4a"
      },
      "source": [
        "common_voice_train[0][\"audio\"]"
      ],
      "execution_count": 38,
      "outputs": [
        {
          "output_type": "execute_result",
          "data": {
            "text/plain": [
              "{'path': None,\n",
              " 'array': array([-9.15527344e-05, -6.10351562e-05, -6.10351562e-05, ...,\n",
              "         1.52587891e-04,  1.52587891e-04,  1.52587891e-04]),\n",
              " 'sampling_rate': 16000}"
            ]
          },
          "metadata": {},
          "execution_count": 38
        }
      ]
    },
    {
      "cell_type": "markdown",
      "metadata": {
        "id": "T6ndIjHGFp0W"
      },
      "source": [
        "XLS-R expects the input in the format of a 1-dimensional array of 16 kHz. This means that the audio file has to be loaded and resampled.\n",
        "\n",
        " Thankfully, `datasets` does this automatically by calling the other column `audio`. Let try it out."
      ]
    },
    {
      "cell_type": "markdown",
      "metadata": {
        "id": "WUUTgI1bGHW-"
      },
      "source": [
        "Great, we can see that the audio file has automatically been loaded. This is thanks to the new [`\"Audio\"` feature](https://huggingface.co/docs/datasets/package_reference/main_classes.html?highlight=audio#datasets.Audio) introduced in `datasets == 4.13.3`, which loads and resamples audio files on-the-fly upon calling.\n",
        "\n",
        "In the example above we can see that the audio data is loaded with a sampling rate of 48kHz whereas 16kHz are expected by the model. We can set the audio feature to the correct sampling rate by making use of [`cast_column`](https://huggingface.co/docs/datasets/package_reference/main_classes.html?highlight=cast_column#datasets.DatasetDict.cast_column):"
      ]
    },
    {
      "cell_type": "code",
      "metadata": {
        "id": "rrv65aj7G95i"
      },
      "source": [
        "common_voice_train = common_voice_train.cast_column(\"audio\", Audio(sampling_rate=16_000))\n",
        "common_voice_test = common_voice_test.cast_column(\"audio\", Audio(sampling_rate=16_000))"
      ],
      "execution_count": 43,
      "outputs": []
    },
    {
      "cell_type": "markdown",
      "metadata": {
        "id": "PcnO4x-NGBEi"
      },
      "source": [
        "Let's take a look at `\"audio\"` again."
      ]
    },
    {
      "cell_type": "code",
      "metadata": {
        "colab": {
          "base_uri": "https://localhost:8080/"
        },
        "id": "aKtkc1o_HWHC",
        "outputId": "ce342b2b-8c63-4c7e-f31a-6f4dcc487bad"
      },
      "source": [
        "common_voice_train[0][\"audio\"]"
      ],
      "execution_count": 44,
      "outputs": [
        {
          "output_type": "execute_result",
          "data": {
            "text/plain": [
              "{'path': None,\n",
              " 'array': array([6.10351562e-05, 6.10351562e-05, 9.15527344e-05, ...,\n",
              "        1.52587891e-04, 9.15527344e-05, 6.10351562e-05]),\n",
              " 'sampling_rate': 16000}"
            ]
          },
          "metadata": {},
          "execution_count": 44
        }
      ]
    },
    {
      "cell_type": "markdown",
      "metadata": {
        "id": "SOckzFd4Mbzq"
      },
      "source": [
        "This seemed to have worked! Let's listen to a couple of audio files to better understand the dataset and verify that the audio was correctly loaded.\n",
        "\n",
        "**Note**: *You can click the following cell a couple of times to listen to different speech samples.*"
      ]
    },
    {
      "cell_type": "code",
      "metadata": {
        "colab": {
          "base_uri": "https://localhost:8080/",
          "height": 79
        },
        "id": "dueM6U7Ev0OA",
        "outputId": "1d9be8c8-fa93-4322-85af-00c9a3ebd521"
      },
      "source": [
        "import IPython.display as ipd\n",
        "import numpy as np\n",
        "import random\n",
        "\n",
        "rand_int = random.randint(0, len(common_voice_train)-1)\n",
        "\n",
        "print(common_voice_train[rand_int][\"text\"])\n",
        "ipd.Audio(data=common_voice_train[rand_int][\"audio\"][\"array\"], autoplay=True, rate=16000)"
      ],
      "execution_count": 19,
      "outputs": [
        {
          "output_type": "stream",
          "name": "stdout",
          "text": [
            "കെട്ടുന്നതോടു കൂടി രാജാവും പ്രജയും എല്ലാം തുല്യമായി\n"
          ]
        },
        {
          "output_type": "execute_result",
          "data": {
            "text/plain": [
              "<IPython.lib.display.Audio object>"
            ],
            "text/html": [
              "\n",
              "                <audio  controls=\"controls\" autoplay=\"autoplay\">\n",
              "                    <source src=\"data:audio/wav;base64,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\" type=\"audio/wav\" />\n",
              "                    Your browser does not support the audio element.\n",
              "                </audio>\n",
              "              "
            ]
          },
          "metadata": {},
          "execution_count": 19
        }
      ]
    },
    {
      "cell_type": "markdown",
      "metadata": {
        "id": "gY8m3vARHYTa"
      },
      "source": [
        "It seems like the data is now correctly loaded and resampled."
      ]
    },
    {
      "cell_type": "markdown",
      "metadata": {
        "id": "1MaL9J2dNVtG"
      },
      "source": [
        "It can be heard, that the speakers change along with their speaking rate, accent, and background environment, etc. Overall, the recordings sound acceptably clear though, which is to be expected from a crowd-sourced read speech corpus.\n",
        "\n",
        "Let's do a final check that the data is correctly prepared, by printing the shape of the speech input, its transcription, and the corresponding sampling rate.\n",
        "\n",
        "**Note**: *You can click the following cell a couple of times to verify multiple samples.*"
      ]
    },
    {
      "cell_type": "code",
      "metadata": {
        "colab": {
          "base_uri": "https://localhost:8080/"
        },
        "id": "1Po2g7YPuRTx",
        "outputId": "b49b58d0-13d5-4e7b-f5af-f5458982b59c"
      },
      "source": [
        "rand_int = random.randint(0, len(common_voice_train)-1)\n",
        "\n",
        "print(\"Target text:\", common_voice_train[rand_int][\"text\"])\n",
        "print(\"Input array shape:\", common_voice_train[rand_int][\"audio\"][\"array\"].shape)\n",
        "print(\"Sampling rate:\", common_voice_train[rand_int][\"audio\"][\"sampling_rate\"])"
      ],
      "execution_count": 46,
      "outputs": [
        {
          "output_type": "stream",
          "name": "stdout",
          "text": [
            "Target text: ആവശ്യക്കാർക്ക് പഴയ സംവാദങ്ങൾ നിലവറയിൽ നിന്നും ശേഖരിക്കാവുന്നതാണ്\n",
            "Input array shape: (77349,)\n",
            "Sampling rate: 16000\n"
          ]
        }
      ]
    },
    {
      "cell_type": "markdown",
      "metadata": {
        "id": "M9teZcSwOBJ4"
      },
      "source": [
        "Good! Everything looks fine - the data is a 1-dimensional array, the sampling rate always corresponds to 16kHz, and the target text is normalized."
      ]
    },
    {
      "cell_type": "markdown",
      "metadata": {
        "id": "k3Pbn5WvOYZF"
      },
      "source": [
        "Finally, we can leverage `Wav2Vec2Processor` to process the data to the format expected by `Wav2Vec2ForCTC` for training. To do so let's make use of Dataset's [`map(...)`](https://huggingface.co/docs/datasets/package_reference/main_classes.html?highlight=map#datasets.DatasetDict.map) function.\n",
        "\n",
        "First, we load and resample the audio data, simply by calling `batch[\"audio\"]`.\n",
        "Second, we extract the `input_values` from the loaded audio file. In our case, the `Wav2Vec2Processor` only normalizes the data. For other speech models, however, this step can include more complex feature extraction, such as [Log-Mel feature extraction](https://en.wikipedia.org/wiki/Mel-frequency_cepstrum).\n",
        "Third, we encode the transcriptions to label ids.\n",
        "\n",
        "**Note**: This mapping function is a good example of how the `Wav2Vec2Processor` class should be used. In \"normal\" context, calling `processor(...)` is redirected to `Wav2Vec2FeatureExtractor`'s call method. When wrapping the processor into the `as_target_processor` context, however, the same method is redirected to `Wav2Vec2CTCTokenizer`'s call method.\n",
        "For more information please check the [docs](https://huggingface.co/transformers/master/model_doc/wav2vec2.html#transformers.Wav2Vec2Processor.__call__)."
      ]
    },
    {
      "cell_type": "code",
      "metadata": {
        "id": "eJY7I0XAwe9p"
      },
      "source": [
        "def prepare_dataset(batch):\n",
        "    audio = batch[\"audio\"]\n",
        "\n",
        "    # batched output is \"un-batched\"\n",
        "    batch[\"input_values\"] = processor(audio[\"array\"], sampling_rate=audio[\"sampling_rate\"]).input_values[0]\n",
        "    batch[\"input_length\"] = len(batch[\"input_values\"])\n",
        "\n",
        "    with processor.as_target_processor():\n",
        "        batch[\"labels\"] = processor(batch[\"text\"]).input_ids\n",
        "    return batch"
      ],
      "execution_count": 47,
      "outputs": []
    },
    {
      "cell_type": "markdown",
      "metadata": {
        "id": "q6Pg_WR3OGAP"
      },
      "source": [
        "Let's apply the data preparation function to all examples."
      ]
    },
    {
      "cell_type": "code",
      "source": [
        "common_voice_train.column_names"
      ],
      "metadata": {
        "id": "XlYLx4G9zBaB",
        "outputId": "3bddc348-e6cf-455d-a5d0-70bd0935a6fd",
        "colab": {
          "base_uri": "https://localhost:8080/"
        }
      },
      "execution_count": 48,
      "outputs": [
        {
          "output_type": "execute_result",
          "data": {
            "text/plain": [
              "['text', 'speaker', 'audio']"
            ]
          },
          "metadata": {},
          "execution_count": 48
        }
      ]
    },
    {
      "cell_type": "code",
      "source": [
        "common_voice_train[0]"
      ],
      "metadata": {
        "id": "uxzh1on1zFRv",
        "outputId": "f58c5be2-497a-4417-a3d4-5bffc4fb28b6",
        "colab": {
          "base_uri": "https://localhost:8080/"
        }
      },
      "execution_count": 49,
      "outputs": [
        {
          "output_type": "execute_result",
          "data": {
            "text/plain": [
              "{'text': 'അതിനുശേഷം ഉച്ചപൂജനേരം ആനയൂട്ടും വൈകുന്നേരം ദീപാരാധനക്കുമുൻപായി തേങ്ങായെറിയല്\\u200d വഴിപാടും നടത്താറുണ്ട്',\n",
              " 'speaker': 'Anil',\n",
              " 'audio': {'path': None,\n",
              "  'array': array([6.10351562e-05, 6.10351562e-05, 9.15527344e-05, ...,\n",
              "         1.52587891e-04, 9.15527344e-05, 6.10351562e-05]),\n",
              "  'sampling_rate': 16000}}"
            ]
          },
          "metadata": {},
          "execution_count": 49
        }
      ]
    },
    {
      "cell_type": "code",
      "metadata": {
        "colab": {
          "base_uri": "https://localhost:8080/",
          "height": 415,
          "referenced_widgets": [
            "a977e773098349ecb6c33c9d447b8767",
            "10c89d1453d44d23855480108e329da4",
            "afa0582dfa7d434e88acafeb743ca556",
            "006db84c7a704e0ab5d5751bad582dcb",
            "5c6aa52de3e54f5e8cdfcd581e05c2dc",
            "7afaf02f46754cde95fc91bca493d121",
            "4136d8e5a2744de8bae28702b08ec077",
            "4ff7ef45a11b43d2adba76132f44e8b1",
            "a6028e1e820e4e76bbb01b5c1353414c",
            "7c7be8699058426c86a31bf1a81d5a62",
            "326a92fbcd78438db16246938803e949"
          ]
        },
        "id": "-np9xYK-wl8q",
        "outputId": "222a13d6-a84c-4eec-a1ad-b8c11853c6be"
      },
      "source": [
        "common_voice_train = common_voice_train.map(prepare_dataset, remove_columns=common_voice_train.column_names)\n",
        "common_voice_test = common_voice_test.map(prepare_dataset, remove_columns=common_voice_test.column_names)"
      ],
      "execution_count": 50,
      "outputs": [
        {
          "output_type": "display_data",
          "data": {
            "text/plain": [
              "0ex [00:00, ?ex/s]"
            ],
            "application/vnd.jupyter.widget-view+json": {
              "version_major": 2,
              "version_minor": 0,
              "model_id": "a977e773098349ecb6c33c9d447b8767"
            }
          },
          "metadata": {}
        },
        {
          "output_type": "error",
          "ename": "ValueError",
          "evalue": "ignored",
          "traceback": [
            "\u001b[0;31m---------------------------------------------------------------------------\u001b[0m",
            "\u001b[0;31mValueError\u001b[0m                                Traceback (most recent call last)",
            "\u001b[0;32m<ipython-input-50-2c57e055c70c>\u001b[0m in \u001b[0;36m<cell line: 1>\u001b[0;34m()\u001b[0m\n\u001b[0;32m----> 1\u001b[0;31m \u001b[0mcommon_voice_train\u001b[0m \u001b[0;34m=\u001b[0m \u001b[0mcommon_voice_train\u001b[0m\u001b[0;34m.\u001b[0m\u001b[0mmap\u001b[0m\u001b[0;34m(\u001b[0m\u001b[0mprepare_dataset\u001b[0m\u001b[0;34m,\u001b[0m \u001b[0mremove_columns\u001b[0m\u001b[0;34m=\u001b[0m\u001b[0mcommon_voice_train\u001b[0m\u001b[0;34m.\u001b[0m\u001b[0mcolumn_names\u001b[0m\u001b[0;34m)\u001b[0m\u001b[0;34m\u001b[0m\u001b[0;34m\u001b[0m\u001b[0m\n\u001b[0m\u001b[1;32m      2\u001b[0m \u001b[0mcommon_voice_test\u001b[0m \u001b[0;34m=\u001b[0m \u001b[0mcommon_voice_test\u001b[0m\u001b[0;34m.\u001b[0m\u001b[0mmap\u001b[0m\u001b[0;34m(\u001b[0m\u001b[0mprepare_dataset\u001b[0m\u001b[0;34m,\u001b[0m \u001b[0mremove_columns\u001b[0m\u001b[0;34m=\u001b[0m\u001b[0mcommon_voice_test\u001b[0m\u001b[0;34m.\u001b[0m\u001b[0mcolumn_names\u001b[0m\u001b[0;34m)\u001b[0m\u001b[0;34m\u001b[0m\u001b[0;34m\u001b[0m\u001b[0m\n",
            "\u001b[0;32m/usr/local/lib/python3.10/dist-packages/datasets/arrow_dataset.py\u001b[0m in \u001b[0;36mmap\u001b[0;34m(self, function, with_indices, with_rank, input_columns, batched, batch_size, drop_last_batch, remove_columns, keep_in_memory, load_from_cache_file, cache_file_name, writer_batch_size, features, disable_nullable, fn_kwargs, num_proc, suffix_template, new_fingerprint, desc)\u001b[0m\n\u001b[1;32m   2100\u001b[0m \u001b[0;34m\u001b[0m\u001b[0m\n\u001b[1;32m   2101\u001b[0m         \u001b[0;32mif\u001b[0m \u001b[0mnum_proc\u001b[0m \u001b[0;32mis\u001b[0m \u001b[0;32mNone\u001b[0m \u001b[0;32mor\u001b[0m \u001b[0mnum_proc\u001b[0m \u001b[0;34m==\u001b[0m \u001b[0;36m1\u001b[0m\u001b[0;34m:\u001b[0m\u001b[0;34m\u001b[0m\u001b[0;34m\u001b[0m\u001b[0m\n\u001b[0;32m-> 2102\u001b[0;31m             return self._map_single(\n\u001b[0m\u001b[1;32m   2103\u001b[0m                 \u001b[0mfunction\u001b[0m\u001b[0;34m=\u001b[0m\u001b[0mfunction\u001b[0m\u001b[0;34m,\u001b[0m\u001b[0;34m\u001b[0m\u001b[0;34m\u001b[0m\u001b[0m\n\u001b[1;32m   2104\u001b[0m                 \u001b[0mwith_indices\u001b[0m\u001b[0;34m=\u001b[0m\u001b[0mwith_indices\u001b[0m\u001b[0;34m,\u001b[0m\u001b[0;34m\u001b[0m\u001b[0;34m\u001b[0m\u001b[0m\n",
            "\u001b[0;32m/usr/local/lib/python3.10/dist-packages/datasets/arrow_dataset.py\u001b[0m in \u001b[0;36mwrapper\u001b[0;34m(*args, **kwargs)\u001b[0m\n\u001b[1;32m    516\u001b[0m             \u001b[0mself\u001b[0m\u001b[0;34m:\u001b[0m \u001b[0;34m\"Dataset\"\u001b[0m \u001b[0;34m=\u001b[0m \u001b[0mkwargs\u001b[0m\u001b[0;34m.\u001b[0m\u001b[0mpop\u001b[0m\u001b[0;34m(\u001b[0m\u001b[0;34m\"self\"\u001b[0m\u001b[0;34m)\u001b[0m\u001b[0;34m\u001b[0m\u001b[0;34m\u001b[0m\u001b[0m\n\u001b[1;32m    517\u001b[0m         \u001b[0;31m# apply actual function\u001b[0m\u001b[0;34m\u001b[0m\u001b[0;34m\u001b[0m\u001b[0m\n\u001b[0;32m--> 518\u001b[0;31m         \u001b[0mout\u001b[0m\u001b[0;34m:\u001b[0m \u001b[0mUnion\u001b[0m\u001b[0;34m[\u001b[0m\u001b[0;34m\"Dataset\"\u001b[0m\u001b[0;34m,\u001b[0m \u001b[0;34m\"DatasetDict\"\u001b[0m\u001b[0;34m]\u001b[0m \u001b[0;34m=\u001b[0m \u001b[0mfunc\u001b[0m\u001b[0;34m(\u001b[0m\u001b[0mself\u001b[0m\u001b[0;34m,\u001b[0m \u001b[0;34m*\u001b[0m\u001b[0margs\u001b[0m\u001b[0;34m,\u001b[0m \u001b[0;34m**\u001b[0m\u001b[0mkwargs\u001b[0m\u001b[0;34m)\u001b[0m\u001b[0;34m\u001b[0m\u001b[0;34m\u001b[0m\u001b[0m\n\u001b[0m\u001b[1;32m    519\u001b[0m         \u001b[0mdatasets\u001b[0m\u001b[0;34m:\u001b[0m \u001b[0mList\u001b[0m\u001b[0;34m[\u001b[0m\u001b[0;34m\"Dataset\"\u001b[0m\u001b[0;34m]\u001b[0m \u001b[0;34m=\u001b[0m \u001b[0mlist\u001b[0m\u001b[0;34m(\u001b[0m\u001b[0mout\u001b[0m\u001b[0;34m.\u001b[0m\u001b[0mvalues\u001b[0m\u001b[0;34m(\u001b[0m\u001b[0;34m)\u001b[0m\u001b[0;34m)\u001b[0m \u001b[0;32mif\u001b[0m \u001b[0misinstance\u001b[0m\u001b[0;34m(\u001b[0m\u001b[0mout\u001b[0m\u001b[0;34m,\u001b[0m \u001b[0mdict\u001b[0m\u001b[0;34m)\u001b[0m \u001b[0;32melse\u001b[0m \u001b[0;34m[\u001b[0m\u001b[0mout\u001b[0m\u001b[0;34m]\u001b[0m\u001b[0;34m\u001b[0m\u001b[0;34m\u001b[0m\u001b[0m\n\u001b[1;32m    520\u001b[0m         \u001b[0;32mfor\u001b[0m \u001b[0mdataset\u001b[0m \u001b[0;32min\u001b[0m \u001b[0mdatasets\u001b[0m\u001b[0;34m:\u001b[0m\u001b[0;34m\u001b[0m\u001b[0;34m\u001b[0m\u001b[0m\n",
            "\u001b[0;32m/usr/local/lib/python3.10/dist-packages/datasets/arrow_dataset.py\u001b[0m in \u001b[0;36mwrapper\u001b[0;34m(*args, **kwargs)\u001b[0m\n\u001b[1;32m    483\u001b[0m         }\n\u001b[1;32m    484\u001b[0m         \u001b[0;31m# apply actual function\u001b[0m\u001b[0;34m\u001b[0m\u001b[0;34m\u001b[0m\u001b[0m\n\u001b[0;32m--> 485\u001b[0;31m         \u001b[0mout\u001b[0m\u001b[0;34m:\u001b[0m \u001b[0mUnion\u001b[0m\u001b[0;34m[\u001b[0m\u001b[0;34m\"Dataset\"\u001b[0m\u001b[0;34m,\u001b[0m \u001b[0;34m\"DatasetDict\"\u001b[0m\u001b[0;34m]\u001b[0m \u001b[0;34m=\u001b[0m \u001b[0mfunc\u001b[0m\u001b[0;34m(\u001b[0m\u001b[0mself\u001b[0m\u001b[0;34m,\u001b[0m \u001b[0;34m*\u001b[0m\u001b[0margs\u001b[0m\u001b[0;34m,\u001b[0m \u001b[0;34m**\u001b[0m\u001b[0mkwargs\u001b[0m\u001b[0;34m)\u001b[0m\u001b[0;34m\u001b[0m\u001b[0;34m\u001b[0m\u001b[0m\n\u001b[0m\u001b[1;32m    486\u001b[0m         \u001b[0mdatasets\u001b[0m\u001b[0;34m:\u001b[0m \u001b[0mList\u001b[0m\u001b[0;34m[\u001b[0m\u001b[0;34m\"Dataset\"\u001b[0m\u001b[0;34m]\u001b[0m \u001b[0;34m=\u001b[0m \u001b[0mlist\u001b[0m\u001b[0;34m(\u001b[0m\u001b[0mout\u001b[0m\u001b[0;34m.\u001b[0m\u001b[0mvalues\u001b[0m\u001b[0;34m(\u001b[0m\u001b[0;34m)\u001b[0m\u001b[0;34m)\u001b[0m \u001b[0;32mif\u001b[0m \u001b[0misinstance\u001b[0m\u001b[0;34m(\u001b[0m\u001b[0mout\u001b[0m\u001b[0;34m,\u001b[0m \u001b[0mdict\u001b[0m\u001b[0;34m)\u001b[0m \u001b[0;32melse\u001b[0m \u001b[0;34m[\u001b[0m\u001b[0mout\u001b[0m\u001b[0;34m]\u001b[0m\u001b[0;34m\u001b[0m\u001b[0;34m\u001b[0m\u001b[0m\n\u001b[1;32m    487\u001b[0m         \u001b[0;31m# re-apply format to the output\u001b[0m\u001b[0;34m\u001b[0m\u001b[0;34m\u001b[0m\u001b[0m\n",
            "\u001b[0;32m/usr/local/lib/python3.10/dist-packages/datasets/fingerprint.py\u001b[0m in \u001b[0;36mwrapper\u001b[0;34m(*args, **kwargs)\u001b[0m\n\u001b[1;32m    411\u001b[0m             \u001b[0;31m# Call actual function\u001b[0m\u001b[0;34m\u001b[0m\u001b[0;34m\u001b[0m\u001b[0m\n\u001b[1;32m    412\u001b[0m \u001b[0;34m\u001b[0m\u001b[0m\n\u001b[0;32m--> 413\u001b[0;31m             \u001b[0mout\u001b[0m \u001b[0;34m=\u001b[0m \u001b[0mfunc\u001b[0m\u001b[0;34m(\u001b[0m\u001b[0mself\u001b[0m\u001b[0;34m,\u001b[0m \u001b[0;34m*\u001b[0m\u001b[0margs\u001b[0m\u001b[0;34m,\u001b[0m \u001b[0;34m**\u001b[0m\u001b[0mkwargs\u001b[0m\u001b[0;34m)\u001b[0m\u001b[0;34m\u001b[0m\u001b[0;34m\u001b[0m\u001b[0m\n\u001b[0m\u001b[1;32m    414\u001b[0m \u001b[0;34m\u001b[0m\u001b[0m\n\u001b[1;32m    415\u001b[0m             \u001b[0;31m# Update fingerprint of in-place transforms + update in-place history of transforms\u001b[0m\u001b[0;34m\u001b[0m\u001b[0;34m\u001b[0m\u001b[0m\n",
            "\u001b[0;32m/usr/local/lib/python3.10/dist-packages/datasets/arrow_dataset.py\u001b[0m in \u001b[0;36m_map_single\u001b[0;34m(self, function, with_indices, with_rank, input_columns, batched, batch_size, drop_last_batch, remove_columns, keep_in_memory, load_from_cache_file, cache_file_name, writer_batch_size, features, disable_nullable, fn_kwargs, new_fingerprint, rank, offset, disable_tqdm, desc, cache_only)\u001b[0m\n\u001b[1;32m   2458\u001b[0m                 \u001b[0;32mif\u001b[0m \u001b[0;32mnot\u001b[0m \u001b[0mbatched\u001b[0m\u001b[0;34m:\u001b[0m\u001b[0;34m\u001b[0m\u001b[0;34m\u001b[0m\u001b[0m\n\u001b[1;32m   2459\u001b[0m                     \u001b[0;32mfor\u001b[0m \u001b[0mi\u001b[0m\u001b[0;34m,\u001b[0m \u001b[0mexample\u001b[0m \u001b[0;32min\u001b[0m \u001b[0menumerate\u001b[0m\u001b[0;34m(\u001b[0m\u001b[0mpbar\u001b[0m\u001b[0;34m)\u001b[0m\u001b[0;34m:\u001b[0m\u001b[0;34m\u001b[0m\u001b[0;34m\u001b[0m\u001b[0m\n\u001b[0;32m-> 2460\u001b[0;31m                         \u001b[0mexample\u001b[0m \u001b[0;34m=\u001b[0m \u001b[0mapply_function_on_filtered_inputs\u001b[0m\u001b[0;34m(\u001b[0m\u001b[0mexample\u001b[0m\u001b[0;34m,\u001b[0m \u001b[0mi\u001b[0m\u001b[0;34m,\u001b[0m \u001b[0moffset\u001b[0m\u001b[0;34m=\u001b[0m\u001b[0moffset\u001b[0m\u001b[0;34m)\u001b[0m\u001b[0;34m\u001b[0m\u001b[0;34m\u001b[0m\u001b[0m\n\u001b[0m\u001b[1;32m   2461\u001b[0m                         \u001b[0;32mif\u001b[0m \u001b[0mupdate_data\u001b[0m\u001b[0;34m:\u001b[0m\u001b[0;34m\u001b[0m\u001b[0;34m\u001b[0m\u001b[0m\n\u001b[1;32m   2462\u001b[0m                             \u001b[0;32mif\u001b[0m \u001b[0mi\u001b[0m \u001b[0;34m==\u001b[0m \u001b[0;36m0\u001b[0m\u001b[0;34m:\u001b[0m\u001b[0;34m\u001b[0m\u001b[0;34m\u001b[0m\u001b[0m\n",
            "\u001b[0;32m/usr/local/lib/python3.10/dist-packages/datasets/arrow_dataset.py\u001b[0m in \u001b[0;36mapply_function_on_filtered_inputs\u001b[0;34m(inputs, indices, check_same_num_examples, offset)\u001b[0m\n\u001b[1;32m   2365\u001b[0m             \u001b[0;32mif\u001b[0m \u001b[0mwith_rank\u001b[0m\u001b[0;34m:\u001b[0m\u001b[0;34m\u001b[0m\u001b[0;34m\u001b[0m\u001b[0m\n\u001b[1;32m   2366\u001b[0m                 \u001b[0madditional_args\u001b[0m \u001b[0;34m+=\u001b[0m \u001b[0;34m(\u001b[0m\u001b[0mrank\u001b[0m\u001b[0;34m,\u001b[0m\u001b[0;34m)\u001b[0m\u001b[0;34m\u001b[0m\u001b[0;34m\u001b[0m\u001b[0m\n\u001b[0;32m-> 2367\u001b[0;31m             \u001b[0mprocessed_inputs\u001b[0m \u001b[0;34m=\u001b[0m \u001b[0mfunction\u001b[0m\u001b[0;34m(\u001b[0m\u001b[0;34m*\u001b[0m\u001b[0mfn_args\u001b[0m\u001b[0;34m,\u001b[0m \u001b[0;34m*\u001b[0m\u001b[0madditional_args\u001b[0m\u001b[0;34m,\u001b[0m \u001b[0;34m**\u001b[0m\u001b[0mfn_kwargs\u001b[0m\u001b[0;34m)\u001b[0m\u001b[0;34m\u001b[0m\u001b[0;34m\u001b[0m\u001b[0m\n\u001b[0m\u001b[1;32m   2368\u001b[0m             \u001b[0;32mif\u001b[0m \u001b[0mupdate_data\u001b[0m \u001b[0;32mis\u001b[0m \u001b[0;32mNone\u001b[0m\u001b[0;34m:\u001b[0m\u001b[0;34m\u001b[0m\u001b[0;34m\u001b[0m\u001b[0m\n\u001b[1;32m   2369\u001b[0m                 \u001b[0;31m# Check if the function returns updated examples\u001b[0m\u001b[0;34m\u001b[0m\u001b[0;34m\u001b[0m\u001b[0m\n",
            "\u001b[0;32m/usr/local/lib/python3.10/dist-packages/datasets/arrow_dataset.py\u001b[0m in \u001b[0;36mdecorated\u001b[0;34m(item, *args, **kwargs)\u001b[0m\n\u001b[1;32m   2060\u001b[0m                 )\n\u001b[1;32m   2061\u001b[0m                 \u001b[0;31m# Use the LazyDict internally, while mapping the function\u001b[0m\u001b[0;34m\u001b[0m\u001b[0;34m\u001b[0m\u001b[0m\n\u001b[0;32m-> 2062\u001b[0;31m                 \u001b[0mresult\u001b[0m \u001b[0;34m=\u001b[0m \u001b[0mf\u001b[0m\u001b[0;34m(\u001b[0m\u001b[0mdecorated_item\u001b[0m\u001b[0;34m,\u001b[0m \u001b[0;34m*\u001b[0m\u001b[0margs\u001b[0m\u001b[0;34m,\u001b[0m \u001b[0;34m**\u001b[0m\u001b[0mkwargs\u001b[0m\u001b[0;34m)\u001b[0m\u001b[0;34m\u001b[0m\u001b[0;34m\u001b[0m\u001b[0m\n\u001b[0m\u001b[1;32m   2063\u001b[0m                 \u001b[0;31m# Return a standard dict\u001b[0m\u001b[0;34m\u001b[0m\u001b[0;34m\u001b[0m\u001b[0m\n\u001b[1;32m   2064\u001b[0m                 \u001b[0;32mreturn\u001b[0m \u001b[0mresult\u001b[0m\u001b[0;34m.\u001b[0m\u001b[0mdata\u001b[0m \u001b[0;32mif\u001b[0m \u001b[0misinstance\u001b[0m\u001b[0;34m(\u001b[0m\u001b[0mresult\u001b[0m\u001b[0;34m,\u001b[0m \u001b[0mLazyDict\u001b[0m\u001b[0;34m)\u001b[0m \u001b[0;32melse\u001b[0m \u001b[0mresult\u001b[0m\u001b[0;34m\u001b[0m\u001b[0;34m\u001b[0m\u001b[0m\n",
            "\u001b[0;32m<ipython-input-47-10349c9a5957>\u001b[0m in \u001b[0;36mprepare_dataset\u001b[0;34m(batch)\u001b[0m\n\u001b[1;32m      3\u001b[0m \u001b[0;34m\u001b[0m\u001b[0m\n\u001b[1;32m      4\u001b[0m     \u001b[0;31m# batched output is \"un-batched\"\u001b[0m\u001b[0;34m\u001b[0m\u001b[0;34m\u001b[0m\u001b[0m\n\u001b[0;32m----> 5\u001b[0;31m     \u001b[0mbatch\u001b[0m\u001b[0;34m[\u001b[0m\u001b[0;34m\"input_values\"\u001b[0m\u001b[0;34m]\u001b[0m \u001b[0;34m=\u001b[0m \u001b[0mprocessor\u001b[0m\u001b[0;34m(\u001b[0m\u001b[0maudio\u001b[0m\u001b[0;34m[\u001b[0m\u001b[0;34m\"array\"\u001b[0m\u001b[0;34m]\u001b[0m\u001b[0;34m,\u001b[0m \u001b[0msampling_rate\u001b[0m\u001b[0;34m=\u001b[0m\u001b[0maudio\u001b[0m\u001b[0;34m[\u001b[0m\u001b[0;34m\"sampling_rate\"\u001b[0m\u001b[0;34m]\u001b[0m\u001b[0;34m)\u001b[0m\u001b[0;34m.\u001b[0m\u001b[0minput_values\u001b[0m\u001b[0;34m[\u001b[0m\u001b[0;36m0\u001b[0m\u001b[0;34m]\u001b[0m\u001b[0;34m\u001b[0m\u001b[0;34m\u001b[0m\u001b[0m\n\u001b[0m\u001b[1;32m      6\u001b[0m     \u001b[0mbatch\u001b[0m\u001b[0;34m[\u001b[0m\u001b[0;34m\"input_length\"\u001b[0m\u001b[0;34m]\u001b[0m \u001b[0;34m=\u001b[0m \u001b[0mlen\u001b[0m\u001b[0;34m(\u001b[0m\u001b[0mbatch\u001b[0m\u001b[0;34m[\u001b[0m\u001b[0;34m\"input_values\"\u001b[0m\u001b[0;34m]\u001b[0m\u001b[0;34m)\u001b[0m\u001b[0;34m\u001b[0m\u001b[0;34m\u001b[0m\u001b[0m\n\u001b[1;32m      7\u001b[0m \u001b[0;34m\u001b[0m\u001b[0m\n",
            "\u001b[0;32m/usr/local/lib/python3.10/dist-packages/transformers/models/wav2vec2/processing_wav2vec2.py\u001b[0m in \u001b[0;36m__call__\u001b[0;34m(self, *args, **kwargs)\u001b[0m\n\u001b[1;32m     74\u001b[0m         \u001b[0;31m# For backward compatibility\u001b[0m\u001b[0;34m\u001b[0m\u001b[0;34m\u001b[0m\u001b[0m\n\u001b[1;32m     75\u001b[0m         \u001b[0;32mif\u001b[0m \u001b[0mself\u001b[0m\u001b[0;34m.\u001b[0m\u001b[0m_in_target_context_manager\u001b[0m\u001b[0;34m:\u001b[0m\u001b[0;34m\u001b[0m\u001b[0;34m\u001b[0m\u001b[0m\n\u001b[0;32m---> 76\u001b[0;31m             \u001b[0;32mreturn\u001b[0m \u001b[0mself\u001b[0m\u001b[0;34m.\u001b[0m\u001b[0mcurrent_processor\u001b[0m\u001b[0;34m(\u001b[0m\u001b[0;34m*\u001b[0m\u001b[0margs\u001b[0m\u001b[0;34m,\u001b[0m \u001b[0;34m**\u001b[0m\u001b[0mkwargs\u001b[0m\u001b[0;34m)\u001b[0m\u001b[0;34m\u001b[0m\u001b[0;34m\u001b[0m\u001b[0m\n\u001b[0m\u001b[1;32m     77\u001b[0m \u001b[0;34m\u001b[0m\u001b[0m\n\u001b[1;32m     78\u001b[0m         \u001b[0;32mif\u001b[0m \u001b[0;34m\"raw_speech\"\u001b[0m \u001b[0;32min\u001b[0m \u001b[0mkwargs\u001b[0m\u001b[0;34m:\u001b[0m\u001b[0;34m\u001b[0m\u001b[0;34m\u001b[0m\u001b[0m\n",
            "\u001b[0;32m/usr/local/lib/python3.10/dist-packages/transformers/tokenization_utils_base.py\u001b[0m in \u001b[0;36m__call__\u001b[0;34m(self, text, text_pair, text_target, text_pair_target, add_special_tokens, padding, truncation, max_length, stride, is_split_into_words, pad_to_multiple_of, return_tensors, return_token_type_ids, return_attention_mask, return_overflowing_tokens, return_special_tokens_mask, return_offsets_mapping, return_length, verbose, **kwargs)\u001b[0m\n\u001b[1;32m   2600\u001b[0m             \u001b[0;32mif\u001b[0m \u001b[0;32mnot\u001b[0m \u001b[0mself\u001b[0m\u001b[0;34m.\u001b[0m\u001b[0m_in_target_context_manager\u001b[0m\u001b[0;34m:\u001b[0m\u001b[0;34m\u001b[0m\u001b[0;34m\u001b[0m\u001b[0m\n\u001b[1;32m   2601\u001b[0m                 \u001b[0mself\u001b[0m\u001b[0;34m.\u001b[0m\u001b[0m_switch_to_input_mode\u001b[0m\u001b[0;34m(\u001b[0m\u001b[0;34m)\u001b[0m\u001b[0;34m\u001b[0m\u001b[0;34m\u001b[0m\u001b[0m\n\u001b[0;32m-> 2602\u001b[0;31m             \u001b[0mencodings\u001b[0m \u001b[0;34m=\u001b[0m \u001b[0mself\u001b[0m\u001b[0;34m.\u001b[0m\u001b[0m_call_one\u001b[0m\u001b[0;34m(\u001b[0m\u001b[0mtext\u001b[0m\u001b[0;34m=\u001b[0m\u001b[0mtext\u001b[0m\u001b[0;34m,\u001b[0m \u001b[0mtext_pair\u001b[0m\u001b[0;34m=\u001b[0m\u001b[0mtext_pair\u001b[0m\u001b[0;34m,\u001b[0m \u001b[0;34m**\u001b[0m\u001b[0mall_kwargs\u001b[0m\u001b[0;34m)\u001b[0m\u001b[0;34m\u001b[0m\u001b[0;34m\u001b[0m\u001b[0m\n\u001b[0m\u001b[1;32m   2603\u001b[0m         \u001b[0;32mif\u001b[0m \u001b[0mtext_target\u001b[0m \u001b[0;32mis\u001b[0m \u001b[0;32mnot\u001b[0m \u001b[0;32mNone\u001b[0m\u001b[0;34m:\u001b[0m\u001b[0;34m\u001b[0m\u001b[0;34m\u001b[0m\u001b[0m\n\u001b[1;32m   2604\u001b[0m             \u001b[0mself\u001b[0m\u001b[0;34m.\u001b[0m\u001b[0m_switch_to_target_mode\u001b[0m\u001b[0;34m(\u001b[0m\u001b[0;34m)\u001b[0m\u001b[0;34m\u001b[0m\u001b[0;34m\u001b[0m\u001b[0m\n",
            "\u001b[0;32m/usr/local/lib/python3.10/dist-packages/transformers/tokenization_utils_base.py\u001b[0m in \u001b[0;36m_call_one\u001b[0;34m(self, text, text_pair, add_special_tokens, padding, truncation, max_length, stride, is_split_into_words, pad_to_multiple_of, return_tensors, return_token_type_ids, return_attention_mask, return_overflowing_tokens, return_special_tokens_mask, return_offsets_mapping, return_length, verbose, **kwargs)\u001b[0m\n\u001b[1;32m   2658\u001b[0m \u001b[0;34m\u001b[0m\u001b[0m\n\u001b[1;32m   2659\u001b[0m         \u001b[0;32mif\u001b[0m \u001b[0;32mnot\u001b[0m \u001b[0m_is_valid_text_input\u001b[0m\u001b[0;34m(\u001b[0m\u001b[0mtext\u001b[0m\u001b[0;34m)\u001b[0m\u001b[0;34m:\u001b[0m\u001b[0;34m\u001b[0m\u001b[0;34m\u001b[0m\u001b[0m\n\u001b[0;32m-> 2660\u001b[0;31m             raise ValueError(\n\u001b[0m\u001b[1;32m   2661\u001b[0m                 \u001b[0;34m\"text input must of type `str` (single example), `List[str]` (batch or single pretokenized example) \"\u001b[0m\u001b[0;34m\u001b[0m\u001b[0;34m\u001b[0m\u001b[0m\n\u001b[1;32m   2662\u001b[0m                 \u001b[0;34m\"or `List[List[str]]` (batch of pretokenized examples).\"\u001b[0m\u001b[0;34m\u001b[0m\u001b[0;34m\u001b[0m\u001b[0m\n",
            "\u001b[0;31mValueError\u001b[0m: text input must of type `str` (single example), `List[str]` (batch or single pretokenized example) or `List[List[str]]` (batch of pretokenized examples)."
          ]
        }
      ]
    },
    {
      "cell_type": "markdown",
      "metadata": {
        "id": "nKcEWHvKI1by"
      },
      "source": [
        "**Note**: Currently `datasets` make use of [`torchaudio`](https://pytorch.org/audio/stable/index.html) and [`librosa`](https://librosa.org/doc/latest/index.html) for audio loading and resampling. If you wish to implement your own costumized data loading/sampling, feel free to just make use of the `\"path\"` column instead and disregard the `\"audio\"` column."
      ]
    },
    {
      "cell_type": "markdown",
      "metadata": {
        "id": "24CxHd5ewI4T"
      },
      "source": [
        "Long input sequences require a lot of memory. XLS-R is based on `self-attention` the memory requirement scales quadratically with the input length for long input sequences (*cf.* with [this](https://www.reddit.com/r/MachineLearning/comments/genjvb/d_why_is_the_maximum_input_sequence_length_of/) reddit post). In case this demo crashes with an \"Out-of-memory\" error for you, you might want to uncomment the following lines to filter all sequences that are longer than 5 seconds for training."
      ]
    },
    {
      "cell_type": "code",
      "metadata": {
        "id": "tdHfbUJ_09iA"
      },
      "source": [
        "#max_input_length_in_sec = 5.0\n",
        "#common_voice_train = common_voice_train.filter(lambda x: x < max_input_length_in_sec * processor.feature_extractor.sampling_rate, input_columns=[\"input_length\"])"
      ],
      "execution_count": null,
      "outputs": []
    },
    {
      "cell_type": "markdown",
      "metadata": {
        "id": "1ZWDCCKqwcfS"
      },
      "source": [
        "Awesome, now we are ready to start training!"
      ]
    },
    {
      "cell_type": "markdown",
      "metadata": {
        "id": "gYlQkKVoRUos"
      },
      "source": [
        "## Training\n",
        "\n",
        "The data is processed so that we are ready to start setting up the training pipeline. We will make use of 🤗's [Trainer](https://huggingface.co/transformers/master/main_classes/trainer.html?highlight=trainer) for which we essentially need to do the following:\n",
        "\n",
        "- Define a data collator. In contrast to most NLP models, XLS-R has a much larger input length than output length. *E.g.*, a sample of input length 50000 has an output length of no more than 100. Given the large input sizes, it is much more efficient to pad the training batches dynamically meaning that all training samples should only be padded to the longest sample in their batch and not the overall longest sample. Therefore, fine-tuning XLS-R requires a special padding data collator, which we will define below\n",
        "\n",
        "- Evaluation metric. During training, the model should be evaluated on the word error rate. We should define a `compute_metrics` function accordingly\n",
        "\n",
        "- Load a pretrained checkpoint. We need to load a pretrained checkpoint and configure it correctly for training.\n",
        "\n",
        "- Define the training configuration.\n",
        "\n",
        "After having fine-tuned the model, we will correctly evaluate it on the test data and verify that it has indeed learned to correctly transcribe speech."
      ]
    },
    {
      "cell_type": "markdown",
      "metadata": {
        "id": "Slk403unUS91"
      },
      "source": [
        "### Set-up Trainer\n",
        "\n",
        "Let's start by defining the data collator. The code for the data collator was copied from [this example](https://github.com/huggingface/transformers/blob/7e61d56a45c19284cfda0cee8995fb552f6b1f4e/examples/pytorch/speech-recognition/run_speech_recognition_ctc.py#L219).\n",
        "\n",
        "Without going into too many details, in contrast to the common data collators, this data collator treats the `input_values` and `labels` differently and thus applies to separate padding functions on them (again making use of XLS-R processor's context manager). This is necessary because in speech input and output are of different modalities meaning that they should not be treated by the same padding function.\n",
        "Analogous to the common data collators, the padding tokens in the labels with `-100` so that those tokens are **not** taken into account when computing the loss."
      ]
    },
    {
      "cell_type": "code",
      "metadata": {
        "id": "tborvC9hx88e"
      },
      "source": [
        "import torch\n",
        "\n",
        "from dataclasses import dataclass, field\n",
        "from typing import Any, Dict, List, Optional, Union\n",
        "\n",
        "@dataclass\n",
        "class DataCollatorCTCWithPadding:\n",
        "    \"\"\"\n",
        "    Data collator that will dynamically pad the inputs received.\n",
        "    Args:\n",
        "        processor (:class:`~transformers.Wav2Vec2Processor`)\n",
        "            The processor used for proccessing the data.\n",
        "        padding (:obj:`bool`, :obj:`str` or :class:`~transformers.tokenization_utils_base.PaddingStrategy`, `optional`, defaults to :obj:`True`):\n",
        "            Select a strategy to pad the returned sequences (according to the model's padding side and padding index)\n",
        "            among:\n",
        "            * :obj:`True` or :obj:`'longest'`: Pad to the longest sequence in the batch (or no padding if only a single\n",
        "              sequence if provided).\n",
        "            * :obj:`'max_length'`: Pad to a maximum length specified with the argument :obj:`max_length` or to the\n",
        "              maximum acceptable input length for the model if that argument is not provided.\n",
        "            * :obj:`False` or :obj:`'do_not_pad'` (default): No padding (i.e., can output a batch with sequences of\n",
        "              different lengths).\n",
        "    \"\"\"\n",
        "\n",
        "    processor: Wav2Vec2Processor\n",
        "    padding: Union[bool, str] = True\n",
        "\n",
        "    def __call__(self, features: List[Dict[str, Union[List[int], torch.Tensor]]]) -> Dict[str, torch.Tensor]:\n",
        "        # split inputs and labels since they have to be of different lenghts and need\n",
        "        # different padding methods\n",
        "        input_features = [{\"input_values\": feature[\"input_values\"]} for feature in features]\n",
        "        label_features = [{\"input_ids\": feature[\"labels\"]} for feature in features]\n",
        "\n",
        "        batch = self.processor.pad(\n",
        "            input_features,\n",
        "            padding=self.padding,\n",
        "            return_tensors=\"pt\",\n",
        "        )\n",
        "        with self.processor.as_target_processor():\n",
        "            labels_batch = self.processor.pad(\n",
        "                label_features,\n",
        "                padding=self.padding,\n",
        "                return_tensors=\"pt\",\n",
        "            )\n",
        "\n",
        "        # replace padding with -100 to ignore loss correctly\n",
        "        labels = labels_batch[\"input_ids\"].masked_fill(labels_batch.attention_mask.ne(1), -100)\n",
        "\n",
        "        batch[\"labels\"] = labels\n",
        "\n",
        "        return batch"
      ],
      "execution_count": 31,
      "outputs": []
    },
    {
      "cell_type": "code",
      "metadata": {
        "id": "lbQf5GuZyQ4_"
      },
      "source": [
        "data_collator = DataCollatorCTCWithPadding(processor=processor, padding=True)"
      ],
      "execution_count": 32,
      "outputs": []
    },
    {
      "cell_type": "markdown",
      "metadata": {
        "id": "xO-Zdj-5cxXp"
      },
      "source": [
        "Next, the evaluation metric is defined. As mentioned earlier, the\n",
        "predominant metric in ASR is the word error rate (WER), hence we will use it in this notebook as well."
      ]
    },
    {
      "cell_type": "code",
      "metadata": {
        "colab": {
          "base_uri": "https://localhost:8080/",
          "height": 49,
          "referenced_widgets": [
            "7c81059d35534b799623afe872095cac",
            "379128a308ab43ee9e785e234bb94049",
            "ff8e746cf8ef4f988617b8d4c0dd3c9c",
            "0204a7bc668746a68f6e5e5632753c1c",
            "84361b363998428a87b9e50b6625cca9",
            "c0919f3c8d594911815ce63273f7fe51",
            "69f2a9e473534148b96b2e9bd639a087",
            "5cd8c74ba2e845d498afdc1c25009767",
            "3f0c587f7b764d96837c8e16254aab12",
            "d3b5f5a0d35642e0b606ac63c38f88fa",
            "7ce84a97d72848c0967f732734afdd68"
          ]
        },
        "id": "9Xsux2gmyXso",
        "outputId": "18ceeb9e-1a0d-4ee8-f511-a12ad3608bf1"
      },
      "source": [
        "wer_metric = load_metric(\"wer\")"
      ],
      "execution_count": null,
      "outputs": [
        {
          "data": {
            "application/vnd.jupyter.widget-view+json": {
              "model_id": "7c81059d35534b799623afe872095cac",
              "version_major": 2,
              "version_minor": 0
            },
            "text/plain": [
              "Downloading:   0%|          | 0.00/1.95k [00:00<?, ?B/s]"
            ]
          },
          "metadata": {},
          "output_type": "display_data"
        }
      ]
    },
    {
      "cell_type": "markdown",
      "metadata": {
        "id": "E1qZU5p-deqB"
      },
      "source": [
        "The model will return a sequence of logit vectors:\n",
        "$\\mathbf{y}_1, \\ldots, \\mathbf{y}_m$ with $\\mathbf{y}_1 = f_{\\theta}(x_1, \\ldots, x_n)[0]$ and $n >> m$.\n",
        "\n",
        "A logit vector $\\mathbf{y}_1$ contains the log-odds for each word in the vocabulary we defined earlier, thus $\\text{len}(\\mathbf{y}_i) =$ `config.vocab_size`. We are interested in the most likely prediction of the model and thus take the `argmax(...)` of the logits. Also, we transform the encoded labels back to the original string by replacing `-100` with the `pad_token_id` and decoding the ids while making sure that consecutive tokens are **not** grouped to the same token in CTC style ${}^1$."
      ]
    },
    {
      "cell_type": "code",
      "metadata": {
        "id": "1XZ-kjweyTy_"
      },
      "source": [
        "def compute_metrics(pred):\n",
        "    pred_logits = pred.predictions\n",
        "    pred_ids = np.argmax(pred_logits, axis=-1)\n",
        "\n",
        "    pred.label_ids[pred.label_ids == -100] = processor.tokenizer.pad_token_id\n",
        "\n",
        "    pred_str = processor.batch_decode(pred_ids)\n",
        "    # we do not want to group tokens when computing the metrics\n",
        "    label_str = processor.batch_decode(pred.label_ids, group_tokens=False)\n",
        "\n",
        "    wer = wer_metric.compute(predictions=pred_str, references=label_str)\n",
        "\n",
        "    return {\"wer\": wer}"
      ],
      "execution_count": null,
      "outputs": []
    },
    {
      "cell_type": "markdown",
      "metadata": {
        "id": "Xmgrx4bRwLIH"
      },
      "source": [
        "Now, we can load the pretrained checkpoint of [Wav2Vec2-XLS-R-300M](https://huggingface.co/facebook/wav2vec2-xls-r-300m). The tokenizer's `pad_token_id` must be to define the model's `pad_token_id` or in the case of `Wav2Vec2ForCTC` also CTC's *blank token* ${}^2$. To save GPU memory, we enable PyTorch's [gradient checkpointing](https://pytorch.org/docs/stable/checkpoint.html) and also set the loss reduction to \"*mean*\".\n",
        "\n",
        "Because the dataset is quite small (~6h of training data) and because Common Voice is quite noisy, fine-tuning Facebook's [wav2vec2-xls-r-300m checkpoint](https://huggingface.co/facebook/wav2vec2-xls-r-300m) seems to require some hyper-parameter tuning. Therefore, I had to play around a bit with different values for dropout, [SpecAugment](https://arxiv.org/abs/1904.08779)'s masking dropout rate, layer dropout, and the learning rate until training seemed to be stable enough.\n",
        "\n",
        "**Note**: When using this notebook to train XLS-R on another language of Common Voice those hyper-parameter settings might not work very well. Feel free to adapt those depending on your use case."
      ]
    },
    {
      "cell_type": "code",
      "metadata": {
        "colab": {
          "base_uri": "https://localhost:8080/",
          "height": 191,
          "referenced_widgets": [
            "1ca82f9af3ae423096661a1ffd8a165f",
            "ce429683f48349c083e5fc3253a897d7",
            "acc35dfdfca542828d1bb02cbde15dfe",
            "aa92ff120d9c4dd68ae941d7a1f33a81",
            "731a283141f642b9ab5bf9f7053381d2",
            "4246da00789f44e2abce952906bde6f1",
            "059588e34a88476eb6bbc1860ddc27ef",
            "6ae3b3139e6641fc9e62ae5744349add",
            "92c30a7c6102443cad2f6f03211c32e0",
            "ad95ae421231492e814238bde2ecb551",
            "136f973d9623421eb38e09c73c6b6810",
            "367c85905a024248bce6c620b822b2ee",
            "7ea310732a56432da1a095a8d30edc1c",
            "2d2b8b8d5774494aa73d872e9a4c10d9",
            "f4af6a0756e241e49e5d325f1bdb18b4",
            "2b7e52a9be904663ae74226691de6ebd",
            "771530ea22364f1ea8963e2d542fcf49",
            "1cdac9cda666466ca1e09f32661d40ed",
            "3ec9917890f4452883bcaeac444d056c",
            "e9531fcd48b74929bfdb45cd3f3315e7",
            "349c9e8b2a8846c1bff5a03d2a28066a",
            "de1e5c31eacf4fa59cfa51926354acca"
          ]
        },
        "id": "e7cqAWIayn6w",
        "outputId": "3e6cebea-78ef-45df-87b0-f63b78ba9644"
      },
      "source": [
        "from transformers import Wav2Vec2ForCTC\n",
        "\n",
        "model = Wav2Vec2ForCTC.from_pretrained(\n",
        "    \"facebook/wav2vec2-xls-r-300m\",\n",
        "    attention_dropout=0.0,\n",
        "    hidden_dropout=0.0,\n",
        "    feat_proj_dropout=0.0,\n",
        "    mask_time_prob=0.05,\n",
        "    layerdrop=0.0,\n",
        "    ctc_loss_reduction=\"mean\",\n",
        "    pad_token_id=processor.tokenizer.pad_token_id,\n",
        "    vocab_size=len(processor.tokenizer),\n",
        ")"
      ],
      "execution_count": null,
      "outputs": [
        {
          "data": {
            "application/vnd.jupyter.widget-view+json": {
              "model_id": "1ca82f9af3ae423096661a1ffd8a165f",
              "version_major": 2,
              "version_minor": 0
            },
            "text/plain": [
              "Downloading:   0%|          | 0.00/1.53k [00:00<?, ?B/s]"
            ]
          },
          "metadata": {},
          "output_type": "display_data"
        },
        {
          "data": {
            "application/vnd.jupyter.widget-view+json": {
              "model_id": "367c85905a024248bce6c620b822b2ee",
              "version_major": 2,
              "version_minor": 0
            },
            "text/plain": [
              "Downloading:   0%|          | 0.00/1.18G [00:00<?, ?B/s]"
            ]
          },
          "metadata": {},
          "output_type": "display_data"
        },
        {
          "name": "stderr",
          "output_type": "stream",
          "text": [
            "Some weights of the model checkpoint at facebook/wav2vec2-xls-r-300m were not used when initializing Wav2Vec2ForCTC: ['project_hid.weight', 'project_q.bias', 'quantizer.weight_proj.weight', 'quantizer.weight_proj.bias', 'project_q.weight', 'project_hid.bias', 'quantizer.codevectors']\n",
            "- This IS expected if you are initializing Wav2Vec2ForCTC from the checkpoint of a model trained on another task or with another architecture (e.g. initializing a BertForSequenceClassification model from a BertForPreTraining model).\n",
            "- This IS NOT expected if you are initializing Wav2Vec2ForCTC from the checkpoint of a model that you expect to be exactly identical (initializing a BertForSequenceClassification model from a BertForSequenceClassification model).\n",
            "Some weights of Wav2Vec2ForCTC were not initialized from the model checkpoint at facebook/wav2vec2-xls-r-300m and are newly initialized: ['lm_head.bias', 'lm_head.weight']\n",
            "You should probably TRAIN this model on a down-stream task to be able to use it for predictions and inference.\n"
          ]
        }
      ]
    },
    {
      "cell_type": "markdown",
      "metadata": {
        "id": "1DwR3XLSzGDD"
      },
      "source": [
        "The first component of XLS-R consists of a stack of CNN layers that are used to extract acoustically meaningful - but contextually independent - features from the raw speech signal. This part of the model has already been sufficiently trained during pretraining and as stated in the [paper](https://arxiv.org/pdf/2006.13979.pdf) does not need to be fine-tuned anymore.\n",
        "Thus, we can set the `requires_grad` to `False` for all parameters of the *feature extraction* part."
      ]
    },
    {
      "cell_type": "code",
      "metadata": {
        "id": "oGI8zObtZ3V0"
      },
      "source": [
        "model.freeze_feature_extractor()"
      ],
      "execution_count": null,
      "outputs": []
    },
    {
      "cell_type": "markdown",
      "metadata": {
        "id": "lD4aGhQM0K-D"
      },
      "source": [
        "In a final step, we define all parameters related to training.\n",
        "To give more explanation on some of the parameters:\n",
        "- `group_by_length` makes training more efficient by grouping training samples of similar input length into one batch. This can significantly speed up training time by heavily reducing the overall number of useless padding tokens that are passed through the model\n",
        "- `learning_rate` and `weight_decay` were heuristically tuned until fine-tuning has become stable. Note that those parameters strongly depend on the Common Voice dataset and might be suboptimal for other speech datasets.\n",
        "\n",
        "For more explanations on other parameters, one can take a look at the [docs](https://huggingface.co/transformers/master/main_classes/trainer.html?highlight=trainer#trainingarguments).\n",
        "\n",
        "During training, a checkpoint will be uploaded asynchronously to the hub every 400 training steps. It allows you to also play around with the demo widget even while your model is still training.\n",
        "\n",
        "**Note**: If one does not want to upload the model checkpoints to the hub, simply set `push_to_hub=False`."
      ]
    },
    {
      "cell_type": "code",
      "metadata": {
        "id": "KbeKSV7uzGPP"
      },
      "source": [
        "from transformers import TrainingArguments\n",
        "\n",
        "training_args = TrainingArguments(\n",
        "  output_dir=repo_name,\n",
        "  group_by_length=True,\n",
        "  per_device_train_batch_size=16,\n",
        "  gradient_accumulation_steps=2,\n",
        "  evaluation_strategy=\"steps\",\n",
        "  num_train_epochs=30,\n",
        "  gradient_checkpointing=True,\n",
        "  fp16=True,\n",
        "  save_steps=400,\n",
        "  eval_steps=400,\n",
        "  logging_steps=400,\n",
        "  learning_rate=3e-4,\n",
        "  warmup_steps=500,\n",
        "  save_total_limit=2,\n",
        "  push_to_hub=True,\n",
        ")"
      ],
      "execution_count": null,
      "outputs": []
    },
    {
      "cell_type": "markdown",
      "metadata": {
        "id": "OsW-WZcL1ZtN"
      },
      "source": [
        "Now, all instances can be passed to Trainer and we are ready to start training!"
      ]
    },
    {
      "cell_type": "code",
      "metadata": {
        "colab": {
          "base_uri": "https://localhost:8080/"
        },
        "id": "rY7vBmFCPFgC",
        "outputId": "c47ecc78-5259-44db-c121-5bd7945defb8"
      },
      "source": [
        "from transformers import Trainer\n",
        "\n",
        "trainer = Trainer(\n",
        "    model=model,\n",
        "    data_collator=data_collator,\n",
        "    args=training_args,\n",
        "    compute_metrics=compute_metrics,\n",
        "    train_dataset=common_voice_train,\n",
        "    eval_dataset=common_voice_test,\n",
        "    tokenizer=processor.feature_extractor,\n",
        ")"
      ],
      "execution_count": null,
      "outputs": [
        {
          "name": "stderr",
          "output_type": "stream",
          "text": [
            "/usr/local/lib/python3.7/dist-packages/huggingface_hub/hf_api.py:718: FutureWarning: `create_repo` now takes `token` as an optional positional argument. Be sure to adapt your code!\n",
            "  FutureWarning,\n",
            "/content/wav2vec2-large-xls-r-300m-turkish-colab is already a clone of https://huggingface.co/patrickvonplaten/wav2vec2-large-xls-r-300m-turkish-colab. Make sure you pull the latest changes with `repo.git_pull()`.\n",
            "Using amp fp16 backend\n"
          ]
        }
      ]
    },
    {
      "cell_type": "markdown",
      "metadata": {
        "id": "UoXBx1JAA0DX"
      },
      "source": [
        "\n",
        "\n",
        "---\n",
        "\n",
        "${}^1$ To allow models to become independent of the speaker rate, in CTC, consecutive tokens that are identical are simply grouped as a single token. However, the encoded labels should not be grouped when decoding since they don't correspond to the predicted tokens of the model, which is why the `group_tokens=False` parameter has to be passed. If we wouldn't pass this parameter a word like `\"hello\"` would incorrectly be encoded, and decoded as `\"helo\"`.\n",
        "\n",
        "${}^2$ The blank token allows the model to predict a word, such as `\"hello\"` by forcing it to insert the blank token between the two l's. A CTC-conform prediction of `\"hello\"` of our model would be `[PAD] [PAD] \"h\" \"e\" \"e\" \"l\" \"l\" [PAD] \"l\" \"o\" \"o\" [PAD]`."
      ]
    },
    {
      "cell_type": "markdown",
      "metadata": {
        "id": "rpvZHM1xReIW"
      },
      "source": [
        "### Training"
      ]
    },
    {
      "cell_type": "markdown",
      "metadata": {
        "id": "j-3oKSzZ1hGq"
      },
      "source": [
        "Training will take multiple hours depending on the GPU allocated to this notebook. While the trained model yields somewhat satisfying results on *Common Voice*'s test data of Turkish, it is by no means an optimally fine-tuned model. The purpose of this notebook is just to demonstrate how to fine-tune XLS-R on an ASR dataset.\n",
        "\n",
        "In case you want to use this google colab to fine-tune your model, you should make sure that your training doesn't stop due to inactivity. A simple hack to prevent this is to paste the following code into the console of this tab (*right mouse click -> inspect -> Console tab and insert code*)."
      ]
    },
    {
      "cell_type": "markdown",
      "metadata": {
        "id": "VYYAvgkW4P0m"
      },
      "source": [
        "```javascript\n",
        "function ConnectButton(){\n",
        "    console.log(\"Connect pushed\");\n",
        "    document.querySelector(\"#top-toolbar > colab-connect-button\").shadowRoot.querySelector(\"#connect\").click()\n",
        "}\n",
        "setInterval(ConnectButton,60000);\n",
        "```"
      ]
    },
    {
      "cell_type": "markdown",
      "metadata": {
        "id": "7bGgLV2r0yvZ"
      },
      "source": [
        "Depending on what GPU was allocated to your google colab it might be possible that you are seeing an `\"out-of-memory\"` error here. In this case, it's probably best to reduce `per_device_train_batch_size` to 8 or even less and increase [`gradient_accumulation`](https://huggingface.co/transformers/master/main_classes/trainer.html#trainingarguments)."
      ]
    },
    {
      "cell_type": "code",
      "metadata": {
        "colab": {
          "background_save": true,
          "base_uri": "https://localhost:8080/",
          "height": 311
        },
        "id": "9fRr9TG5pGBl",
        "outputId": "122ea040-7b24-452a-c7d4-7e72e1c46973"
      },
      "source": [
        "trainer.train()"
      ],
      "execution_count": null,
      "outputs": [
        {
          "name": "stderr",
          "output_type": "stream",
          "text": [
            "The following columns in the training set  don't have a corresponding argument in `Wav2Vec2ForCTC.forward` and have been ignored: input_length.\n",
            "***** Running training *****\n",
            "  Num examples = 3478\n",
            "  Num Epochs = 30\n",
            "  Instantaneous batch size per device = 16\n",
            "  Total train batch size (w. parallel, distributed & accumulation) = 32\n",
            "  Gradient Accumulation steps = 2\n",
            "  Total optimization steps = 3270\n",
            "/usr/local/lib/python3.7/dist-packages/transformers/feature_extraction_utils.py:158: UserWarning: Creating a tensor from a list of numpy.ndarrays is extremely slow. Please consider converting the list to a single numpy.ndarray with numpy.array() before converting to a tensor. (Triggered internally at  ../torch/csrc/utils/tensor_new.cpp:201.)\n",
            "  tensor = as_tensor(value)\n",
            "/usr/local/lib/python3.7/dist-packages/transformers/models/wav2vec2/modeling_wav2vec2.py:882: UserWarning: __floordiv__ is deprecated, and its behavior will change in a future version of pytorch. It currently rounds toward 0 (like the 'trunc' function NOT 'floor'). This results in incorrect rounding for negative values. To keep the current behavior, use torch.div(a, b, rounding_mode='trunc'), or for actual floor division, use torch.div(a, b, rounding_mode='floor').\n",
            "  return (input_length - kernel_size) // stride + 1\n"
          ]
        },
        {
          "data": {
            "text/html": [
              "\n",
              "    <div>\n",
              "      \n",
              "      <progress value='3270' max='3270' style='width:300px; height:20px; vertical-align: middle;'></progress>\n",
              "      [3270/3270 4:41:48, Epoch 30/30]\n",
              "    </div>\n",
              "    <table border=\"1\" class=\"dataframe\">\n",
              "  <thead>\n",
              "    <tr style=\"text-align: left;\">\n",
              "      <th>Step</th>\n",
              "      <th>Training Loss</th>\n",
              "      <th>Validation Loss</th>\n",
              "      <th>Wer</th>\n",
              "    </tr>\n",
              "  </thead>\n",
              "  <tbody>\n",
              "    <tr>\n",
              "      <td>400</td>\n",
              "      <td>3.765200</td>\n",
              "      <td>0.625533</td>\n",
              "      <td>0.693290</td>\n",
              "    </tr>\n",
              "    <tr>\n",
              "      <td>800</td>\n",
              "      <td>0.371600</td>\n",
              "      <td>0.405785</td>\n",
              "      <td>0.456337</td>\n",
              "    </tr>\n",
              "    <tr>\n",
              "      <td>1200</td>\n",
              "      <td>0.177900</td>\n",
              "      <td>0.412796</td>\n",
              "      <td>0.408028</td>\n",
              "    </tr>\n",
              "    <tr>\n",
              "      <td>1600</td>\n",
              "      <td>0.122600</td>\n",
              "      <td>0.399832</td>\n",
              "      <td>0.394137</td>\n",
              "    </tr>\n",
              "    <tr>\n",
              "      <td>2000</td>\n",
              "      <td>0.092700</td>\n",
              "      <td>0.408412</td>\n",
              "      <td>0.371259</td>\n",
              "    </tr>\n",
              "    <tr>\n",
              "      <td>2400</td>\n",
              "      <td>0.073700</td>\n",
              "      <td>0.394867</td>\n",
              "      <td>0.351956</td>\n",
              "    </tr>\n",
              "    <tr>\n",
              "      <td>2800</td>\n",
              "      <td>0.058100</td>\n",
              "      <td>0.369830</td>\n",
              "      <td>0.331120</td>\n",
              "    </tr>\n",
              "    <tr>\n",
              "      <td>3200</td>\n",
              "      <td>0.045300</td>\n",
              "      <td>0.359626</td>\n",
              "      <td>0.324175</td>\n",
              "    </tr>\n",
              "  </tbody>\n",
              "</table><p>"
            ],
            "text/plain": [
              "<IPython.core.display.HTML object>"
            ]
          },
          "metadata": {},
          "output_type": "display_data"
        },
        {
          "name": "stderr",
          "output_type": "stream",
          "text": [
            "The following columns in the evaluation set  don't have a corresponding argument in `Wav2Vec2ForCTC.forward` and have been ignored: input_length.\n",
            "***** Running Evaluation *****\n",
            "  Num examples = 1647\n",
            "  Batch size = 8\n",
            "Saving model checkpoint to wav2vec2-large-xls-r-300m-turkish-colab/checkpoint-400\n",
            "Configuration saved in wav2vec2-large-xls-r-300m-turkish-colab/checkpoint-400/config.json\n",
            "Model weights saved in wav2vec2-large-xls-r-300m-turkish-colab/checkpoint-400/pytorch_model.bin\n",
            "Configuration saved in wav2vec2-large-xls-r-300m-turkish-colab/checkpoint-400/preprocessor_config.json\n",
            "Configuration saved in wav2vec2-large-xls-r-300m-turkish-colab/preprocessor_config.json\n",
            "/usr/local/lib/python3.7/dist-packages/transformers/models/wav2vec2/modeling_wav2vec2.py:882: UserWarning: __floordiv__ is deprecated, and its behavior will change in a future version of pytorch. It currently rounds toward 0 (like the 'trunc' function NOT 'floor'). This results in incorrect rounding for negative values. To keep the current behavior, use torch.div(a, b, rounding_mode='trunc'), or for actual floor division, use torch.div(a, b, rounding_mode='floor').\n",
            "  return (input_length - kernel_size) // stride + 1\n",
            "The following columns in the evaluation set  don't have a corresponding argument in `Wav2Vec2ForCTC.forward` and have been ignored: input_length.\n",
            "***** Running Evaluation *****\n",
            "  Num examples = 1647\n",
            "  Batch size = 8\n",
            "Saving model checkpoint to wav2vec2-large-xls-r-300m-turkish-colab/checkpoint-800\n",
            "Configuration saved in wav2vec2-large-xls-r-300m-turkish-colab/checkpoint-800/config.json\n",
            "Model weights saved in wav2vec2-large-xls-r-300m-turkish-colab/checkpoint-800/pytorch_model.bin\n",
            "Configuration saved in wav2vec2-large-xls-r-300m-turkish-colab/checkpoint-800/preprocessor_config.json\n",
            "/usr/local/lib/python3.7/dist-packages/transformers/models/wav2vec2/modeling_wav2vec2.py:882: UserWarning: __floordiv__ is deprecated, and its behavior will change in a future version of pytorch. It currently rounds toward 0 (like the 'trunc' function NOT 'floor'). This results in incorrect rounding for negative values. To keep the current behavior, use torch.div(a, b, rounding_mode='trunc'), or for actual floor division, use torch.div(a, b, rounding_mode='floor').\n",
            "  return (input_length - kernel_size) // stride + 1\n",
            "The following columns in the evaluation set  don't have a corresponding argument in `Wav2Vec2ForCTC.forward` and have been ignored: input_length.\n",
            "***** Running Evaluation *****\n",
            "  Num examples = 1647\n",
            "  Batch size = 8\n",
            "Saving model checkpoint to wav2vec2-large-xls-r-300m-turkish-colab/checkpoint-1200\n",
            "Configuration saved in wav2vec2-large-xls-r-300m-turkish-colab/checkpoint-1200/config.json\n",
            "Model weights saved in wav2vec2-large-xls-r-300m-turkish-colab/checkpoint-1200/pytorch_model.bin\n",
            "Configuration saved in wav2vec2-large-xls-r-300m-turkish-colab/checkpoint-1200/preprocessor_config.json\n",
            "Deleting older checkpoint [wav2vec2-large-xls-r-300m-turkish-colab/checkpoint-400] due to args.save_total_limit\n",
            "/usr/local/lib/python3.7/dist-packages/transformers/models/wav2vec2/modeling_wav2vec2.py:882: UserWarning: __floordiv__ is deprecated, and its behavior will change in a future version of pytorch. It currently rounds toward 0 (like the 'trunc' function NOT 'floor'). This results in incorrect rounding for negative values. To keep the current behavior, use torch.div(a, b, rounding_mode='trunc'), or for actual floor division, use torch.div(a, b, rounding_mode='floor').\n",
            "  return (input_length - kernel_size) // stride + 1\n",
            "The following columns in the evaluation set  don't have a corresponding argument in `Wav2Vec2ForCTC.forward` and have been ignored: input_length.\n",
            "***** Running Evaluation *****\n",
            "  Num examples = 1647\n",
            "  Batch size = 8\n",
            "Saving model checkpoint to wav2vec2-large-xls-r-300m-turkish-colab/checkpoint-1600\n",
            "Configuration saved in wav2vec2-large-xls-r-300m-turkish-colab/checkpoint-1600/config.json\n",
            "Model weights saved in wav2vec2-large-xls-r-300m-turkish-colab/checkpoint-1600/pytorch_model.bin\n",
            "Configuration saved in wav2vec2-large-xls-r-300m-turkish-colab/checkpoint-1600/preprocessor_config.json\n",
            "Deleting older checkpoint [wav2vec2-large-xls-r-300m-turkish-colab/checkpoint-800] due to args.save_total_limit\n",
            "/usr/local/lib/python3.7/dist-packages/transformers/models/wav2vec2/modeling_wav2vec2.py:882: UserWarning: __floordiv__ is deprecated, and its behavior will change in a future version of pytorch. It currently rounds toward 0 (like the 'trunc' function NOT 'floor'). This results in incorrect rounding for negative values. To keep the current behavior, use torch.div(a, b, rounding_mode='trunc'), or for actual floor division, use torch.div(a, b, rounding_mode='floor').\n",
            "  return (input_length - kernel_size) // stride + 1\n",
            "The following columns in the evaluation set  don't have a corresponding argument in `Wav2Vec2ForCTC.forward` and have been ignored: input_length.\n",
            "***** Running Evaluation *****\n",
            "  Num examples = 1647\n",
            "  Batch size = 8\n",
            "Saving model checkpoint to wav2vec2-large-xls-r-300m-turkish-colab/checkpoint-2000\n",
            "Configuration saved in wav2vec2-large-xls-r-300m-turkish-colab/checkpoint-2000/config.json\n",
            "Model weights saved in wav2vec2-large-xls-r-300m-turkish-colab/checkpoint-2000/pytorch_model.bin\n",
            "Configuration saved in wav2vec2-large-xls-r-300m-turkish-colab/checkpoint-2000/preprocessor_config.json\n",
            "Deleting older checkpoint [wav2vec2-large-xls-r-300m-turkish-colab/checkpoint-1200] due to args.save_total_limit\n",
            "/usr/local/lib/python3.7/dist-packages/transformers/models/wav2vec2/modeling_wav2vec2.py:882: UserWarning: __floordiv__ is deprecated, and its behavior will change in a future version of pytorch. It currently rounds toward 0 (like the 'trunc' function NOT 'floor'). This results in incorrect rounding for negative values. To keep the current behavior, use torch.div(a, b, rounding_mode='trunc'), or for actual floor division, use torch.div(a, b, rounding_mode='floor').\n",
            "  return (input_length - kernel_size) // stride + 1\n",
            "The following columns in the evaluation set  don't have a corresponding argument in `Wav2Vec2ForCTC.forward` and have been ignored: input_length.\n",
            "***** Running Evaluation *****\n",
            "  Num examples = 1647\n",
            "  Batch size = 8\n",
            "Saving model checkpoint to wav2vec2-large-xls-r-300m-turkish-colab/checkpoint-2400\n",
            "Configuration saved in wav2vec2-large-xls-r-300m-turkish-colab/checkpoint-2400/config.json\n",
            "Model weights saved in wav2vec2-large-xls-r-300m-turkish-colab/checkpoint-2400/pytorch_model.bin\n",
            "Configuration saved in wav2vec2-large-xls-r-300m-turkish-colab/checkpoint-2400/preprocessor_config.json\n",
            "Deleting older checkpoint [wav2vec2-large-xls-r-300m-turkish-colab/checkpoint-1600] due to args.save_total_limit\n",
            "/usr/local/lib/python3.7/dist-packages/transformers/models/wav2vec2/modeling_wav2vec2.py:882: UserWarning: __floordiv__ is deprecated, and its behavior will change in a future version of pytorch. It currently rounds toward 0 (like the 'trunc' function NOT 'floor'). This results in incorrect rounding for negative values. To keep the current behavior, use torch.div(a, b, rounding_mode='trunc'), or for actual floor division, use torch.div(a, b, rounding_mode='floor').\n",
            "  return (input_length - kernel_size) // stride + 1\n",
            "The following columns in the evaluation set  don't have a corresponding argument in `Wav2Vec2ForCTC.forward` and have been ignored: input_length.\n",
            "***** Running Evaluation *****\n",
            "  Num examples = 1647\n",
            "  Batch size = 8\n",
            "Saving model checkpoint to wav2vec2-large-xls-r-300m-turkish-colab/checkpoint-2800\n",
            "Configuration saved in wav2vec2-large-xls-r-300m-turkish-colab/checkpoint-2800/config.json\n",
            "Model weights saved in wav2vec2-large-xls-r-300m-turkish-colab/checkpoint-2800/pytorch_model.bin\n",
            "Configuration saved in wav2vec2-large-xls-r-300m-turkish-colab/checkpoint-2800/preprocessor_config.json\n",
            "Deleting older checkpoint [wav2vec2-large-xls-r-300m-turkish-colab/checkpoint-2000] due to args.save_total_limit\n",
            "/usr/local/lib/python3.7/dist-packages/transformers/models/wav2vec2/modeling_wav2vec2.py:882: UserWarning: __floordiv__ is deprecated, and its behavior will change in a future version of pytorch. It currently rounds toward 0 (like the 'trunc' function NOT 'floor'). This results in incorrect rounding for negative values. To keep the current behavior, use torch.div(a, b, rounding_mode='trunc'), or for actual floor division, use torch.div(a, b, rounding_mode='floor').\n",
            "  return (input_length - kernel_size) // stride + 1\n",
            "The following columns in the evaluation set  don't have a corresponding argument in `Wav2Vec2ForCTC.forward` and have been ignored: input_length.\n",
            "***** Running Evaluation *****\n",
            "  Num examples = 1647\n",
            "  Batch size = 8\n",
            "Saving model checkpoint to wav2vec2-large-xls-r-300m-turkish-colab/checkpoint-3200\n",
            "Configuration saved in wav2vec2-large-xls-r-300m-turkish-colab/checkpoint-3200/config.json\n",
            "Model weights saved in wav2vec2-large-xls-r-300m-turkish-colab/checkpoint-3200/pytorch_model.bin\n",
            "Configuration saved in wav2vec2-large-xls-r-300m-turkish-colab/checkpoint-3200/preprocessor_config.json\n",
            "Deleting older checkpoint [wav2vec2-large-xls-r-300m-turkish-colab/checkpoint-2400] due to args.save_total_limit\n",
            "/usr/local/lib/python3.7/dist-packages/transformers/models/wav2vec2/modeling_wav2vec2.py:882: UserWarning: __floordiv__ is deprecated, and its behavior will change in a future version of pytorch. It currently rounds toward 0 (like the 'trunc' function NOT 'floor'). This results in incorrect rounding for negative values. To keep the current behavior, use torch.div(a, b, rounding_mode='trunc'), or for actual floor division, use torch.div(a, b, rounding_mode='floor').\n",
            "  return (input_length - kernel_size) // stride + 1\n",
            "\n",
            "\n",
            "Training completed. Do not forget to share your model on huggingface.co/models =)\n",
            "\n",
            "\n"
          ]
        },
        {
          "data": {
            "text/plain": [
              "TrainOutput(global_step=3270, training_loss=0.5767540113641582, metrics={'train_runtime': 16918.4457, 'train_samples_per_second': 6.167, 'train_steps_per_second': 0.193, 'total_flos': 1.2873093995838829e+19, 'train_loss': 0.5767540113641582, 'epoch': 30.0})"
            ]
          },
          "execution_count": null,
          "metadata": {},
          "output_type": "execute_result"
        }
      ]
    },
    {
      "cell_type": "markdown",
      "metadata": {
        "id": "a9q4mgMZplr_"
      },
      "source": [
        "The training loss and validation WER go down nicely."
      ]
    },
    {
      "cell_type": "markdown",
      "metadata": {
        "id": "4Ya7WEy0pd13"
      },
      "source": [
        "You can now upload the result of the training to the 🤗 Hub, just execute this instruction:"
      ]
    },
    {
      "cell_type": "code",
      "metadata": {
        "colab": {
          "background_save": true,
          "referenced_widgets": [
            "2d2f71d2c70d466cb9a0d3317fb3095e",
            "2e894a5b95cb489db8b27c6617fd9533"
          ]
        },
        "id": "ArG1Thf6NBWm",
        "outputId": "62ef1c3d-786c-4e25-f9c5-4020e71aa298"
      },
      "source": [
        "trainer.push_to_hub()"
      ],
      "execution_count": null,
      "outputs": [
        {
          "name": "stderr",
          "output_type": "stream",
          "text": [
            "Saving model checkpoint to wav2vec2-large-xls-r-300m-turkish-colab\n",
            "Configuration saved in wav2vec2-large-xls-r-300m-turkish-colab/config.json\n",
            "Model weights saved in wav2vec2-large-xls-r-300m-turkish-colab/pytorch_model.bin\n",
            "Configuration saved in wav2vec2-large-xls-r-300m-turkish-colab/preprocessor_config.json\n",
            "Several commits (2) will be pushed upstream.\n",
            "The progress bars may be unreliable.\n"
          ]
        },
        {
          "data": {
            "application/vnd.jupyter.widget-view+json": {
              "model_id": "2d2f71d2c70d466cb9a0d3317fb3095e",
              "version_major": 2,
              "version_minor": 0
            },
            "text/plain": [
              "Upload file pytorch_model.bin:   0%|          | 3.35k/1.18G [00:00<?, ?B/s]"
            ]
          },
          "metadata": {},
          "output_type": "display_data"
        },
        {
          "data": {
            "application/vnd.jupyter.widget-view+json": {
              "model_id": "2e894a5b95cb489db8b27c6617fd9533",
              "version_major": 2,
              "version_minor": 0
            },
            "text/plain": [
              "Upload file runs/Nov12_14-33-48_c2d4142f9305/events.out.tfevents.1636727730.c2d4142f9305.1468.0:  41%|####1   …"
            ]
          },
          "metadata": {},
          "output_type": "display_data"
        },
        {
          "name": "stderr",
          "output_type": "stream",
          "text": [
            "To https://huggingface.co/patrickvonplaten/wav2vec2-large-xls-r-300m-turkish-colab\n",
            "   56ebe74..fe76946  main -> main\n",
            "\n",
            "Dropping the following result as it does not have all the necessary field:\n",
            "{'dataset': {'name': 'common_voice', 'type': 'common_voice', 'args': 'tr'}}\n",
            "To https://huggingface.co/patrickvonplaten/wav2vec2-large-xls-r-300m-turkish-colab\n",
            "   fe76946..5f0d67b  main -> main\n",
            "\n"
          ]
        },
        {
          "data": {
            "application/vnd.google.colaboratory.intrinsic+json": {
              "type": "string"
            },
            "text/plain": [
              "'https://huggingface.co/patrickvonplaten/wav2vec2-large-xls-r-300m-turkish-colab/commit/fe769461e4e2fb9534740e6c278a0cfabf268474'"
            ]
          },
          "execution_count": null,
          "metadata": {},
          "output_type": "execute_result"
        }
      ]
    },
    {
      "cell_type": "markdown",
      "metadata": {
        "id": "RHIVc44_fY2N"
      },
      "source": [
        "You can now share this model with all your friends, family, favorite pets: they can all load it with the identifier \"your-username/the-name-you-picked\" so for instance:"
      ]
    },
    {
      "cell_type": "markdown",
      "metadata": {
        "id": "5lWWIKyBpx1h"
      },
      "source": [
        "```python\n",
        "from transformers import AutoModelForCTC, Wav2Vec2Processor\n",
        "\n",
        "model = AutoModelForCTC.from_pretrained(\"patrickvonplaten/wav2vec2-large-xls-r-300m-tr-colab\")\n",
        "processor = Wav2Vec2Processor.from_pretrained(\"patrickvonplaten/wav2vec2-large-xls-r-300m-tr-colab\")\n",
        "```"
      ]
    },
    {
      "cell_type": "markdown",
      "metadata": {
        "id": "pmi1cX0fRBit"
      },
      "source": [
        "For more examples of how XLS-R can be fine-tuned, please take a look at the [official speech recognition examples](https://github.com/huggingface/transformers/tree/master/examples/pytorch/speech-recognition#examples)."
      ]
    },
    {
      "cell_type": "markdown",
      "metadata": {
        "id": "L8b8Qkoy3KyS"
      },
      "source": [
        "### Evaluation\n",
        "\n",
        "As a final check, let's load the model and verify that it indeed has learned to transcribe Turkish speech.\n",
        "\n",
        "Let's first load the pretrained checkpoint."
      ]
    },
    {
      "cell_type": "code",
      "metadata": {
        "colab": {
          "background_save": true
        },
        "id": "R351I9IQp_9D",
        "outputId": "f2a2ee99-7db6-4962-e140-0107054102d3"
      },
      "source": [
        "model = Wav2Vec2ForCTC.from_pretrained(repo_name).to(\"cuda\")\n",
        "processor = Wav2Vec2Processor.from_pretrained(repo_name)"
      ],
      "execution_count": null,
      "outputs": [
        {
          "name": "stderr",
          "output_type": "stream",
          "text": [
            "loading configuration file wav2vec2-large-xls-r-300m-turkish-colab/config.json\n",
            "Model config Wav2Vec2Config {\n",
            "  \"_name_or_path\": \"facebook/wav2vec2-xls-r-300m\",\n",
            "  \"activation_dropout\": 0.0,\n",
            "  \"apply_spec_augment\": true,\n",
            "  \"architectures\": [\n",
            "    \"Wav2Vec2ForCTC\"\n",
            "  ],\n",
            "  \"attention_dropout\": 0.0,\n",
            "  \"bos_token_id\": 1,\n",
            "  \"classifier_proj_size\": 256,\n",
            "  \"codevector_dim\": 768,\n",
            "  \"contrastive_logits_temperature\": 0.1,\n",
            "  \"conv_bias\": true,\n",
            "  \"conv_dim\": [\n",
            "    512,\n",
            "    512,\n",
            "    512,\n",
            "    512,\n",
            "    512,\n",
            "    512,\n",
            "    512\n",
            "  ],\n",
            "  \"conv_kernel\": [\n",
            "    10,\n",
            "    3,\n",
            "    3,\n",
            "    3,\n",
            "    3,\n",
            "    2,\n",
            "    2\n",
            "  ],\n",
            "  \"conv_stride\": [\n",
            "    5,\n",
            "    2,\n",
            "    2,\n",
            "    2,\n",
            "    2,\n",
            "    2,\n",
            "    2\n",
            "  ],\n",
            "  \"ctc_loss_reduction\": \"mean\",\n",
            "  \"ctc_zero_infinity\": false,\n",
            "  \"diversity_loss_weight\": 0.1,\n",
            "  \"do_stable_layer_norm\": true,\n",
            "  \"eos_token_id\": 2,\n",
            "  \"feat_extract_activation\": \"gelu\",\n",
            "  \"feat_extract_dropout\": 0.0,\n",
            "  \"feat_extract_norm\": \"layer\",\n",
            "  \"feat_proj_dropout\": 0.0,\n",
            "  \"feat_quantizer_dropout\": 0.0,\n",
            "  \"final_dropout\": 0.0,\n",
            "  \"gradient_checkpointing\": false,\n",
            "  \"hidden_act\": \"gelu\",\n",
            "  \"hidden_dropout\": 0.0,\n",
            "  \"hidden_size\": 1024,\n",
            "  \"initializer_range\": 0.02,\n",
            "  \"intermediate_size\": 4096,\n",
            "  \"layer_norm_eps\": 1e-05,\n",
            "  \"layerdrop\": 0.0,\n",
            "  \"mask_feature_length\": 10,\n",
            "  \"mask_feature_prob\": 0.0,\n",
            "  \"mask_time_length\": 10,\n",
            "  \"mask_time_prob\": 0.05,\n",
            "  \"model_type\": \"wav2vec2\",\n",
            "  \"num_attention_heads\": 16,\n",
            "  \"num_codevector_groups\": 2,\n",
            "  \"num_codevectors_per_group\": 320,\n",
            "  \"num_conv_pos_embedding_groups\": 16,\n",
            "  \"num_conv_pos_embeddings\": 128,\n",
            "  \"num_feat_extract_layers\": 7,\n",
            "  \"num_hidden_layers\": 24,\n",
            "  \"num_negatives\": 100,\n",
            "  \"pad_token_id\": 36,\n",
            "  \"proj_codevector_dim\": 768,\n",
            "  \"torch_dtype\": \"float32\",\n",
            "  \"transformers_version\": \"4.11.3\",\n",
            "  \"use_weighted_layer_sum\": false,\n",
            "  \"vocab_size\": 39\n",
            "}\n",
            "\n",
            "loading weights file wav2vec2-large-xls-r-300m-turkish-colab/pytorch_model.bin\n",
            "All model checkpoint weights were used when initializing Wav2Vec2ForCTC.\n",
            "\n",
            "All the weights of Wav2Vec2ForCTC were initialized from the model checkpoint at wav2vec2-large-xls-r-300m-turkish-colab.\n",
            "If your task is similar to the task the model of the checkpoint was trained on, you can already use Wav2Vec2ForCTC for predictions without further training.\n",
            "loading feature extractor configuration file wav2vec2-large-xls-r-300m-turkish-colab/preprocessor_config.json\n",
            "Feature extractor Wav2Vec2FeatureExtractor {\n",
            "  \"do_normalize\": true,\n",
            "  \"feature_extractor_type\": \"Wav2Vec2FeatureExtractor\",\n",
            "  \"feature_size\": 1,\n",
            "  \"padding_side\": \"right\",\n",
            "  \"padding_value\": 0.0,\n",
            "  \"return_attention_mask\": true,\n",
            "  \"sampling_rate\": 16000\n",
            "}\n",
            "\n",
            "Didn't find file wav2vec2-large-xls-r-300m-turkish-colab/tokenizer.json. We won't load it.\n",
            "loading file wav2vec2-large-xls-r-300m-turkish-colab/vocab.json\n",
            "loading file wav2vec2-large-xls-r-300m-turkish-colab/tokenizer_config.json\n",
            "loading file wav2vec2-large-xls-r-300m-turkish-colab/added_tokens.json\n",
            "loading file wav2vec2-large-xls-r-300m-turkish-colab/special_tokens_map.json\n",
            "loading file None\n",
            "Adding <s> to the vocabulary\n",
            "Adding </s> to the vocabulary\n"
          ]
        }
      ]
    },
    {
      "cell_type": "markdown",
      "metadata": {
        "id": "jD7TZ1YS3S_K"
      },
      "source": [
        "\n",
        "Now, we will just take the first example of the test set, run it through the model and take the `argmax(...)` of the logits to retrieve the predicted token ids."
      ]
    },
    {
      "cell_type": "code",
      "metadata": {
        "colab": {
          "background_save": true
        },
        "id": "pax07TnL3WZn",
        "outputId": "867787ff-0cb7-41e9-f926-96f7b53e7134"
      },
      "source": [
        "input_dict = processor(common_voice_test[0][\"input_values\"], return_tensors=\"pt\", padding=True)\n",
        "\n",
        "logits = model(input_dict.input_values.to(\"cuda\")).logits\n",
        "\n",
        "pred_ids = torch.argmax(logits, dim=-1)[0]"
      ],
      "execution_count": null,
      "outputs": [
        {
          "name": "stderr",
          "output_type": "stream",
          "text": [
            "It is strongly recommended to pass the ``sampling_rate`` argument to this function.Failing to do so can result in silent errors that might be hard to debug.\n"
          ]
        }
      ]
    },
    {
      "cell_type": "markdown",
      "metadata": {
        "id": "7nkzSQu53Zs2"
      },
      "source": [
        "We adapted `common_voice_test` quite a bit so that the dataset instance does not contain the original sentence label anymore. Thus, we re-use the original dataset to get the label of the first example."
      ]
    },
    {
      "cell_type": "code",
      "metadata": {
        "colab": {
          "background_save": true,
          "referenced_widgets": [
            "54097a6c744849128d7cc3da8aad6609",
            "b8827ecbec9e44f09216f62c1ee12840",
            "8728bb32478240b7abe576375b01e640",
            "19b8a530352a423794395979e6415bea",
            "5fc8ec04870e4bb7b63b20844c355ab6"
          ]
        },
        "id": "fe2AE-2xqKHx",
        "outputId": "1d8321b3-4f41-4d71-e74e-f33f32a7b261"
      },
      "source": [
        "common_voice_test_transcription = load_dataset(\"common_voice\", \"tr\", data_dir=\"./cv-corpus-6.1-2020-12-11\", split=\"test\")"
      ],
      "execution_count": null,
      "outputs": [
        {
          "name": "stderr",
          "output_type": "stream",
          "text": [
            "Using custom data configuration tr-ad9f7b76efa9f3a0\n"
          ]
        },
        {
          "name": "stdout",
          "output_type": "stream",
          "text": [
            "Downloading and preparing dataset common_voice/tr (download: 592.09 MiB, generated: 2.89 MiB, post-processed: Unknown size, total: 594.98 MiB) to /root/.cache/huggingface/datasets/common_voice/tr-ad9f7b76efa9f3a0/6.1.0/f7a9d973839b7706e9e281c19b7e512f31badf3c0fdbd21c671f3c4bf9acf3b9...\n"
          ]
        },
        {
          "data": {
            "application/vnd.jupyter.widget-view+json": {
              "model_id": "54097a6c744849128d7cc3da8aad6609",
              "version_major": 2,
              "version_minor": 0
            },
            "text/plain": [
              "0 examples [00:00, ? examples/s]"
            ]
          },
          "metadata": {},
          "output_type": "display_data"
        },
        {
          "data": {
            "application/vnd.jupyter.widget-view+json": {
              "model_id": "b8827ecbec9e44f09216f62c1ee12840",
              "version_major": 2,
              "version_minor": 0
            },
            "text/plain": [
              "0 examples [00:00, ? examples/s]"
            ]
          },
          "metadata": {},
          "output_type": "display_data"
        },
        {
          "data": {
            "application/vnd.jupyter.widget-view+json": {
              "model_id": "8728bb32478240b7abe576375b01e640",
              "version_major": 2,
              "version_minor": 0
            },
            "text/plain": [
              "0 examples [00:00, ? examples/s]"
            ]
          },
          "metadata": {},
          "output_type": "display_data"
        },
        {
          "data": {
            "application/vnd.jupyter.widget-view+json": {
              "model_id": "19b8a530352a423794395979e6415bea",
              "version_major": 2,
              "version_minor": 0
            },
            "text/plain": [
              "0 examples [00:00, ? examples/s]"
            ]
          },
          "metadata": {},
          "output_type": "display_data"
        },
        {
          "data": {
            "application/vnd.jupyter.widget-view+json": {
              "model_id": "5fc8ec04870e4bb7b63b20844c355ab6",
              "version_major": 2,
              "version_minor": 0
            },
            "text/plain": [
              "0 examples [00:00, ? examples/s]"
            ]
          },
          "metadata": {},
          "output_type": "display_data"
        },
        {
          "name": "stdout",
          "output_type": "stream",
          "text": [
            "Dataset common_voice downloaded and prepared to /root/.cache/huggingface/datasets/common_voice/tr-ad9f7b76efa9f3a0/6.1.0/f7a9d973839b7706e9e281c19b7e512f31badf3c0fdbd21c671f3c4bf9acf3b9. Subsequent calls will reuse this data.\n"
          ]
        }
      ]
    },
    {
      "cell_type": "markdown",
      "metadata": {
        "id": "epu8kCQZ3h70"
      },
      "source": [
        "\n",
        "Finally, we can decode the example."
      ]
    },
    {
      "cell_type": "code",
      "metadata": {
        "colab": {
          "background_save": true
        },
        "id": "K4xWqmk_qMn0",
        "outputId": "d9e40b3c-f02a-48a1-d081-6d7e8b37dcaf"
      },
      "source": [
        "print(\"Prediction:\")\n",
        "print(processor.decode(pred_ids))\n",
        "\n",
        "print(\"\\nReference:\")\n",
        "print(common_voice_test_transcription[0][\"sentence\"].lower())"
      ],
      "execution_count": null,
      "outputs": [
        {
          "name": "stdout",
          "output_type": "stream",
          "text": [
            "Prediction:\n",
            "ha ta küçük şeyleri için bir büyük biş şeylir koğoluyor ve yeneküçük şeyler için bir birmizi incilkiyoruz\n",
            "\n",
            "Reference:\n",
            "hayatta küçük şeyleri kovalıyor ve yine küçük şeyler için birbirimizi incitiyoruz.\n"
          ]
        }
      ]
    },
    {
      "cell_type": "markdown",
      "metadata": {
        "id": "HwhyoMml3oOT"
      },
      "source": [
        "Alright! The transcription can definitely be recognized from our prediction, but it is not perfect yet. Training the model a bit longer, spending more time on the data preprocessing, and especially using a language model for decoding would certainly improve the model's overall performance.\n",
        "\n",
        "For a demonstration model on a low-resource language, the results are quite acceptable however 🤗."
      ]
    }
  ]
}