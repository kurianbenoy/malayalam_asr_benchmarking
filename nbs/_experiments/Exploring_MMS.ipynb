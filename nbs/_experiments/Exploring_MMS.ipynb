{
 "cells": [
  {
   "cell_type": "code",
   "execution_count": null,
   "id": "8fd62c54-a2c8-4d42-90ab-fc6d09fe47ed",
   "metadata": {},
   "outputs": [],
   "source": [
    "from datasets import load_dataset, Audio\n",
    "from transformers import Wav2Vec2ForCTC, AutoProcessor\n",
    "import torch"
   ]
  },
  {
   "cell_type": "code",
   "execution_count": null,
   "id": "9a3d4652-c204-4176-ac80-32b54a715c5d",
   "metadata": {},
   "outputs": [],
   "source": [
    "# English\n",
    "stream_data = load_dataset(\"mozilla-foundation/common_voice_13_0\", \"en\", split=\"test\", streaming=True)\n",
    "stream_data = stream_data.cast_column(\"audio\", Audio(sampling_rate=16000))\n",
    "en_sample = next(iter(stream_data))[\"audio\"][\"array\"]\n",
    "\n",
    "# Malayalam\n",
    "stream_data = load_dataset(\"mozilla-foundation/common_voice_13_0\", \"ml\", split=\"test\", streaming=True)\n",
    "stream_data = stream_data.cast_column(\"audio\", Audio(sampling_rate=16000))\n",
    "ml_sample = next(iter(stream_data))[\"audio\"][\"array\"]"
   ]
  },
  {
   "cell_type": "code",
   "execution_count": null,
   "id": "2b8c278c-d242-4820-aa5e-44c9e1b7ea51",
   "metadata": {},
   "outputs": [],
   "source": [
    "model_id = \"facebook/mms-1b-fl102\"\n",
    "\n",
    "processor = AutoProcessor.from_pretrained(model_id)\n",
    "model = Wav2Vec2ForCTC.from_pretrained(model_id)"
   ]
  },
  {
   "cell_type": "code",
   "execution_count": null,
   "id": "d1baec0b-355f-4652-85ba-eca99f233552",
   "metadata": {},
   "outputs": [],
   "source": [
    "inputs = processor(en_sample, sampling_rate=16_000, return_tensors=\"pt\")\n",
    "\n",
    "with torch.no_grad():\n",
    "    outputs = model(**inputs).logits\n",
    "\n",
    "ids = torch.argmax(outputs, dim=-1)[0]\n",
    "transcription = processor.decode(ids)"
   ]
  },
  {
   "cell_type": "code",
   "execution_count": null,
   "id": "ececeedd-30b7-4db5-842d-cd9b4efde396",
   "metadata": {},
   "outputs": [],
   "source": [
    "transcription"
   ]
  },
  {
   "cell_type": "code",
   "execution_count": null,
   "id": "4e800c04-005b-491c-a787-227ef702603f",
   "metadata": {},
   "outputs": [],
   "source": [
    "processor.tokenizer.set_target_lang(\"mal\")\n",
    "model.load_adapter(\"mal\")\n",
    "\n",
    "inputs = processor(ml_sample, sampling_rate=16_000, return_tensors=\"pt\")\n",
    "\n",
    "with torch.no_grad():\n",
    "    outputs = model(**inputs).logits\n",
    "\n",
    "ids = torch.argmax(outputs, dim=-1)[0]\n",
    "transcription = processor.decode(ids)"
   ]
  },
  {
   "cell_type": "code",
   "execution_count": null,
   "id": "efb2b55f-3068-4090-a898-8f4ff0747cc7",
   "metadata": {},
   "outputs": [],
   "source": [
    "transcription"
   ]
  },
  {
   "cell_type": "code",
   "execution_count": null,
   "id": "58cb89c5-8f9f-44ca-baff-8b2611a6da83",
   "metadata": {},
   "outputs": [],
   "source": []
  }
 ],
 "metadata": {
  "kernelspec": {
   "display_name": "Python 3 (ipykernel)",
   "language": "python",
   "name": "python3"
  },
  "language_info": {
   "codemirror_mode": {
    "name": "ipython",
    "version": 3
   },
   "file_extension": ".py",
   "mimetype": "text/x-python",
   "name": "python",
   "nbconvert_exporter": "python",
   "pygments_lexer": "ipython3",
   "version": "3.10.12"
  }
 },
 "nbformat": 4,
 "nbformat_minor": 5
}
